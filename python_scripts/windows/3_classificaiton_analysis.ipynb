{
 "cells": [
  {
   "cell_type": "code",
   "execution_count": 128,
   "outputs": [],
   "source": [
    "import pandas as pd\n",
    "import numpy as np\n",
    "from sklearn.model_selection import LeaveOneOut\n",
    "from sklearn.linear_model import LogisticRegression\n",
    "from sklearn.svm import SVC\n",
    "from sklearn.metrics import accuracy_score\n",
    "from sklearn.model_selection import GroupKFold"
   ],
   "metadata": {
    "collapsed": false,
    "ExecuteTime": {
     "end_time": "2024-02-19T03:18:45.193953Z",
     "start_time": "2024-02-19T03:18:45.141970Z"
    }
   },
   "id": "467f7249f650e6f6"
  },
  {
   "cell_type": "markdown",
   "source": [
    "# Classification"
   ],
   "metadata": {
    "collapsed": false
   },
   "id": "cbb8871a0bd8cd9b"
  },
  {
   "cell_type": "code",
   "execution_count": 129,
   "id": "initial_id",
   "metadata": {
    "collapsed": true,
    "ExecuteTime": {
     "end_time": "2024-02-19T03:18:45.245885Z",
     "start_time": "2024-02-19T03:18:45.145645Z"
    }
   },
   "outputs": [],
   "source": [
    "final_dataset_path = '../../dataset/final/windows/'\n",
    "acc_dataset_path = final_dataset_path + 'PatchTable_Acceleration_Filtered.csv'\n",
    "gyro_dataset_path = final_dataset_path + 'PatchTable_Gyroscope_Filtered.csv'"
   ]
  },
  {
   "cell_type": "code",
   "execution_count": 130,
   "outputs": [],
   "source": [
    "acc_dataset_df = pd.read_csv(acc_dataset_path)\n",
    "gyro_dataset_df = pd.read_csv(gyro_dataset_path)\n",
    "acc_id_groupings = acc_dataset_df['Subject']\n",
    "gyro_id_groupings = gyro_dataset_df['Subject']"
   ],
   "metadata": {
    "collapsed": false,
    "ExecuteTime": {
     "end_time": "2024-02-19T03:18:45.271262Z",
     "start_time": "2024-02-19T03:18:45.149882Z"
    }
   },
   "id": "42563d981780aee8"
  },
  {
   "cell_type": "code",
   "execution_count": 131,
   "outputs": [
    {
     "data": {
      "text/plain": "      Subject  Class  CorssCorrelationSum_VTAP  CorssCorrelationPeak_VTAP  \\\n0           1      0                 -0.163081                  -0.662803   \n1           1      0                 -0.163483                  -0.668085   \n2           1      0                 -0.163548                  -0.668120   \n3           1      0                 -0.163525                  -0.668035   \n4           1      0                 -0.163469                  -0.667327   \n...       ...    ...                       ...                        ...   \n1875        6      1                 -0.152225                  -0.607692   \n1876        6      1                 -0.150379                  -0.623584   \n1877        6      1                 -0.148807                  -0.580757   \n1878        6      1                 -0.132307                  -0.612842   \n1879        6      1                 -0.097445                  -0.462252   \n\n      IndexHarmonicity_ML  FirstDerivativeMean_SigComplete_VT  \\\n0                0.528986                            0.475757   \n1               -0.364654                            0.090667   \n2               -0.362345                           -0.033453   \n3               -0.376434                            0.009309   \n4               13.995720                           -0.002560   \n...                   ...                                 ...   \n1875            -0.416798                           -0.867979   \n1876            -0.154285                           -0.524313   \n1877            -0.314912                            0.828930   \n1878            -0.367696                            1.526718   \n1879            -0.159370                           -0.589242   \n\n      FirstDerivative_Moment3rd_SigComplete_VT  \\\n0                                    -0.062359   \n1                                    -0.110018   \n2                                    -0.110054   \n3                                    -0.110064   \n4                                    -0.109835   \n...                                        ...   \n1875                                 -0.047874   \n1876                                 -0.062139   \n1877                                 -0.047780   \n1878                                 -0.039679   \n1879                                 -0.082862   \n\n      FirstDerivativeLogRatio_SigComplete_ML  \\\n0                                  -0.136782   \n1                                  -0.233595   \n2                                  -0.112613   \n3                                  -0.227149   \n4                                  -0.698540   \n...                                      ...   \n1875                                0.015603   \n1876                               -0.028567   \n1877                               -0.325827   \n1878                               -0.599088   \n1879                               -0.747619   \n\n      FirstDerivativeMean_SigComplete_AP  \\\n0                              -0.409614   \n1                              -0.054282   \n2                              -0.050146   \n3                              -0.042921   \n4                               0.162228   \n...                                  ...   \n1875                           -0.046169   \n1876                            0.040108   \n1877                           -0.340791   \n1878                           -2.453837   \n1879                            0.385179   \n\n      FirstDerivative_Skweness_SigComplete_AP  ...  \\\n0                                   -1.334350  ...   \n1                                   -1.066276  ...   \n2                                   -1.160794  ...   \n3                                   -1.174912  ...   \n4                                   -0.055198  ...   \n...                                       ...  ...   \n1875                                 0.002909  ...   \n1876                                 0.172652  ...   \n1877                                 0.078664  ...   \n1878                                -3.100024  ...   \n1879                                -1.746146  ...   \n\n      Mean_SigComplete_Magnitude  Skewness_SigComplete_Magnitude  \\\n0                      -0.035799                        1.275514   \n1                      -0.281341                       -0.695417   \n2                      -0.404884                       -0.490985   \n3                      -0.463610                       -0.346706   \n4                      -0.208414                        2.387815   \n...                          ...                             ...   \n1875                    0.185887                        0.225318   \n1876                    0.169964                        0.472963   \n1877                    0.280245                        0.255260   \n1878                    1.338794                        0.849419   \n1879                    0.541822                       -0.996311   \n\n      Percentile25_SigComplete_Magnitude  MaxFreqSpectrum_Below5Hz_Magnitude  \\\n0                               1.444325                           -0.116140   \n1                               1.432455                            0.408305   \n2                               1.412446                           -2.039106   \n3                               1.393891                           -2.039106   \n4                               1.407141                           -1.951699   \n...                                  ...                                 ...   \n1875                            0.462994                           -0.465771   \n1876                            0.627831                           -0.553178   \n1877                            0.389285                            1.194972   \n1878                            0.387508                            1.194972   \n1879                            0.311096                           -0.028733   \n\n      RelativePower_5To10Hz_Magnitude  RelativePower_BelowDomFr_Magnitude  \\\n0                            1.224695                           -0.156583   \n1                            1.251751                           -0.063859   \n2                            1.249730                            0.167928   \n3                            1.052092                            0.285549   \n4                           -1.596697                           -0.016023   \n...                               ...                                 ...   \n1875                         0.163099                           -0.191222   \n1876                         0.996511                           -0.178239   \n1877                         0.894499                           -0.184609   \n1878                         0.132428                           -0.083886   \n1879                         0.462755                           -0.246445   \n\n      MedianPSD_Plom_Magnitude  Moment3rdPSD_Plom_Magnitude  \\\n0                    -0.165272                    -0.146060   \n1                    -0.224007                    -0.146061   \n2                    -0.224137                    -0.146061   \n3                    -0.224224                    -0.146061   \n4                    -0.196872                    -0.146061   \n...                        ...                          ...   \n1875                 -0.209324                    -0.146017   \n1876                 -0.219464                    -0.146033   \n1877                 -0.166815                    -0.145960   \n1878                  0.621261                    -0.145660   \n1879                  0.025254                    -0.142805   \n\n      SkewnessPSD_Plom_Magnitude  ZeroCrossingRate_Magnitude  \n0                      -0.086591                   -1.771846  \n1                       0.952947                   -2.360037  \n2                       1.178809                   -2.654132  \n3                       1.203253                   -2.801180  \n4                       0.069855                   -3.095275  \n...                          ...                         ...  \n1875                   -0.295417                    0.580916  \n1876                    0.136042                   -0.007274  \n1877                   -0.002798                    0.139773  \n1878                   -0.065654                   -0.007274  \n1879                   -0.432434                   -0.154322  \n\n[1880 rows x 34 columns]",
      "text/html": "<div>\n<style scoped>\n    .dataframe tbody tr th:only-of-type {\n        vertical-align: middle;\n    }\n\n    .dataframe tbody tr th {\n        vertical-align: top;\n    }\n\n    .dataframe thead th {\n        text-align: right;\n    }\n</style>\n<table border=\"1\" class=\"dataframe\">\n  <thead>\n    <tr style=\"text-align: right;\">\n      <th></th>\n      <th>Subject</th>\n      <th>Class</th>\n      <th>CorssCorrelationSum_VTAP</th>\n      <th>CorssCorrelationPeak_VTAP</th>\n      <th>IndexHarmonicity_ML</th>\n      <th>FirstDerivativeMean_SigComplete_VT</th>\n      <th>FirstDerivative_Moment3rd_SigComplete_VT</th>\n      <th>FirstDerivativeLogRatio_SigComplete_ML</th>\n      <th>FirstDerivativeMean_SigComplete_AP</th>\n      <th>FirstDerivative_Skweness_SigComplete_AP</th>\n      <th>...</th>\n      <th>Mean_SigComplete_Magnitude</th>\n      <th>Skewness_SigComplete_Magnitude</th>\n      <th>Percentile25_SigComplete_Magnitude</th>\n      <th>MaxFreqSpectrum_Below5Hz_Magnitude</th>\n      <th>RelativePower_5To10Hz_Magnitude</th>\n      <th>RelativePower_BelowDomFr_Magnitude</th>\n      <th>MedianPSD_Plom_Magnitude</th>\n      <th>Moment3rdPSD_Plom_Magnitude</th>\n      <th>SkewnessPSD_Plom_Magnitude</th>\n      <th>ZeroCrossingRate_Magnitude</th>\n    </tr>\n  </thead>\n  <tbody>\n    <tr>\n      <th>0</th>\n      <td>1</td>\n      <td>0</td>\n      <td>-0.163081</td>\n      <td>-0.662803</td>\n      <td>0.528986</td>\n      <td>0.475757</td>\n      <td>-0.062359</td>\n      <td>-0.136782</td>\n      <td>-0.409614</td>\n      <td>-1.334350</td>\n      <td>...</td>\n      <td>-0.035799</td>\n      <td>1.275514</td>\n      <td>1.444325</td>\n      <td>-0.116140</td>\n      <td>1.224695</td>\n      <td>-0.156583</td>\n      <td>-0.165272</td>\n      <td>-0.146060</td>\n      <td>-0.086591</td>\n      <td>-1.771846</td>\n    </tr>\n    <tr>\n      <th>1</th>\n      <td>1</td>\n      <td>0</td>\n      <td>-0.163483</td>\n      <td>-0.668085</td>\n      <td>-0.364654</td>\n      <td>0.090667</td>\n      <td>-0.110018</td>\n      <td>-0.233595</td>\n      <td>-0.054282</td>\n      <td>-1.066276</td>\n      <td>...</td>\n      <td>-0.281341</td>\n      <td>-0.695417</td>\n      <td>1.432455</td>\n      <td>0.408305</td>\n      <td>1.251751</td>\n      <td>-0.063859</td>\n      <td>-0.224007</td>\n      <td>-0.146061</td>\n      <td>0.952947</td>\n      <td>-2.360037</td>\n    </tr>\n    <tr>\n      <th>2</th>\n      <td>1</td>\n      <td>0</td>\n      <td>-0.163548</td>\n      <td>-0.668120</td>\n      <td>-0.362345</td>\n      <td>-0.033453</td>\n      <td>-0.110054</td>\n      <td>-0.112613</td>\n      <td>-0.050146</td>\n      <td>-1.160794</td>\n      <td>...</td>\n      <td>-0.404884</td>\n      <td>-0.490985</td>\n      <td>1.412446</td>\n      <td>-2.039106</td>\n      <td>1.249730</td>\n      <td>0.167928</td>\n      <td>-0.224137</td>\n      <td>-0.146061</td>\n      <td>1.178809</td>\n      <td>-2.654132</td>\n    </tr>\n    <tr>\n      <th>3</th>\n      <td>1</td>\n      <td>0</td>\n      <td>-0.163525</td>\n      <td>-0.668035</td>\n      <td>-0.376434</td>\n      <td>0.009309</td>\n      <td>-0.110064</td>\n      <td>-0.227149</td>\n      <td>-0.042921</td>\n      <td>-1.174912</td>\n      <td>...</td>\n      <td>-0.463610</td>\n      <td>-0.346706</td>\n      <td>1.393891</td>\n      <td>-2.039106</td>\n      <td>1.052092</td>\n      <td>0.285549</td>\n      <td>-0.224224</td>\n      <td>-0.146061</td>\n      <td>1.203253</td>\n      <td>-2.801180</td>\n    </tr>\n    <tr>\n      <th>4</th>\n      <td>1</td>\n      <td>0</td>\n      <td>-0.163469</td>\n      <td>-0.667327</td>\n      <td>13.995720</td>\n      <td>-0.002560</td>\n      <td>-0.109835</td>\n      <td>-0.698540</td>\n      <td>0.162228</td>\n      <td>-0.055198</td>\n      <td>...</td>\n      <td>-0.208414</td>\n      <td>2.387815</td>\n      <td>1.407141</td>\n      <td>-1.951699</td>\n      <td>-1.596697</td>\n      <td>-0.016023</td>\n      <td>-0.196872</td>\n      <td>-0.146061</td>\n      <td>0.069855</td>\n      <td>-3.095275</td>\n    </tr>\n    <tr>\n      <th>...</th>\n      <td>...</td>\n      <td>...</td>\n      <td>...</td>\n      <td>...</td>\n      <td>...</td>\n      <td>...</td>\n      <td>...</td>\n      <td>...</td>\n      <td>...</td>\n      <td>...</td>\n      <td>...</td>\n      <td>...</td>\n      <td>...</td>\n      <td>...</td>\n      <td>...</td>\n      <td>...</td>\n      <td>...</td>\n      <td>...</td>\n      <td>...</td>\n      <td>...</td>\n      <td>...</td>\n    </tr>\n    <tr>\n      <th>1875</th>\n      <td>6</td>\n      <td>1</td>\n      <td>-0.152225</td>\n      <td>-0.607692</td>\n      <td>-0.416798</td>\n      <td>-0.867979</td>\n      <td>-0.047874</td>\n      <td>0.015603</td>\n      <td>-0.046169</td>\n      <td>0.002909</td>\n      <td>...</td>\n      <td>0.185887</td>\n      <td>0.225318</td>\n      <td>0.462994</td>\n      <td>-0.465771</td>\n      <td>0.163099</td>\n      <td>-0.191222</td>\n      <td>-0.209324</td>\n      <td>-0.146017</td>\n      <td>-0.295417</td>\n      <td>0.580916</td>\n    </tr>\n    <tr>\n      <th>1876</th>\n      <td>6</td>\n      <td>1</td>\n      <td>-0.150379</td>\n      <td>-0.623584</td>\n      <td>-0.154285</td>\n      <td>-0.524313</td>\n      <td>-0.062139</td>\n      <td>-0.028567</td>\n      <td>0.040108</td>\n      <td>0.172652</td>\n      <td>...</td>\n      <td>0.169964</td>\n      <td>0.472963</td>\n      <td>0.627831</td>\n      <td>-0.553178</td>\n      <td>0.996511</td>\n      <td>-0.178239</td>\n      <td>-0.219464</td>\n      <td>-0.146033</td>\n      <td>0.136042</td>\n      <td>-0.007274</td>\n    </tr>\n    <tr>\n      <th>1877</th>\n      <td>6</td>\n      <td>1</td>\n      <td>-0.148807</td>\n      <td>-0.580757</td>\n      <td>-0.314912</td>\n      <td>0.828930</td>\n      <td>-0.047780</td>\n      <td>-0.325827</td>\n      <td>-0.340791</td>\n      <td>0.078664</td>\n      <td>...</td>\n      <td>0.280245</td>\n      <td>0.255260</td>\n      <td>0.389285</td>\n      <td>1.194972</td>\n      <td>0.894499</td>\n      <td>-0.184609</td>\n      <td>-0.166815</td>\n      <td>-0.145960</td>\n      <td>-0.002798</td>\n      <td>0.139773</td>\n    </tr>\n    <tr>\n      <th>1878</th>\n      <td>6</td>\n      <td>1</td>\n      <td>-0.132307</td>\n      <td>-0.612842</td>\n      <td>-0.367696</td>\n      <td>1.526718</td>\n      <td>-0.039679</td>\n      <td>-0.599088</td>\n      <td>-2.453837</td>\n      <td>-3.100024</td>\n      <td>...</td>\n      <td>1.338794</td>\n      <td>0.849419</td>\n      <td>0.387508</td>\n      <td>1.194972</td>\n      <td>0.132428</td>\n      <td>-0.083886</td>\n      <td>0.621261</td>\n      <td>-0.145660</td>\n      <td>-0.065654</td>\n      <td>-0.007274</td>\n    </tr>\n    <tr>\n      <th>1879</th>\n      <td>6</td>\n      <td>1</td>\n      <td>-0.097445</td>\n      <td>-0.462252</td>\n      <td>-0.159370</td>\n      <td>-0.589242</td>\n      <td>-0.082862</td>\n      <td>-0.747619</td>\n      <td>0.385179</td>\n      <td>-1.746146</td>\n      <td>...</td>\n      <td>0.541822</td>\n      <td>-0.996311</td>\n      <td>0.311096</td>\n      <td>-0.028733</td>\n      <td>0.462755</td>\n      <td>-0.246445</td>\n      <td>0.025254</td>\n      <td>-0.142805</td>\n      <td>-0.432434</td>\n      <td>-0.154322</td>\n    </tr>\n  </tbody>\n</table>\n<p>1880 rows × 34 columns</p>\n</div>"
     },
     "execution_count": 131,
     "metadata": {},
     "output_type": "execute_result"
    }
   ],
   "source": [
    "acc_dataset_df"
   ],
   "metadata": {
    "collapsed": false,
    "ExecuteTime": {
     "end_time": "2024-02-19T03:18:45.271890Z",
     "start_time": "2024-02-19T03:18:45.166940Z"
    }
   },
   "id": "4eb8a8e4ec74a99c"
  },
  {
   "cell_type": "code",
   "execution_count": 132,
   "outputs": [],
   "source": [
    "acc_target = acc_dataset_df.iloc[:, 1].copy().values\n",
    "gyro_target = gyro_dataset_df.iloc[:, 1].copy().values\n",
    "acc_features = acc_dataset_df.iloc[:, 2:].copy().values\n",
    "gyro_features = gyro_dataset_df.iloc[:, 2:].copy().values"
   ],
   "metadata": {
    "collapsed": false,
    "ExecuteTime": {
     "end_time": "2024-02-19T03:18:45.271922Z",
     "start_time": "2024-02-19T03:18:45.178765Z"
    }
   },
   "id": "bb0f5e19f2095882"
  },
  {
   "cell_type": "code",
   "execution_count": 133,
   "outputs": [
    {
     "data": {
      "text/plain": "array([0, 0, 0, ..., 1, 1, 1])"
     },
     "execution_count": 133,
     "metadata": {},
     "output_type": "execute_result"
    }
   ],
   "source": [
    "acc_target"
   ],
   "metadata": {
    "collapsed": false,
    "ExecuteTime": {
     "end_time": "2024-02-19T03:18:45.275704Z",
     "start_time": "2024-02-19T03:18:45.182344Z"
    }
   },
   "id": "a96323232e2de5e1"
  },
  {
   "cell_type": "code",
   "execution_count": 134,
   "outputs": [
    {
     "data": {
      "text/plain": "array([[-2.2473824 ],\n       [-2.40179113],\n       [-0.51130823],\n       ...,\n       [ 1.62875632],\n       [ 1.86893121],\n       [ 1.12949507]])"
     },
     "execution_count": 134,
     "metadata": {},
     "output_type": "execute_result"
    }
   ],
   "source": [
    "gyro_features"
   ],
   "metadata": {
    "collapsed": false,
    "ExecuteTime": {
     "end_time": "2024-02-19T03:18:45.275931Z",
     "start_time": "2024-02-19T03:18:45.185135Z"
    }
   },
   "id": "c3a4f8acce85861e"
  },
  {
   "cell_type": "code",
   "execution_count": 135,
   "outputs": [
    {
     "data": {
      "text/plain": "array([[-0.16308055, -0.66280332,  0.52898562, ..., -0.14606049,\n        -0.08659125, -1.77184609],\n       [-0.16348274, -0.66808468, -0.36465441, ..., -0.14606052,\n         0.95294719, -2.36003673],\n       [-0.16354794, -0.66812018, -0.36234533, ..., -0.14606052,\n         1.17880867, -2.65413205],\n       ...,\n       [-0.14880737, -0.58075726, -0.31491191, ..., -0.14595968,\n        -0.00279838,  0.13977349],\n       [-0.13230664, -0.61284218, -0.36769616, ..., -0.14566017,\n        -0.06565436, -0.00727417],\n       [-0.09744461, -0.46225235, -0.15936994, ..., -0.14280522,\n        -0.43243434, -0.15432183]])"
     },
     "execution_count": 135,
     "metadata": {},
     "output_type": "execute_result"
    }
   ],
   "source": [
    "acc_features"
   ],
   "metadata": {
    "collapsed": false,
    "ExecuteTime": {
     "end_time": "2024-02-19T03:18:45.276097Z",
     "start_time": "2024-02-19T03:18:45.187882Z"
    }
   },
   "id": "316c554ef6f57ae7"
  },
  {
   "cell_type": "markdown",
   "source": [
    "### Logistic Regression"
   ],
   "metadata": {
    "collapsed": false
   },
   "id": "188e0b3925235e0e"
  },
  {
   "cell_type": "code",
   "execution_count": 136,
   "outputs": [
    {
     "name": "stdout",
     "output_type": "stream",
     "text": [
      "Cross-validated accuracy scores: [0.67623604 0.53403141 0.60431655 0.69708029 0.59247649]\n",
      "Mean accuracy: 0.6208281572062537\n",
      "Standard deviation of accuracy: 0.05915158005380044\n"
     ]
    }
   ],
   "source": [
    "from sklearn.model_selection import cross_val_score\n",
    "\n",
    "# Initialize GroupKFold with the number of splits\n",
    "gkf = GroupKFold(n_splits=5)\n",
    "\n",
    "# Initialize the logistic regression model\n",
    "model = LogisticRegression()\n",
    "\n",
    "# Perform cross-validation with GroupKFold\n",
    "scores = cross_val_score(model, acc_features, acc_target, cv=gkf, groups=acc_id_groupings, scoring='accuracy')\n",
    "\n",
    "# Print the scores\n",
    "print(\"Cross-validated accuracy scores:\", scores)\n",
    "print(\"Mean accuracy:\", np.mean(scores))\n",
    "print(\"Standard deviation of accuracy:\", np.std(scores))"
   ],
   "metadata": {
    "collapsed": false,
    "ExecuteTime": {
     "end_time": "2024-02-19T03:18:45.501529Z",
     "start_time": "2024-02-19T03:18:45.192532Z"
    }
   },
   "id": "b4901aa6daa94763"
  },
  {
   "cell_type": "code",
   "execution_count": 137,
   "outputs": [
    {
     "name": "stdout",
     "output_type": "stream",
     "text": [
      "Cross-validated accuracy scores: [0.64693878 0.5382263  0.60714286 0.58636364 0.61904762 0.51851852]\n",
      "Mean accuracy: 0.5860396177128374\n",
      "Final evaluation accuracy: 0.8085106382978723\n"
     ]
    }
   ],
   "source": [
    "from sklearn.model_selection import train_test_split\n",
    "\n",
    "# Split the data into training and testing sets\n",
    "X_train, X_test, y_train, y_test, groups_train, groups_test = train_test_split(acc_features, acc_target, acc_id_groupings, test_size=0.2, random_state=42)\n",
    "\n",
    "# Initialize GroupKFold with the number of splits\n",
    "gkf = GroupKFold(n_splits=6)\n",
    "\n",
    "# Initialize the logistic regression model\n",
    "model = SVC()\n",
    "\n",
    "# Perform cross-validation with GroupKFold\n",
    "cv_scores = cross_val_score(model, X_train, y_train, cv=gkf, groups=groups_train, scoring='accuracy')\n",
    "\n",
    "# Print cross-validation scores\n",
    "print(\"Cross-validated accuracy scores:\", cv_scores)\n",
    "print(\"Mean accuracy:\", cv_scores.mean())\n",
    "\n",
    "# Train the selected model on the full training set\n",
    "model.fit(X_train, y_train)\n",
    "\n",
    "# Evaluate the final model on the testing set\n",
    "final_accuracy = model.score(X_test, y_test)\n",
    "print(\"Final evaluation accuracy:\", final_accuracy)"
   ],
   "metadata": {
    "collapsed": false,
    "ExecuteTime": {
     "end_time": "2024-02-19T03:18:45.790477Z",
     "start_time": "2024-02-19T03:18:45.503178Z"
    }
   },
   "id": "8139989ea654f364"
  },
  {
   "cell_type": "markdown",
   "source": [
    "### Random Forest"
   ],
   "metadata": {
    "collapsed": false
   },
   "id": "4eb7beab264162fe"
  },
  {
   "cell_type": "markdown",
   "source": [
    "### Support Vector Machine "
   ],
   "metadata": {
    "collapsed": false
   },
   "id": "50f71207600cadd7"
  },
  {
   "cell_type": "code",
   "execution_count": 138,
   "outputs": [],
   "source": [
    "# Initialize the SVM model\n",
    "model = SVC(kernel='sigmoid')"
   ],
   "metadata": {
    "collapsed": false,
    "ExecuteTime": {
     "end_time": "2024-02-19T03:18:45.791605Z",
     "start_time": "2024-02-19T03:18:45.789129Z"
    }
   },
   "id": "6c970bf2784763d2"
  },
  {
   "cell_type": "code",
   "execution_count": 138,
   "outputs": [],
   "source": [],
   "metadata": {
    "collapsed": false,
    "ExecuteTime": {
     "end_time": "2024-02-19T03:18:45.793889Z",
     "start_time": "2024-02-19T03:18:45.791268Z"
    }
   },
   "id": "3242141bb71cf517"
  }
 ],
 "metadata": {
  "kernelspec": {
   "display_name": "Python 3",
   "language": "python",
   "name": "python3"
  },
  "language_info": {
   "codemirror_mode": {
    "name": "ipython",
    "version": 2
   },
   "file_extension": ".py",
   "mimetype": "text/x-python",
   "name": "python",
   "nbconvert_exporter": "python",
   "pygments_lexer": "ipython2",
   "version": "2.7.6"
  }
 },
 "nbformat": 4,
 "nbformat_minor": 5
}
