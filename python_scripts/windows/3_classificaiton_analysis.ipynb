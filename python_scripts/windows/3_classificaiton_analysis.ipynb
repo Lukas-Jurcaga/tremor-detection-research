{
 "cells": [
  {
   "cell_type": "code",
   "execution_count": 30,
   "outputs": [],
   "source": [
    "from python_scripts.utils.classification_funcs import *\n",
    "from sklearn.linear_model import LogisticRegression, Perceptron, PassiveAggressiveClassifier\n",
    "from sklearn.svm import SVC\n",
    "from sklearn.naive_bayes import GaussianNB, BernoulliNB\n",
    "from sklearn.tree import DecisionTreeClassifier\n",
    "from sklearn.ensemble import RandomForestClassifier, GradientBoostingClassifier, AdaBoostClassifier, ExtraTreesClassifier, VotingClassifier\n",
    "from sklearn.neighbors import KNeighborsClassifier\n",
    "from sklearn.neural_network import MLPClassifier\n",
    "from sklearn.gaussian_process import GaussianProcessClassifier\n",
    "from sklearn.discriminant_analysis import QuadraticDiscriminantAnalysis, LinearDiscriminantAnalysis\n",
    "import warnings\n",
    "warnings.filterwarnings(\"ignore\")"
   ],
   "metadata": {
    "collapsed": false,
    "ExecuteTime": {
     "end_time": "2024-02-20T23:29:18.246460Z",
     "start_time": "2024-02-20T23:29:18.216515Z"
    }
   },
   "id": "467f7249f650e6f6"
  },
  {
   "cell_type": "markdown",
   "source": [
    "# Classification Analysis\n",
    "This final notebook goes over the various classifiers used and tested on the three datasets. In total, 17 classifiers were used and evaluated using cross-validation where each of the six subject's data were used as a testing set."
   ],
   "metadata": {
    "collapsed": false
   },
   "id": "cbb8871a0bd8cd9b"
  },
  {
   "cell_type": "code",
   "execution_count": 31,
   "id": "initial_id",
   "metadata": {
    "collapsed": true,
    "ExecuteTime": {
     "end_time": "2024-02-20T23:29:18.248978Z",
     "start_time": "2024-02-20T23:29:18.220461Z"
    }
   },
   "outputs": [],
   "source": [
    "final_separate_dataset_path = '../../dataset/final/windows/separate/'\n",
    "final_combined_dataset_path = '../../dataset/final/windows/combined/'\n",
    "results_path = '../../results/'\n",
    "acc_dataset_path = final_separate_dataset_path + 'PatchTable_Acceleration_Filtered.csv'\n",
    "gyro_dataset_path = final_separate_dataset_path + 'PatchTable_Gyroscope_Filtered.csv'\n",
    "acc_gyro_dataset_path = final_combined_dataset_path + 'PatchTable_Acceleration_Gyroscope_Filtered.csv'"
   ]
  },
  {
   "cell_type": "code",
   "execution_count": 32,
   "outputs": [],
   "source": [
    "acc_dataset_df = pd.read_csv(acc_dataset_path)\n",
    "gyro_dataset_df = pd.read_csv(gyro_dataset_path)\n",
    "acc_gyro_dataset_df = pd.read_csv(acc_gyro_dataset_path)"
   ],
   "metadata": {
    "collapsed": false,
    "ExecuteTime": {
     "end_time": "2024-02-20T23:29:18.259588Z",
     "start_time": "2024-02-20T23:29:18.225362Z"
    }
   },
   "id": "65f08a53c94312cc"
  },
  {
   "cell_type": "code",
   "execution_count": 33,
   "outputs": [],
   "source": [
    "# Getting subject groupings for all three datasets\n",
    "acc_id_groupings = acc_dataset_df['Subject']\n",
    "gyro_id_groupings = gyro_dataset_df['Subject']\n",
    "acc_gyro_id_groupings = acc_gyro_dataset_df['Subject']"
   ],
   "metadata": {
    "collapsed": false,
    "ExecuteTime": {
     "end_time": "2024-02-20T23:29:18.259676Z",
     "start_time": "2024-02-20T23:29:18.243084Z"
    }
   },
   "id": "42563d981780aee8"
  },
  {
   "cell_type": "code",
   "execution_count": 34,
   "outputs": [],
   "source": [
    "# Getting features and target values for all three datasets\n",
    "acc_target = acc_dataset_df.iloc[:, 1].copy().values\n",
    "gyro_target = gyro_dataset_df.iloc[:, 1].copy().values\n",
    "acc_gyro_target = acc_gyro_dataset_df.iloc[:, 1].copy().values\n",
    "acc_features = acc_dataset_df.iloc[:, 2:].copy().values\n",
    "gyro_features = gyro_dataset_df.iloc[:, 2:].copy().values\n",
    "acc_gyro_features = acc_gyro_dataset_df.iloc[:, 2:].copy().values"
   ],
   "metadata": {
    "collapsed": false,
    "ExecuteTime": {
     "end_time": "2024-02-20T23:29:18.260391Z",
     "start_time": "2024-02-20T23:29:18.247789Z"
    }
   },
   "id": "bb0f5e19f2095882"
  },
  {
   "cell_type": "markdown",
   "source": [
    "## Testing All Models"
   ],
   "metadata": {
    "collapsed": false
   },
   "id": "e3df36bc951a7835"
  },
  {
   "cell_type": "code",
   "execution_count": 35,
   "outputs": [],
   "source": [
    "# All classification models that allow negative values for features\n",
    "models = {\n",
    "    'Logistic Regression': LogisticRegression(),\n",
    "    'Support Vector Machine': SVC(kernel='sigmoid'),\n",
    "    'Gaussian Naive Bayes': GaussianNB(),\n",
    "    'Bernoulli Naive Bayes': BernoulliNB(),\n",
    "    'Decision Tree': DecisionTreeClassifier(),\n",
    "    'Random Forest': RandomForestClassifier(),\n",
    "    'Gradient Boosting': GradientBoostingClassifier(),\n",
    "    'AdaBoost': AdaBoostClassifier(),\n",
    "    'Extra Trees': ExtraTreesClassifier(),\n",
    "    'Voting': VotingClassifier(estimators=[('lr', LogisticRegression()), ('dt', DecisionTreeClassifier()), ('knn', KNeighborsClassifier())]),\n",
    "    'k-Nearest Neighbors': KNeighborsClassifier(n_neighbors=11),\n",
    "    'Multi-layer Perceptron': MLPClassifier(max_iter=1000, hidden_layer_sizes=(2, 3, 2)),\n",
    "    'Gaussian Process': GaussianProcessClassifier(),\n",
    "    'Quadratic Discriminant Analysis': QuadraticDiscriminantAnalysis(),\n",
    "    'Linear Discriminant Analysis': LinearDiscriminantAnalysis(),\n",
    "    'Perceptron': Perceptron(),\n",
    "    'Passive Aggressive': PassiveAggressiveClassifier()\n",
    "}"
   ],
   "metadata": {
    "collapsed": false,
    "ExecuteTime": {
     "end_time": "2024-02-20T23:29:18.260414Z",
     "start_time": "2024-02-20T23:29:18.252215Z"
    }
   },
   "id": "eea4b78045e24cfb"
  },
  {
   "cell_type": "code",
   "execution_count": 36,
   "outputs": [],
   "source": [
    "# Evaluating Models on Acceleration Data\n",
    "all_model_scores_acc = get_model_scores(models, features=acc_features, target=acc_target, id_groupings=acc_id_groupings, groupk_folds=6)"
   ],
   "metadata": {
    "collapsed": false,
    "ExecuteTime": {
     "end_time": "2024-02-20T23:32:17.491884Z",
     "start_time": "2024-02-20T23:29:18.257809Z"
    }
   },
   "id": "ecccc52f118b9702"
  },
  {
   "cell_type": "code",
   "execution_count": 37,
   "outputs": [],
   "source": [
    "# Evaluating Models on Gyroscope Data\n",
    "all_model_scores_gyro = get_model_scores(models, features=gyro_features, target=gyro_target, id_groupings=gyro_id_groupings, groupk_folds=6)"
   ],
   "metadata": {
    "collapsed": false,
    "ExecuteTime": {
     "end_time": "2024-02-20T23:34:34.514377Z",
     "start_time": "2024-02-20T23:32:17.496802Z"
    }
   },
   "id": "286577398739ec52"
  },
  {
   "cell_type": "code",
   "execution_count": 38,
   "outputs": [],
   "source": [
    "# Evaluating Models on Acceleration and Gyroscope Data\n",
    "all_model_scores_acc_gyro = get_model_scores(models, features=acc_gyro_features, target=acc_gyro_target, id_groupings=acc_gyro_id_groupings, groupk_folds=6)"
   ],
   "metadata": {
    "collapsed": false,
    "ExecuteTime": {
     "end_time": "2024-02-20T23:37:28.174707Z",
     "start_time": "2024-02-20T23:34:34.513241Z"
    }
   },
   "id": "114d8cc2777f4d93"
  },
  {
   "cell_type": "markdown",
   "source": [
    "## Final Results"
   ],
   "metadata": {
    "collapsed": false
   },
   "id": "76134d21cd8f7c33"
  },
  {
   "cell_type": "markdown",
   "source": [
    "### Acceleration Data Results"
   ],
   "metadata": {
    "collapsed": false
   },
   "id": "88be23ea84061950"
  },
  {
   "cell_type": "code",
   "execution_count": 39,
   "outputs": [
    {
     "data": {
      "text/plain": "                              Model  Accuracy Precision Sensitivity  \\\n0               Logistic Regression  0.624847  0.618194    0.619095   \n1            Support Vector Machine  0.633188  0.616306    0.610036   \n2              Gaussian Naive Bayes  0.579185  0.605667     0.58201   \n3             Bernoulli Naive Bayes  0.586117  0.587931    0.586183   \n4                     Decision Tree  0.537144  0.527352    0.539442   \n5                     Random Forest  0.585863  0.573371     0.56377   \n6                 Gradient Boosting  0.575744  0.564392     0.56163   \n7                          AdaBoost  0.573327   0.56838    0.572235   \n8                       Extra Trees  0.589737  0.569181    0.574544   \n9                            Voting  0.600767  0.585471    0.581583   \n10              k-Nearest Neighbors  0.575823  0.562392    0.560232   \n11           Multi-layer Perceptron  0.582335  0.514303    0.547243   \n12                 Gaussian Process  0.559834  0.546824    0.546805   \n13  Quadratic Discriminant Analysis  0.580031  0.588187    0.582126   \n14     Linear Discriminant Analysis  0.611472  0.607769    0.601622   \n15                       Perceptron   0.61005  0.633987    0.629653   \n16               Passive Aggressive  0.576717  0.514797    0.581912   \n\n   Specificity        F1  \n0     0.540793   0.61009  \n1     0.484156  0.599424  \n2     0.750061  0.544592  \n3     0.496324  0.565818  \n4     0.439364   0.53165  \n5     0.394683  0.539265  \n6     0.435155  0.551393  \n7     0.519577  0.562507  \n8     0.403128  0.554536  \n9       0.4859  0.578101  \n10    0.453155  0.554476  \n11     0.46699  0.537707  \n12    0.452444  0.541419  \n13    0.658862  0.561389  \n14    0.491172  0.591499  \n15    0.600525  0.602282  \n16    0.577802  0.533281  ",
      "text/html": "<div>\n<style scoped>\n    .dataframe tbody tr th:only-of-type {\n        vertical-align: middle;\n    }\n\n    .dataframe tbody tr th {\n        vertical-align: top;\n    }\n\n    .dataframe thead th {\n        text-align: right;\n    }\n</style>\n<table border=\"1\" class=\"dataframe\">\n  <thead>\n    <tr style=\"text-align: right;\">\n      <th></th>\n      <th>Model</th>\n      <th>Accuracy</th>\n      <th>Precision</th>\n      <th>Sensitivity</th>\n      <th>Specificity</th>\n      <th>F1</th>\n    </tr>\n  </thead>\n  <tbody>\n    <tr>\n      <th>0</th>\n      <td>Logistic Regression</td>\n      <td>0.624847</td>\n      <td>0.618194</td>\n      <td>0.619095</td>\n      <td>0.540793</td>\n      <td>0.61009</td>\n    </tr>\n    <tr>\n      <th>1</th>\n      <td>Support Vector Machine</td>\n      <td>0.633188</td>\n      <td>0.616306</td>\n      <td>0.610036</td>\n      <td>0.484156</td>\n      <td>0.599424</td>\n    </tr>\n    <tr>\n      <th>2</th>\n      <td>Gaussian Naive Bayes</td>\n      <td>0.579185</td>\n      <td>0.605667</td>\n      <td>0.58201</td>\n      <td>0.750061</td>\n      <td>0.544592</td>\n    </tr>\n    <tr>\n      <th>3</th>\n      <td>Bernoulli Naive Bayes</td>\n      <td>0.586117</td>\n      <td>0.587931</td>\n      <td>0.586183</td>\n      <td>0.496324</td>\n      <td>0.565818</td>\n    </tr>\n    <tr>\n      <th>4</th>\n      <td>Decision Tree</td>\n      <td>0.537144</td>\n      <td>0.527352</td>\n      <td>0.539442</td>\n      <td>0.439364</td>\n      <td>0.53165</td>\n    </tr>\n    <tr>\n      <th>5</th>\n      <td>Random Forest</td>\n      <td>0.585863</td>\n      <td>0.573371</td>\n      <td>0.56377</td>\n      <td>0.394683</td>\n      <td>0.539265</td>\n    </tr>\n    <tr>\n      <th>6</th>\n      <td>Gradient Boosting</td>\n      <td>0.575744</td>\n      <td>0.564392</td>\n      <td>0.56163</td>\n      <td>0.435155</td>\n      <td>0.551393</td>\n    </tr>\n    <tr>\n      <th>7</th>\n      <td>AdaBoost</td>\n      <td>0.573327</td>\n      <td>0.56838</td>\n      <td>0.572235</td>\n      <td>0.519577</td>\n      <td>0.562507</td>\n    </tr>\n    <tr>\n      <th>8</th>\n      <td>Extra Trees</td>\n      <td>0.589737</td>\n      <td>0.569181</td>\n      <td>0.574544</td>\n      <td>0.403128</td>\n      <td>0.554536</td>\n    </tr>\n    <tr>\n      <th>9</th>\n      <td>Voting</td>\n      <td>0.600767</td>\n      <td>0.585471</td>\n      <td>0.581583</td>\n      <td>0.4859</td>\n      <td>0.578101</td>\n    </tr>\n    <tr>\n      <th>10</th>\n      <td>k-Nearest Neighbors</td>\n      <td>0.575823</td>\n      <td>0.562392</td>\n      <td>0.560232</td>\n      <td>0.453155</td>\n      <td>0.554476</td>\n    </tr>\n    <tr>\n      <th>11</th>\n      <td>Multi-layer Perceptron</td>\n      <td>0.582335</td>\n      <td>0.514303</td>\n      <td>0.547243</td>\n      <td>0.46699</td>\n      <td>0.537707</td>\n    </tr>\n    <tr>\n      <th>12</th>\n      <td>Gaussian Process</td>\n      <td>0.559834</td>\n      <td>0.546824</td>\n      <td>0.546805</td>\n      <td>0.452444</td>\n      <td>0.541419</td>\n    </tr>\n    <tr>\n      <th>13</th>\n      <td>Quadratic Discriminant Analysis</td>\n      <td>0.580031</td>\n      <td>0.588187</td>\n      <td>0.582126</td>\n      <td>0.658862</td>\n      <td>0.561389</td>\n    </tr>\n    <tr>\n      <th>14</th>\n      <td>Linear Discriminant Analysis</td>\n      <td>0.611472</td>\n      <td>0.607769</td>\n      <td>0.601622</td>\n      <td>0.491172</td>\n      <td>0.591499</td>\n    </tr>\n    <tr>\n      <th>15</th>\n      <td>Perceptron</td>\n      <td>0.61005</td>\n      <td>0.633987</td>\n      <td>0.629653</td>\n      <td>0.600525</td>\n      <td>0.602282</td>\n    </tr>\n    <tr>\n      <th>16</th>\n      <td>Passive Aggressive</td>\n      <td>0.576717</td>\n      <td>0.514797</td>\n      <td>0.581912</td>\n      <td>0.577802</td>\n      <td>0.533281</td>\n    </tr>\n  </tbody>\n</table>\n</div>"
     },
     "execution_count": 39,
     "metadata": {},
     "output_type": "execute_result"
    }
   ],
   "source": [
    "all_model_scores_acc"
   ],
   "metadata": {
    "collapsed": false,
    "ExecuteTime": {
     "end_time": "2024-02-20T23:37:28.192144Z",
     "start_time": "2024-02-20T23:37:28.180958Z"
    }
   },
   "id": "93f9b33efe8a7f63"
  },
  {
   "cell_type": "markdown",
   "source": [
    "### Gyroscope Data Results"
   ],
   "metadata": {
    "collapsed": false
   },
   "id": "1995540a34ffbc18"
  },
  {
   "cell_type": "code",
   "execution_count": 40,
   "outputs": [
    {
     "data": {
      "text/plain": "                              Model  Accuracy Precision Sensitivity  \\\n0               Logistic Regression  0.600973  0.596594    0.556517   \n1            Support Vector Machine  0.491224  0.480892    0.480854   \n2              Gaussian Naive Bayes   0.60224  0.598914    0.556426   \n3             Bernoulli Naive Bayes  0.557671  0.333354     0.52052   \n4                     Decision Tree  0.538741  0.523832    0.524615   \n5                     Random Forest  0.538741  0.523832     0.52416   \n6                 Gradient Boosting  0.585256   0.57093    0.538107   \n7                          AdaBoost   0.57861  0.579416    0.540821   \n8                       Extra Trees  0.536401  0.523509    0.521126   \n9                            Voting  0.570168  0.545178    0.539206   \n10              k-Nearest Neighbors  0.587068  0.568972    0.557064   \n11           Multi-layer Perceptron  0.611219  0.390673    0.516722   \n12                 Gaussian Process  0.604267  0.609473    0.557808   \n13  Quadratic Discriminant Analysis  0.602495  0.599123    0.556604   \n14     Linear Discriminant Analysis  0.600461  0.596197    0.556162   \n15                       Perceptron  0.456576  0.476418    0.493423   \n16               Passive Aggressive  0.564458  0.508121    0.508066   \n\n   Specificity        F1  \n0     0.243546  0.516311  \n1     0.383172   0.46968  \n2     0.240303  0.517205  \n3     0.130237  0.388592  \n4     0.431121  0.517526  \n5     0.431121  0.516255  \n6      0.21267  0.492399  \n7     0.229367  0.487922  \n8     0.419362  0.520145  \n9     0.320312  0.519353  \n10    0.339286  0.537505  \n11    0.083789  0.454973  \n12    0.232267  0.514051  \n13    0.240303  0.517403  \n14    0.243546  0.515908  \n15    0.474921  0.421058  \n16    0.577649  0.509896  ",
      "text/html": "<div>\n<style scoped>\n    .dataframe tbody tr th:only-of-type {\n        vertical-align: middle;\n    }\n\n    .dataframe tbody tr th {\n        vertical-align: top;\n    }\n\n    .dataframe thead th {\n        text-align: right;\n    }\n</style>\n<table border=\"1\" class=\"dataframe\">\n  <thead>\n    <tr style=\"text-align: right;\">\n      <th></th>\n      <th>Model</th>\n      <th>Accuracy</th>\n      <th>Precision</th>\n      <th>Sensitivity</th>\n      <th>Specificity</th>\n      <th>F1</th>\n    </tr>\n  </thead>\n  <tbody>\n    <tr>\n      <th>0</th>\n      <td>Logistic Regression</td>\n      <td>0.600973</td>\n      <td>0.596594</td>\n      <td>0.556517</td>\n      <td>0.243546</td>\n      <td>0.516311</td>\n    </tr>\n    <tr>\n      <th>1</th>\n      <td>Support Vector Machine</td>\n      <td>0.491224</td>\n      <td>0.480892</td>\n      <td>0.480854</td>\n      <td>0.383172</td>\n      <td>0.46968</td>\n    </tr>\n    <tr>\n      <th>2</th>\n      <td>Gaussian Naive Bayes</td>\n      <td>0.60224</td>\n      <td>0.598914</td>\n      <td>0.556426</td>\n      <td>0.240303</td>\n      <td>0.517205</td>\n    </tr>\n    <tr>\n      <th>3</th>\n      <td>Bernoulli Naive Bayes</td>\n      <td>0.557671</td>\n      <td>0.333354</td>\n      <td>0.52052</td>\n      <td>0.130237</td>\n      <td>0.388592</td>\n    </tr>\n    <tr>\n      <th>4</th>\n      <td>Decision Tree</td>\n      <td>0.538741</td>\n      <td>0.523832</td>\n      <td>0.524615</td>\n      <td>0.431121</td>\n      <td>0.517526</td>\n    </tr>\n    <tr>\n      <th>5</th>\n      <td>Random Forest</td>\n      <td>0.538741</td>\n      <td>0.523832</td>\n      <td>0.52416</td>\n      <td>0.431121</td>\n      <td>0.516255</td>\n    </tr>\n    <tr>\n      <th>6</th>\n      <td>Gradient Boosting</td>\n      <td>0.585256</td>\n      <td>0.57093</td>\n      <td>0.538107</td>\n      <td>0.21267</td>\n      <td>0.492399</td>\n    </tr>\n    <tr>\n      <th>7</th>\n      <td>AdaBoost</td>\n      <td>0.57861</td>\n      <td>0.579416</td>\n      <td>0.540821</td>\n      <td>0.229367</td>\n      <td>0.487922</td>\n    </tr>\n    <tr>\n      <th>8</th>\n      <td>Extra Trees</td>\n      <td>0.536401</td>\n      <td>0.523509</td>\n      <td>0.521126</td>\n      <td>0.419362</td>\n      <td>0.520145</td>\n    </tr>\n    <tr>\n      <th>9</th>\n      <td>Voting</td>\n      <td>0.570168</td>\n      <td>0.545178</td>\n      <td>0.539206</td>\n      <td>0.320312</td>\n      <td>0.519353</td>\n    </tr>\n    <tr>\n      <th>10</th>\n      <td>k-Nearest Neighbors</td>\n      <td>0.587068</td>\n      <td>0.568972</td>\n      <td>0.557064</td>\n      <td>0.339286</td>\n      <td>0.537505</td>\n    </tr>\n    <tr>\n      <th>11</th>\n      <td>Multi-layer Perceptron</td>\n      <td>0.611219</td>\n      <td>0.390673</td>\n      <td>0.516722</td>\n      <td>0.083789</td>\n      <td>0.454973</td>\n    </tr>\n    <tr>\n      <th>12</th>\n      <td>Gaussian Process</td>\n      <td>0.604267</td>\n      <td>0.609473</td>\n      <td>0.557808</td>\n      <td>0.232267</td>\n      <td>0.514051</td>\n    </tr>\n    <tr>\n      <th>13</th>\n      <td>Quadratic Discriminant Analysis</td>\n      <td>0.602495</td>\n      <td>0.599123</td>\n      <td>0.556604</td>\n      <td>0.240303</td>\n      <td>0.517403</td>\n    </tr>\n    <tr>\n      <th>14</th>\n      <td>Linear Discriminant Analysis</td>\n      <td>0.600461</td>\n      <td>0.596197</td>\n      <td>0.556162</td>\n      <td>0.243546</td>\n      <td>0.515908</td>\n    </tr>\n    <tr>\n      <th>15</th>\n      <td>Perceptron</td>\n      <td>0.456576</td>\n      <td>0.476418</td>\n      <td>0.493423</td>\n      <td>0.474921</td>\n      <td>0.421058</td>\n    </tr>\n    <tr>\n      <th>16</th>\n      <td>Passive Aggressive</td>\n      <td>0.564458</td>\n      <td>0.508121</td>\n      <td>0.508066</td>\n      <td>0.577649</td>\n      <td>0.509896</td>\n    </tr>\n  </tbody>\n</table>\n</div>"
     },
     "execution_count": 40,
     "metadata": {},
     "output_type": "execute_result"
    }
   ],
   "source": [
    "all_model_scores_gyro"
   ],
   "metadata": {
    "collapsed": false,
    "ExecuteTime": {
     "end_time": "2024-02-20T23:37:28.198954Z",
     "start_time": "2024-02-20T23:37:28.183471Z"
    }
   },
   "id": "f69c2a77ce9a2a2d"
  },
  {
   "cell_type": "markdown",
   "source": [
    "### Acceleration & Gyroscope Data Results"
   ],
   "metadata": {
    "collapsed": false
   },
   "id": "af066ac215f5b8c2"
  },
  {
   "cell_type": "code",
   "execution_count": 41,
   "outputs": [
    {
     "data": {
      "text/plain": "                              Model  Accuracy Precision Sensitivity  \\\n0               Logistic Regression   0.68087   0.66442    0.664469   \n1            Support Vector Machine  0.638351  0.636103    0.628499   \n2              Gaussian Naive Bayes  0.541568   0.59307    0.569729   \n3             Bernoulli Naive Bayes  0.649436  0.634087    0.635559   \n4                     Decision Tree  0.588203  0.591501    0.591295   \n5                     Random Forest  0.649554  0.620781    0.619796   \n6                 Gradient Boosting  0.626962  0.615692    0.619812   \n7                          AdaBoost  0.650552  0.639597    0.644885   \n8                       Extra Trees  0.624011  0.614738    0.631571   \n9                            Voting  0.636507  0.628635    0.626981   \n10              k-Nearest Neighbors  0.603127  0.590922    0.591566   \n11           Multi-layer Perceptron  0.643079  0.532899    0.639158   \n12                 Gaussian Process  0.638284  0.619987    0.617871   \n13  Quadratic Discriminant Analysis  0.580345   0.63057    0.606113   \n14     Linear Discriminant Analysis  0.682984  0.666894    0.665464   \n15                       Perceptron  0.623332  0.605382    0.599097   \n16               Passive Aggressive  0.624267  0.690353    0.553736   \n\n   Specificity        F1  \n0     0.591715   0.66226  \n1     0.578315  0.613428  \n2     0.836266   0.50946  \n3     0.530298  0.625079  \n4     0.584199  0.585263  \n5      0.55528    0.6279  \n6     0.563686  0.611524  \n7     0.636072  0.639263  \n8     0.550786   0.62591  \n9     0.596594  0.618159  \n10    0.571291  0.587279  \n11    0.595324   0.59091  \n12    0.568657  0.616802  \n13    0.843731  0.555957  \n14    0.606087  0.664569  \n15    0.499576  0.594144  \n16    0.678654   0.64678  ",
      "text/html": "<div>\n<style scoped>\n    .dataframe tbody tr th:only-of-type {\n        vertical-align: middle;\n    }\n\n    .dataframe tbody tr th {\n        vertical-align: top;\n    }\n\n    .dataframe thead th {\n        text-align: right;\n    }\n</style>\n<table border=\"1\" class=\"dataframe\">\n  <thead>\n    <tr style=\"text-align: right;\">\n      <th></th>\n      <th>Model</th>\n      <th>Accuracy</th>\n      <th>Precision</th>\n      <th>Sensitivity</th>\n      <th>Specificity</th>\n      <th>F1</th>\n    </tr>\n  </thead>\n  <tbody>\n    <tr>\n      <th>0</th>\n      <td>Logistic Regression</td>\n      <td>0.68087</td>\n      <td>0.66442</td>\n      <td>0.664469</td>\n      <td>0.591715</td>\n      <td>0.66226</td>\n    </tr>\n    <tr>\n      <th>1</th>\n      <td>Support Vector Machine</td>\n      <td>0.638351</td>\n      <td>0.636103</td>\n      <td>0.628499</td>\n      <td>0.578315</td>\n      <td>0.613428</td>\n    </tr>\n    <tr>\n      <th>2</th>\n      <td>Gaussian Naive Bayes</td>\n      <td>0.541568</td>\n      <td>0.59307</td>\n      <td>0.569729</td>\n      <td>0.836266</td>\n      <td>0.50946</td>\n    </tr>\n    <tr>\n      <th>3</th>\n      <td>Bernoulli Naive Bayes</td>\n      <td>0.649436</td>\n      <td>0.634087</td>\n      <td>0.635559</td>\n      <td>0.530298</td>\n      <td>0.625079</td>\n    </tr>\n    <tr>\n      <th>4</th>\n      <td>Decision Tree</td>\n      <td>0.588203</td>\n      <td>0.591501</td>\n      <td>0.591295</td>\n      <td>0.584199</td>\n      <td>0.585263</td>\n    </tr>\n    <tr>\n      <th>5</th>\n      <td>Random Forest</td>\n      <td>0.649554</td>\n      <td>0.620781</td>\n      <td>0.619796</td>\n      <td>0.55528</td>\n      <td>0.6279</td>\n    </tr>\n    <tr>\n      <th>6</th>\n      <td>Gradient Boosting</td>\n      <td>0.626962</td>\n      <td>0.615692</td>\n      <td>0.619812</td>\n      <td>0.563686</td>\n      <td>0.611524</td>\n    </tr>\n    <tr>\n      <th>7</th>\n      <td>AdaBoost</td>\n      <td>0.650552</td>\n      <td>0.639597</td>\n      <td>0.644885</td>\n      <td>0.636072</td>\n      <td>0.639263</td>\n    </tr>\n    <tr>\n      <th>8</th>\n      <td>Extra Trees</td>\n      <td>0.624011</td>\n      <td>0.614738</td>\n      <td>0.631571</td>\n      <td>0.550786</td>\n      <td>0.62591</td>\n    </tr>\n    <tr>\n      <th>9</th>\n      <td>Voting</td>\n      <td>0.636507</td>\n      <td>0.628635</td>\n      <td>0.626981</td>\n      <td>0.596594</td>\n      <td>0.618159</td>\n    </tr>\n    <tr>\n      <th>10</th>\n      <td>k-Nearest Neighbors</td>\n      <td>0.603127</td>\n      <td>0.590922</td>\n      <td>0.591566</td>\n      <td>0.571291</td>\n      <td>0.587279</td>\n    </tr>\n    <tr>\n      <th>11</th>\n      <td>Multi-layer Perceptron</td>\n      <td>0.643079</td>\n      <td>0.532899</td>\n      <td>0.639158</td>\n      <td>0.595324</td>\n      <td>0.59091</td>\n    </tr>\n    <tr>\n      <th>12</th>\n      <td>Gaussian Process</td>\n      <td>0.638284</td>\n      <td>0.619987</td>\n      <td>0.617871</td>\n      <td>0.568657</td>\n      <td>0.616802</td>\n    </tr>\n    <tr>\n      <th>13</th>\n      <td>Quadratic Discriminant Analysis</td>\n      <td>0.580345</td>\n      <td>0.63057</td>\n      <td>0.606113</td>\n      <td>0.843731</td>\n      <td>0.555957</td>\n    </tr>\n    <tr>\n      <th>14</th>\n      <td>Linear Discriminant Analysis</td>\n      <td>0.682984</td>\n      <td>0.666894</td>\n      <td>0.665464</td>\n      <td>0.606087</td>\n      <td>0.664569</td>\n    </tr>\n    <tr>\n      <th>15</th>\n      <td>Perceptron</td>\n      <td>0.623332</td>\n      <td>0.605382</td>\n      <td>0.599097</td>\n      <td>0.499576</td>\n      <td>0.594144</td>\n    </tr>\n    <tr>\n      <th>16</th>\n      <td>Passive Aggressive</td>\n      <td>0.624267</td>\n      <td>0.690353</td>\n      <td>0.553736</td>\n      <td>0.678654</td>\n      <td>0.64678</td>\n    </tr>\n  </tbody>\n</table>\n</div>"
     },
     "execution_count": 41,
     "metadata": {},
     "output_type": "execute_result"
    }
   ],
   "source": [
    "all_model_scores_acc_gyro"
   ],
   "metadata": {
    "collapsed": false,
    "ExecuteTime": {
     "end_time": "2024-02-20T23:37:28.199975Z",
     "start_time": "2024-02-20T23:37:28.190105Z"
    }
   },
   "id": "4973b57b5dda59f1"
  },
  {
   "cell_type": "markdown",
   "source": [
    "### Save to CSV"
   ],
   "metadata": {
    "collapsed": false
   },
   "id": "c76de8cc4a3bc9b5"
  },
  {
   "cell_type": "code",
   "execution_count": 42,
   "outputs": [],
   "source": [
    "all_model_scores_acc.to_csv(results_path + 'Acceleration_Tremor_Classification_Results.csv', index=False)\n",
    "all_model_scores_gyro.to_csv(results_path + 'Gyroscope_Tremor_Classification_Results.csv', index=False)\n",
    "all_model_scores_acc_gyro.to_csv(results_path + 'Acceleration_Gyroscope_Tremor_Classification_Results.csv', index=False)"
   ],
   "metadata": {
    "collapsed": false,
    "ExecuteTime": {
     "end_time": "2024-02-20T23:37:28.202942Z",
     "start_time": "2024-02-20T23:37:28.196599Z"
    }
   },
   "id": "a7798b34f05fae01"
  }
 ],
 "metadata": {
  "kernelspec": {
   "display_name": "Python 3",
   "language": "python",
   "name": "python3"
  },
  "language_info": {
   "codemirror_mode": {
    "name": "ipython",
    "version": 2
   },
   "file_extension": ".py",
   "mimetype": "text/x-python",
   "name": "python",
   "nbconvert_exporter": "python",
   "pygments_lexer": "ipython2",
   "version": "2.7.6"
  }
 },
 "nbformat": 4,
 "nbformat_minor": 5
}
