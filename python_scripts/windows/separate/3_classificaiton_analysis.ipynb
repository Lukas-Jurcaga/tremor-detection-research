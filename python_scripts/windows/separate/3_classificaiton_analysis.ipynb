{
 "cells": [
  {
   "cell_type": "code",
   "execution_count": 13,
   "outputs": [],
   "source": [
    "from python_scripts.utils.classification_evals import *\n",
    "from sklearn.linear_model import LogisticRegression, Perceptron, PassiveAggressiveClassifier\n",
    "from sklearn.svm import SVC\n",
    "from sklearn.naive_bayes import GaussianNB, BernoulliNB\n",
    "from sklearn.tree import DecisionTreeClassifier\n",
    "from sklearn.ensemble import RandomForestClassifier, GradientBoostingClassifier, AdaBoostClassifier, ExtraTreesClassifier, VotingClassifier\n",
    "from sklearn.neighbors import KNeighborsClassifier\n",
    "from sklearn.neural_network import MLPClassifier\n",
    "from sklearn.gaussian_process import GaussianProcessClassifier\n",
    "from sklearn.discriminant_analysis import QuadraticDiscriminantAnalysis, LinearDiscriminantAnalysis\n",
    "import warnings\n",
    "# warnings.filterwarnings(\"ignore\")"
   ],
   "metadata": {
    "collapsed": false,
    "ExecuteTime": {
     "end_time": "2024-02-20T20:52:54.640298Z",
     "start_time": "2024-02-20T20:52:54.343088Z"
    }
   },
   "id": "467f7249f650e6f6"
  },
  {
   "cell_type": "markdown",
   "source": [
    "# Classification"
   ],
   "metadata": {
    "collapsed": false
   },
   "id": "cbb8871a0bd8cd9b"
  },
  {
   "cell_type": "code",
   "execution_count": 14,
   "id": "initial_id",
   "metadata": {
    "collapsed": true,
    "ExecuteTime": {
     "end_time": "2024-02-20T20:52:54.640674Z",
     "start_time": "2024-02-20T20:52:54.344626Z"
    }
   },
   "outputs": [],
   "source": [
    "final_separate_dataset_path = '../../../dataset/final/windows/separate/'\n",
    "final_combined_dataset_path = '../../../dataset/final/windows/combined/'\n",
    "acc_dataset_path = final_separate_dataset_path + 'PatchTable_Acceleration_Filtered.csv'\n",
    "gyro_dataset_path = final_separate_dataset_path + 'PatchTable_Gyroscope_Filtered.csv'\n",
    "acc_gyro_dataset_path = final_combined_dataset_path + 'PatchTable_Acceleration_Gyroscope_Filtered.csv'"
   ]
  },
  {
   "cell_type": "code",
   "execution_count": 15,
   "outputs": [],
   "source": [
    "acc_dataset_df = pd.read_csv(acc_dataset_path)\n",
    "gyro_dataset_df = pd.read_csv(gyro_dataset_path)\n",
    "acc_gyro_dataset_df = pd.read_csv(acc_gyro_dataset_path)\n",
    "acc_id_groupings = acc_dataset_df['Subject']\n",
    "gyro_id_groupings = gyro_dataset_df['Subject']\n",
    "acc_gyro_id_groupings = acc_gyro_dataset_df['Subject']"
   ],
   "metadata": {
    "collapsed": false,
    "ExecuteTime": {
     "end_time": "2024-02-20T20:52:54.642178Z",
     "start_time": "2024-02-20T20:52:54.347497Z"
    }
   },
   "id": "42563d981780aee8"
  },
  {
   "cell_type": "code",
   "execution_count": 16,
   "outputs": [
    {
     "data": {
      "text/plain": "      Subject  Class  CorssCorrelationSum_VTAP  CorssCorrelationPeak_VTAP  \\\n0           1      0                 -0.163081                  -0.662803   \n1           1      0                 -0.163483                  -0.668085   \n2           1      0                 -0.163548                  -0.668120   \n3           1      0                 -0.163525                  -0.668035   \n4           1      0                 -0.163469                  -0.667327   \n...       ...    ...                       ...                        ...   \n1875        6      1                 -0.152225                  -0.607692   \n1876        6      1                 -0.150379                  -0.623584   \n1877        6      1                 -0.148807                  -0.580757   \n1878        6      1                 -0.132307                  -0.612842   \n1879        6      1                 -0.097445                  -0.462252   \n\n      IndexHarmonicity_ML  FirstDerivativeMean_SigComplete_VT  \\\n0                0.528986                            0.475757   \n1               -0.364654                            0.090667   \n2               -0.362345                           -0.033453   \n3               -0.376434                            0.009309   \n4               13.995720                           -0.002560   \n...                   ...                                 ...   \n1875            -0.416798                           -0.867979   \n1876            -0.154285                           -0.524313   \n1877            -0.314912                            0.828930   \n1878            -0.367696                            1.526718   \n1879            -0.159370                           -0.589242   \n\n      FirstDerivative_Moment3rd_SigComplete_VT  \\\n0                                    -0.062359   \n1                                    -0.110018   \n2                                    -0.110054   \n3                                    -0.110064   \n4                                    -0.109835   \n...                                        ...   \n1875                                 -0.047874   \n1876                                 -0.062139   \n1877                                 -0.047780   \n1878                                 -0.039679   \n1879                                 -0.082862   \n\n      FirstDerivativeLogRatio_SigComplete_ML  \\\n0                                  -0.136782   \n1                                  -0.233595   \n2                                  -0.112613   \n3                                  -0.227149   \n4                                  -0.698540   \n...                                      ...   \n1875                                0.015603   \n1876                               -0.028567   \n1877                               -0.325827   \n1878                               -0.599088   \n1879                               -0.747619   \n\n      FirstDerivativeMean_SigComplete_AP  \\\n0                              -0.409614   \n1                              -0.054282   \n2                              -0.050146   \n3                              -0.042921   \n4                               0.162228   \n...                                  ...   \n1875                           -0.046169   \n1876                            0.040108   \n1877                           -0.340791   \n1878                           -2.453837   \n1879                            0.385179   \n\n      FirstDerivative_Skweness_SigComplete_AP  ...  ZeroCrossingRate_AP  \\\n0                                   -1.334350  ...             0.733053   \n1                                   -1.066276  ...             0.629589   \n2                                   -1.160794  ...             0.422661   \n3                                   -1.174912  ...            -0.301586   \n4                                   -0.055198  ...            -0.508514   \n...                                       ...  ...                  ...   \n1875                                 0.002909  ...             0.733053   \n1876                                 0.172652  ...            -0.301586   \n1877                                 0.078664  ...            -0.508514   \n1878                                -3.100024  ...            -1.025834   \n1879                                -1.746146  ...            -1.025834   \n\n      Mean_SigComplete_Magnitude  Skewness_SigComplete_Magnitude  \\\n0                      -0.035799                        1.275514   \n1                      -0.281341                       -0.695417   \n2                      -0.404884                       -0.490985   \n3                      -0.463610                       -0.346706   \n4                      -0.208414                        2.387815   \n...                          ...                             ...   \n1875                    0.185887                        0.225318   \n1876                    0.169964                        0.472963   \n1877                    0.280245                        0.255260   \n1878                    1.338794                        0.849419   \n1879                    0.541822                       -0.996311   \n\n      Percentile25_SigComplete_Magnitude  MaxFreqSpectrum_Below5Hz_Magnitude  \\\n0                               1.444325                           -0.116140   \n1                               1.432455                            0.408305   \n2                               1.412446                           -2.039106   \n3                               1.393891                           -2.039106   \n4                               1.407141                           -1.951699   \n...                                  ...                                 ...   \n1875                            0.462994                           -0.465771   \n1876                            0.627831                           -0.553178   \n1877                            0.389285                            1.194972   \n1878                            0.387508                            1.194972   \n1879                            0.311096                           -0.028733   \n\n      RelativePower_BelowDomFr_Magnitude  MedianPSD_Plom_Magnitude  \\\n0                              -0.156583                 -0.165272   \n1                              -0.063859                 -0.224007   \n2                               0.167928                 -0.224137   \n3                               0.285549                 -0.224224   \n4                              -0.016023                 -0.196872   \n...                                  ...                       ...   \n1875                           -0.191222                 -0.209324   \n1876                           -0.178239                 -0.219464   \n1877                           -0.184609                 -0.166815   \n1878                           -0.083886                  0.621261   \n1879                           -0.246445                  0.025254   \n\n      Moment3rdPSD_Plom_Magnitude  SkewnessPSD_Plom_Magnitude  \\\n0                       -0.146060                   -0.086591   \n1                       -0.146061                    0.952947   \n2                       -0.146061                    1.178809   \n3                       -0.146061                    1.203253   \n4                       -0.146061                    0.069855   \n...                           ...                         ...   \n1875                    -0.146017                   -0.295417   \n1876                    -0.146033                    0.136042   \n1877                    -0.145960                   -0.002798   \n1878                    -0.145660                   -0.065654   \n1879                    -0.142805                   -0.432434   \n\n      ZeroCrossingRate_Magnitude  \n0                      -1.771846  \n1                      -2.360037  \n2                      -2.654132  \n3                      -2.801180  \n4                      -3.095275  \n...                          ...  \n1875                    0.580916  \n1876                   -0.007274  \n1877                    0.139773  \n1878                   -0.007274  \n1879                   -0.154322  \n\n[1880 rows x 32 columns]",
      "text/html": "<div>\n<style scoped>\n    .dataframe tbody tr th:only-of-type {\n        vertical-align: middle;\n    }\n\n    .dataframe tbody tr th {\n        vertical-align: top;\n    }\n\n    .dataframe thead th {\n        text-align: right;\n    }\n</style>\n<table border=\"1\" class=\"dataframe\">\n  <thead>\n    <tr style=\"text-align: right;\">\n      <th></th>\n      <th>Subject</th>\n      <th>Class</th>\n      <th>CorssCorrelationSum_VTAP</th>\n      <th>CorssCorrelationPeak_VTAP</th>\n      <th>IndexHarmonicity_ML</th>\n      <th>FirstDerivativeMean_SigComplete_VT</th>\n      <th>FirstDerivative_Moment3rd_SigComplete_VT</th>\n      <th>FirstDerivativeLogRatio_SigComplete_ML</th>\n      <th>FirstDerivativeMean_SigComplete_AP</th>\n      <th>FirstDerivative_Skweness_SigComplete_AP</th>\n      <th>...</th>\n      <th>ZeroCrossingRate_AP</th>\n      <th>Mean_SigComplete_Magnitude</th>\n      <th>Skewness_SigComplete_Magnitude</th>\n      <th>Percentile25_SigComplete_Magnitude</th>\n      <th>MaxFreqSpectrum_Below5Hz_Magnitude</th>\n      <th>RelativePower_BelowDomFr_Magnitude</th>\n      <th>MedianPSD_Plom_Magnitude</th>\n      <th>Moment3rdPSD_Plom_Magnitude</th>\n      <th>SkewnessPSD_Plom_Magnitude</th>\n      <th>ZeroCrossingRate_Magnitude</th>\n    </tr>\n  </thead>\n  <tbody>\n    <tr>\n      <th>0</th>\n      <td>1</td>\n      <td>0</td>\n      <td>-0.163081</td>\n      <td>-0.662803</td>\n      <td>0.528986</td>\n      <td>0.475757</td>\n      <td>-0.062359</td>\n      <td>-0.136782</td>\n      <td>-0.409614</td>\n      <td>-1.334350</td>\n      <td>...</td>\n      <td>0.733053</td>\n      <td>-0.035799</td>\n      <td>1.275514</td>\n      <td>1.444325</td>\n      <td>-0.116140</td>\n      <td>-0.156583</td>\n      <td>-0.165272</td>\n      <td>-0.146060</td>\n      <td>-0.086591</td>\n      <td>-1.771846</td>\n    </tr>\n    <tr>\n      <th>1</th>\n      <td>1</td>\n      <td>0</td>\n      <td>-0.163483</td>\n      <td>-0.668085</td>\n      <td>-0.364654</td>\n      <td>0.090667</td>\n      <td>-0.110018</td>\n      <td>-0.233595</td>\n      <td>-0.054282</td>\n      <td>-1.066276</td>\n      <td>...</td>\n      <td>0.629589</td>\n      <td>-0.281341</td>\n      <td>-0.695417</td>\n      <td>1.432455</td>\n      <td>0.408305</td>\n      <td>-0.063859</td>\n      <td>-0.224007</td>\n      <td>-0.146061</td>\n      <td>0.952947</td>\n      <td>-2.360037</td>\n    </tr>\n    <tr>\n      <th>2</th>\n      <td>1</td>\n      <td>0</td>\n      <td>-0.163548</td>\n      <td>-0.668120</td>\n      <td>-0.362345</td>\n      <td>-0.033453</td>\n      <td>-0.110054</td>\n      <td>-0.112613</td>\n      <td>-0.050146</td>\n      <td>-1.160794</td>\n      <td>...</td>\n      <td>0.422661</td>\n      <td>-0.404884</td>\n      <td>-0.490985</td>\n      <td>1.412446</td>\n      <td>-2.039106</td>\n      <td>0.167928</td>\n      <td>-0.224137</td>\n      <td>-0.146061</td>\n      <td>1.178809</td>\n      <td>-2.654132</td>\n    </tr>\n    <tr>\n      <th>3</th>\n      <td>1</td>\n      <td>0</td>\n      <td>-0.163525</td>\n      <td>-0.668035</td>\n      <td>-0.376434</td>\n      <td>0.009309</td>\n      <td>-0.110064</td>\n      <td>-0.227149</td>\n      <td>-0.042921</td>\n      <td>-1.174912</td>\n      <td>...</td>\n      <td>-0.301586</td>\n      <td>-0.463610</td>\n      <td>-0.346706</td>\n      <td>1.393891</td>\n      <td>-2.039106</td>\n      <td>0.285549</td>\n      <td>-0.224224</td>\n      <td>-0.146061</td>\n      <td>1.203253</td>\n      <td>-2.801180</td>\n    </tr>\n    <tr>\n      <th>4</th>\n      <td>1</td>\n      <td>0</td>\n      <td>-0.163469</td>\n      <td>-0.667327</td>\n      <td>13.995720</td>\n      <td>-0.002560</td>\n      <td>-0.109835</td>\n      <td>-0.698540</td>\n      <td>0.162228</td>\n      <td>-0.055198</td>\n      <td>...</td>\n      <td>-0.508514</td>\n      <td>-0.208414</td>\n      <td>2.387815</td>\n      <td>1.407141</td>\n      <td>-1.951699</td>\n      <td>-0.016023</td>\n      <td>-0.196872</td>\n      <td>-0.146061</td>\n      <td>0.069855</td>\n      <td>-3.095275</td>\n    </tr>\n    <tr>\n      <th>...</th>\n      <td>...</td>\n      <td>...</td>\n      <td>...</td>\n      <td>...</td>\n      <td>...</td>\n      <td>...</td>\n      <td>...</td>\n      <td>...</td>\n      <td>...</td>\n      <td>...</td>\n      <td>...</td>\n      <td>...</td>\n      <td>...</td>\n      <td>...</td>\n      <td>...</td>\n      <td>...</td>\n      <td>...</td>\n      <td>...</td>\n      <td>...</td>\n      <td>...</td>\n      <td>...</td>\n    </tr>\n    <tr>\n      <th>1875</th>\n      <td>6</td>\n      <td>1</td>\n      <td>-0.152225</td>\n      <td>-0.607692</td>\n      <td>-0.416798</td>\n      <td>-0.867979</td>\n      <td>-0.047874</td>\n      <td>0.015603</td>\n      <td>-0.046169</td>\n      <td>0.002909</td>\n      <td>...</td>\n      <td>0.733053</td>\n      <td>0.185887</td>\n      <td>0.225318</td>\n      <td>0.462994</td>\n      <td>-0.465771</td>\n      <td>-0.191222</td>\n      <td>-0.209324</td>\n      <td>-0.146017</td>\n      <td>-0.295417</td>\n      <td>0.580916</td>\n    </tr>\n    <tr>\n      <th>1876</th>\n      <td>6</td>\n      <td>1</td>\n      <td>-0.150379</td>\n      <td>-0.623584</td>\n      <td>-0.154285</td>\n      <td>-0.524313</td>\n      <td>-0.062139</td>\n      <td>-0.028567</td>\n      <td>0.040108</td>\n      <td>0.172652</td>\n      <td>...</td>\n      <td>-0.301586</td>\n      <td>0.169964</td>\n      <td>0.472963</td>\n      <td>0.627831</td>\n      <td>-0.553178</td>\n      <td>-0.178239</td>\n      <td>-0.219464</td>\n      <td>-0.146033</td>\n      <td>0.136042</td>\n      <td>-0.007274</td>\n    </tr>\n    <tr>\n      <th>1877</th>\n      <td>6</td>\n      <td>1</td>\n      <td>-0.148807</td>\n      <td>-0.580757</td>\n      <td>-0.314912</td>\n      <td>0.828930</td>\n      <td>-0.047780</td>\n      <td>-0.325827</td>\n      <td>-0.340791</td>\n      <td>0.078664</td>\n      <td>...</td>\n      <td>-0.508514</td>\n      <td>0.280245</td>\n      <td>0.255260</td>\n      <td>0.389285</td>\n      <td>1.194972</td>\n      <td>-0.184609</td>\n      <td>-0.166815</td>\n      <td>-0.145960</td>\n      <td>-0.002798</td>\n      <td>0.139773</td>\n    </tr>\n    <tr>\n      <th>1878</th>\n      <td>6</td>\n      <td>1</td>\n      <td>-0.132307</td>\n      <td>-0.612842</td>\n      <td>-0.367696</td>\n      <td>1.526718</td>\n      <td>-0.039679</td>\n      <td>-0.599088</td>\n      <td>-2.453837</td>\n      <td>-3.100024</td>\n      <td>...</td>\n      <td>-1.025834</td>\n      <td>1.338794</td>\n      <td>0.849419</td>\n      <td>0.387508</td>\n      <td>1.194972</td>\n      <td>-0.083886</td>\n      <td>0.621261</td>\n      <td>-0.145660</td>\n      <td>-0.065654</td>\n      <td>-0.007274</td>\n    </tr>\n    <tr>\n      <th>1879</th>\n      <td>6</td>\n      <td>1</td>\n      <td>-0.097445</td>\n      <td>-0.462252</td>\n      <td>-0.159370</td>\n      <td>-0.589242</td>\n      <td>-0.082862</td>\n      <td>-0.747619</td>\n      <td>0.385179</td>\n      <td>-1.746146</td>\n      <td>...</td>\n      <td>-1.025834</td>\n      <td>0.541822</td>\n      <td>-0.996311</td>\n      <td>0.311096</td>\n      <td>-0.028733</td>\n      <td>-0.246445</td>\n      <td>0.025254</td>\n      <td>-0.142805</td>\n      <td>-0.432434</td>\n      <td>-0.154322</td>\n    </tr>\n  </tbody>\n</table>\n<p>1880 rows × 32 columns</p>\n</div>"
     },
     "execution_count": 16,
     "metadata": {},
     "output_type": "execute_result"
    }
   ],
   "source": [
    "acc_dataset_df"
   ],
   "metadata": {
    "collapsed": false,
    "ExecuteTime": {
     "end_time": "2024-02-20T20:52:54.649103Z",
     "start_time": "2024-02-20T20:52:54.366626Z"
    }
   },
   "id": "4eb8a8e4ec74a99c"
  },
  {
   "cell_type": "code",
   "execution_count": 17,
   "outputs": [
    {
     "data": {
      "text/plain": "      Subject  Class  RelativePower_Below5Hz_Magnitude\n0           1      0                         -2.247382\n1           1      0                         -2.401791\n2           1      0                         -0.511308\n3           1      0                         -0.713828\n4           1      0                          0.242117\n...       ...    ...                               ...\n2054        6      1                          0.432625\n2055        6      1                          0.203724\n2056        6      1                          1.628756\n2057        6      1                          1.868931\n2058        6      1                          1.129495\n\n[2059 rows x 3 columns]",
      "text/html": "<div>\n<style scoped>\n    .dataframe tbody tr th:only-of-type {\n        vertical-align: middle;\n    }\n\n    .dataframe tbody tr th {\n        vertical-align: top;\n    }\n\n    .dataframe thead th {\n        text-align: right;\n    }\n</style>\n<table border=\"1\" class=\"dataframe\">\n  <thead>\n    <tr style=\"text-align: right;\">\n      <th></th>\n      <th>Subject</th>\n      <th>Class</th>\n      <th>RelativePower_Below5Hz_Magnitude</th>\n    </tr>\n  </thead>\n  <tbody>\n    <tr>\n      <th>0</th>\n      <td>1</td>\n      <td>0</td>\n      <td>-2.247382</td>\n    </tr>\n    <tr>\n      <th>1</th>\n      <td>1</td>\n      <td>0</td>\n      <td>-2.401791</td>\n    </tr>\n    <tr>\n      <th>2</th>\n      <td>1</td>\n      <td>0</td>\n      <td>-0.511308</td>\n    </tr>\n    <tr>\n      <th>3</th>\n      <td>1</td>\n      <td>0</td>\n      <td>-0.713828</td>\n    </tr>\n    <tr>\n      <th>4</th>\n      <td>1</td>\n      <td>0</td>\n      <td>0.242117</td>\n    </tr>\n    <tr>\n      <th>...</th>\n      <td>...</td>\n      <td>...</td>\n      <td>...</td>\n    </tr>\n    <tr>\n      <th>2054</th>\n      <td>6</td>\n      <td>1</td>\n      <td>0.432625</td>\n    </tr>\n    <tr>\n      <th>2055</th>\n      <td>6</td>\n      <td>1</td>\n      <td>0.203724</td>\n    </tr>\n    <tr>\n      <th>2056</th>\n      <td>6</td>\n      <td>1</td>\n      <td>1.628756</td>\n    </tr>\n    <tr>\n      <th>2057</th>\n      <td>6</td>\n      <td>1</td>\n      <td>1.868931</td>\n    </tr>\n    <tr>\n      <th>2058</th>\n      <td>6</td>\n      <td>1</td>\n      <td>1.129495</td>\n    </tr>\n  </tbody>\n</table>\n<p>2059 rows × 3 columns</p>\n</div>"
     },
     "execution_count": 17,
     "metadata": {},
     "output_type": "execute_result"
    }
   ],
   "source": [
    "gyro_dataset_df"
   ],
   "metadata": {
    "collapsed": false,
    "ExecuteTime": {
     "end_time": "2024-02-20T20:52:54.649468Z",
     "start_time": "2024-02-20T20:52:54.442148Z"
    }
   },
   "id": "7daf79997384ed7f"
  },
  {
   "cell_type": "code",
   "execution_count": 18,
   "outputs": [
    {
     "data": {
      "text/plain": "      Subject  Class  Acc_CorssCorrelationSum_VTAP  \\\n0           1      0                     -0.166063   \n1           1      0                     -0.166134   \n2           1      0                     -0.134558   \n3           1      0                     -0.129496   \n4           1      0                     -0.131921   \n...       ...    ...                           ...   \n1733        6      1                     -0.152122   \n1734        6      1                     -0.153823   \n1735        6      1                     -0.151816   \n1736        6      1                     -0.150106   \n1737        6      1                     -0.132165   \n\n      Acc_CorssCorrelationPeak_VTAP  Acc_FirstDerivativeRatio_SigComplete_AP  \\\n0                         -0.685750                                -0.010657   \n1                         -0.685786                                 0.041014   \n2                         -0.610375                                -0.038005   \n3                         -0.603319                                -0.040401   \n4                         -0.573847                                 0.089224   \n...                             ...                                      ...   \n1733                      -0.658918                                -0.013876   \n1734                      -0.624051                                -0.008705   \n1735                      -0.640286                                -0.020001   \n1736                      -0.596533                                -0.020139   \n1737                      -0.629312                                -0.019982   \n\n      Acc_FirstDerivativeMax_SigComplete_Magnitude  \\\n0                                        -1.074034   \n1                                        -1.074034   \n2                                        -0.383370   \n3                                        -0.383370   \n4                                        -0.383370   \n...                                            ...   \n1733                                     -0.420395   \n1734                                     -0.617524   \n1735                                     -0.617524   \n1736                                     -0.617524   \n1737                                     -0.617524   \n\n      Acc_InterQuartileRange_SigComplete_AP  \\\n0                                 -1.444151   \n1                                 -1.475770   \n2                                  0.146241   \n3                                 -0.003206   \n4                                 -0.061001   \n...                                     ...   \n1733                              -1.135367   \n1734                              -1.067617   \n1735                              -0.803723   \n1736                              -0.759067   \n1737                              -0.838219   \n\n      Acc_RelativePower_BelowDomFr_Magnitude  Acc_ZeroCrossingRate_Magnitude  \\\n0                                   0.032532                       -2.520228   \n1                                   0.710991                       -2.838854   \n2                                   1.432397                       -0.927096   \n3                                  -0.400597                       -0.767783   \n4                                  -0.376284                       -0.927096   \n...                                      ...                             ...   \n1733                               -0.253517                        0.825349   \n1734                               -0.340272                        0.666035   \n1735                               -0.302268                        0.028783   \n1736                               -0.320913                        0.188096   \n1737                               -0.026090                        0.028783   \n\n      Gyro_FirstDerivativeLogRatio_SigComplete_ML  \\\n0                                       -1.835525   \n1                                       -1.416182   \n2                                       -0.205820   \n3                                       -0.149416   \n4                                       -0.441999   \n...                                           ...   \n1733                                    -0.285219   \n1734                                    -0.315874   \n1735                                    -0.030334   \n1736                                     0.432560   \n1737                                     0.818404   \n\n      Gyro_FirstDerivativeLogRatio_SigComplete_AP  \\\n0                                       -1.157528   \n1                                       -0.633449   \n2                                        0.317132   \n3                                        0.074079   \n4                                        0.070623   \n...                                           ...   \n1733                                     0.754709   \n1734                                     0.456793   \n1735                                     1.163076   \n1736                                     1.242770   \n1737                                     1.843521   \n\n      Gyro_RelativePower_Below5Hz_Magnitude  \n0                                 -2.318428  \n1                                 -2.477687  \n2                                 -0.527828  \n3                                 -0.736708  \n4                                  0.214021  \n...                                     ...  \n1733                               0.274395  \n1734                               0.445751  \n1735                               1.679451  \n1736                               1.927169  \n1737                               1.164509  \n\n[1738 rows x 12 columns]",
      "text/html": "<div>\n<style scoped>\n    .dataframe tbody tr th:only-of-type {\n        vertical-align: middle;\n    }\n\n    .dataframe tbody tr th {\n        vertical-align: top;\n    }\n\n    .dataframe thead th {\n        text-align: right;\n    }\n</style>\n<table border=\"1\" class=\"dataframe\">\n  <thead>\n    <tr style=\"text-align: right;\">\n      <th></th>\n      <th>Subject</th>\n      <th>Class</th>\n      <th>Acc_CorssCorrelationSum_VTAP</th>\n      <th>Acc_CorssCorrelationPeak_VTAP</th>\n      <th>Acc_FirstDerivativeRatio_SigComplete_AP</th>\n      <th>Acc_FirstDerivativeMax_SigComplete_Magnitude</th>\n      <th>Acc_InterQuartileRange_SigComplete_AP</th>\n      <th>Acc_RelativePower_BelowDomFr_Magnitude</th>\n      <th>Acc_ZeroCrossingRate_Magnitude</th>\n      <th>Gyro_FirstDerivativeLogRatio_SigComplete_ML</th>\n      <th>Gyro_FirstDerivativeLogRatio_SigComplete_AP</th>\n      <th>Gyro_RelativePower_Below5Hz_Magnitude</th>\n    </tr>\n  </thead>\n  <tbody>\n    <tr>\n      <th>0</th>\n      <td>1</td>\n      <td>0</td>\n      <td>-0.166063</td>\n      <td>-0.685750</td>\n      <td>-0.010657</td>\n      <td>-1.074034</td>\n      <td>-1.444151</td>\n      <td>0.032532</td>\n      <td>-2.520228</td>\n      <td>-1.835525</td>\n      <td>-1.157528</td>\n      <td>-2.318428</td>\n    </tr>\n    <tr>\n      <th>1</th>\n      <td>1</td>\n      <td>0</td>\n      <td>-0.166134</td>\n      <td>-0.685786</td>\n      <td>0.041014</td>\n      <td>-1.074034</td>\n      <td>-1.475770</td>\n      <td>0.710991</td>\n      <td>-2.838854</td>\n      <td>-1.416182</td>\n      <td>-0.633449</td>\n      <td>-2.477687</td>\n    </tr>\n    <tr>\n      <th>2</th>\n      <td>1</td>\n      <td>0</td>\n      <td>-0.134558</td>\n      <td>-0.610375</td>\n      <td>-0.038005</td>\n      <td>-0.383370</td>\n      <td>0.146241</td>\n      <td>1.432397</td>\n      <td>-0.927096</td>\n      <td>-0.205820</td>\n      <td>0.317132</td>\n      <td>-0.527828</td>\n    </tr>\n    <tr>\n      <th>3</th>\n      <td>1</td>\n      <td>0</td>\n      <td>-0.129496</td>\n      <td>-0.603319</td>\n      <td>-0.040401</td>\n      <td>-0.383370</td>\n      <td>-0.003206</td>\n      <td>-0.400597</td>\n      <td>-0.767783</td>\n      <td>-0.149416</td>\n      <td>0.074079</td>\n      <td>-0.736708</td>\n    </tr>\n    <tr>\n      <th>4</th>\n      <td>1</td>\n      <td>0</td>\n      <td>-0.131921</td>\n      <td>-0.573847</td>\n      <td>0.089224</td>\n      <td>-0.383370</td>\n      <td>-0.061001</td>\n      <td>-0.376284</td>\n      <td>-0.927096</td>\n      <td>-0.441999</td>\n      <td>0.070623</td>\n      <td>0.214021</td>\n    </tr>\n    <tr>\n      <th>...</th>\n      <td>...</td>\n      <td>...</td>\n      <td>...</td>\n      <td>...</td>\n      <td>...</td>\n      <td>...</td>\n      <td>...</td>\n      <td>...</td>\n      <td>...</td>\n      <td>...</td>\n      <td>...</td>\n      <td>...</td>\n    </tr>\n    <tr>\n      <th>1733</th>\n      <td>6</td>\n      <td>1</td>\n      <td>-0.152122</td>\n      <td>-0.658918</td>\n      <td>-0.013876</td>\n      <td>-0.420395</td>\n      <td>-1.135367</td>\n      <td>-0.253517</td>\n      <td>0.825349</td>\n      <td>-0.285219</td>\n      <td>0.754709</td>\n      <td>0.274395</td>\n    </tr>\n    <tr>\n      <th>1734</th>\n      <td>6</td>\n      <td>1</td>\n      <td>-0.153823</td>\n      <td>-0.624051</td>\n      <td>-0.008705</td>\n      <td>-0.617524</td>\n      <td>-1.067617</td>\n      <td>-0.340272</td>\n      <td>0.666035</td>\n      <td>-0.315874</td>\n      <td>0.456793</td>\n      <td>0.445751</td>\n    </tr>\n    <tr>\n      <th>1735</th>\n      <td>6</td>\n      <td>1</td>\n      <td>-0.151816</td>\n      <td>-0.640286</td>\n      <td>-0.020001</td>\n      <td>-0.617524</td>\n      <td>-0.803723</td>\n      <td>-0.302268</td>\n      <td>0.028783</td>\n      <td>-0.030334</td>\n      <td>1.163076</td>\n      <td>1.679451</td>\n    </tr>\n    <tr>\n      <th>1736</th>\n      <td>6</td>\n      <td>1</td>\n      <td>-0.150106</td>\n      <td>-0.596533</td>\n      <td>-0.020139</td>\n      <td>-0.617524</td>\n      <td>-0.759067</td>\n      <td>-0.320913</td>\n      <td>0.188096</td>\n      <td>0.432560</td>\n      <td>1.242770</td>\n      <td>1.927169</td>\n    </tr>\n    <tr>\n      <th>1737</th>\n      <td>6</td>\n      <td>1</td>\n      <td>-0.132165</td>\n      <td>-0.629312</td>\n      <td>-0.019982</td>\n      <td>-0.617524</td>\n      <td>-0.838219</td>\n      <td>-0.026090</td>\n      <td>0.028783</td>\n      <td>0.818404</td>\n      <td>1.843521</td>\n      <td>1.164509</td>\n    </tr>\n  </tbody>\n</table>\n<p>1738 rows × 12 columns</p>\n</div>"
     },
     "execution_count": 18,
     "metadata": {},
     "output_type": "execute_result"
    }
   ],
   "source": [
    "acc_gyro_dataset_df"
   ],
   "metadata": {
    "collapsed": false,
    "ExecuteTime": {
     "end_time": "2024-02-20T20:52:54.649807Z",
     "start_time": "2024-02-20T20:52:54.442234Z"
    }
   },
   "id": "85cb156368141825"
  },
  {
   "cell_type": "code",
   "execution_count": 19,
   "outputs": [],
   "source": [
    "acc_target = acc_dataset_df.iloc[:, 1].copy().values\n",
    "gyro_target = gyro_dataset_df.iloc[:, 1].copy().values\n",
    "acc_gyro_target = acc_gyro_dataset_df.iloc[:, 1].copy().values\n",
    "acc_features = acc_dataset_df.iloc[:, 2:].copy().values\n",
    "gyro_features = gyro_dataset_df.iloc[:, 2:].copy().values\n",
    "acc_gyro_features = acc_gyro_dataset_df.iloc[:, 2:].copy().values"
   ],
   "metadata": {
    "collapsed": false,
    "ExecuteTime": {
     "end_time": "2024-02-20T20:52:54.649835Z",
     "start_time": "2024-02-20T20:52:54.442650Z"
    }
   },
   "id": "bb0f5e19f2095882"
  },
  {
   "cell_type": "code",
   "execution_count": 20,
   "outputs": [],
   "source": [
    "def get_model_scores(models_dict, features, target, id_groupings, groupk_folds):\n",
    "    model_score_columns = list(scoring_methods.keys())\n",
    "    model_score_columns.insert(0, 'Model')\n",
    "    all_model_scores_df = pd.DataFrame(columns=model_score_columns)\n",
    "    for model_key in models_dict:\n",
    "        model_scores = cross_val_model(model=models_dict[model_key], features=features, target=target, id_groupings=id_groupings, groupk_folds=groupk_folds)\n",
    "        model_scores['Model'] = model_key\n",
    "        all_model_scores_df = pd.concat([all_model_scores_df, pd.DataFrame.from_dict(model_scores, orient='index').T], ignore_index=True)\n",
    "    return all_model_scores_df"
   ],
   "metadata": {
    "collapsed": false,
    "ExecuteTime": {
     "end_time": "2024-02-20T20:52:54.649864Z",
     "start_time": "2024-02-20T20:52:54.445092Z"
    }
   },
   "id": "456d27dfd54a59ac"
  },
  {
   "cell_type": "markdown",
   "source": [
    "## Testing All Models"
   ],
   "metadata": {
    "collapsed": false
   },
   "id": "e3df36bc951a7835"
  },
  {
   "cell_type": "code",
   "execution_count": 21,
   "outputs": [],
   "source": [
    "models = {\n",
    "    'Logistic Regression': LogisticRegression(),\n",
    "    'Support Vector Machine': SVC(kernel='sigmoid'),\n",
    "    'Gaussian Naive Bayes': GaussianNB(),\n",
    "    'Bernoulli Naive Bayes': BernoulliNB(),\n",
    "    'Decision Tree': DecisionTreeClassifier(),\n",
    "    'Random Forest': RandomForestClassifier(),\n",
    "    'Gradient Boosting': GradientBoostingClassifier(),\n",
    "    'AdaBoost': AdaBoostClassifier(),\n",
    "    'Extra Trees': ExtraTreesClassifier(),\n",
    "    'Voting': VotingClassifier(estimators=[('lr', LogisticRegression()), ('dt', DecisionTreeClassifier()), ('knn', KNeighborsClassifier())]),\n",
    "    'k-Nearest Neighbors': KNeighborsClassifier(n_neighbors=11),\n",
    "    'Multi-layer Perceptron': MLPClassifier(max_iter=1000, hidden_layer_sizes=(2, 3, 2)),\n",
    "    'Gaussian Process': GaussianProcessClassifier(),\n",
    "    'Quadratic Discriminant Analysis': QuadraticDiscriminantAnalysis(),\n",
    "    'Linear Discriminant Analysis': LinearDiscriminantAnalysis(),\n",
    "    'Perceptron': Perceptron(),\n",
    "    'Passive Aggressive': PassiveAggressiveClassifier()\n",
    "}"
   ],
   "metadata": {
    "collapsed": false,
    "ExecuteTime": {
     "end_time": "2024-02-20T20:52:54.649884Z",
     "start_time": "2024-02-20T20:52:54.450261Z"
    }
   },
   "id": "eea4b78045e24cfb"
  },
  {
   "cell_type": "code",
   "execution_count": 22,
   "outputs": [
    {
     "name": "stderr",
     "output_type": "stream",
     "text": [
      "/Library/Python/3.9/site-packages/sklearn/neural_network/_multilayer_perceptron.py:691: ConvergenceWarning: Stochastic Optimizer: Maximum iterations (1000) reached and the optimization hasn't converged yet.\n",
      "  warnings.warn(\n"
     ]
    }
   ],
   "source": [
    "all_model_scores_acc = get_model_scores(models, features=acc_features, target=acc_target, id_groupings=acc_id_groupings, groupk_folds=6)"
   ],
   "metadata": {
    "collapsed": false,
    "ExecuteTime": {
     "end_time": "2024-02-20T20:55:58.784416Z",
     "start_time": "2024-02-20T20:52:54.456505Z"
    }
   },
   "id": "ecccc52f118b9702"
  },
  {
   "cell_type": "code",
   "execution_count": 23,
   "outputs": [
    {
     "name": "stderr",
     "output_type": "stream",
     "text": [
      "/Library/Python/3.9/site-packages/sklearn/metrics/_classification.py:1471: UndefinedMetricWarning: Precision is ill-defined and being set to 0.0 in labels with no predicted samples. Use `zero_division` parameter to control this behavior.\n",
      "  _warn_prf(average, modifier, msg_start, len(result))\n",
      "/Library/Python/3.9/site-packages/sklearn/metrics/_classification.py:1471: UndefinedMetricWarning: Precision is ill-defined and being set to 0.0 in labels with no predicted samples. Use `zero_division` parameter to control this behavior.\n",
      "  _warn_prf(average, modifier, msg_start, len(result))\n",
      "/Library/Python/3.9/site-packages/sklearn/metrics/_classification.py:1471: UndefinedMetricWarning: Precision is ill-defined and being set to 0.0 in labels with no predicted samples. Use `zero_division` parameter to control this behavior.\n",
      "  _warn_prf(average, modifier, msg_start, len(result))\n",
      "/Library/Python/3.9/site-packages/sklearn/metrics/_classification.py:1471: UndefinedMetricWarning: Precision is ill-defined and being set to 0.0 in labels with no predicted samples. Use `zero_division` parameter to control this behavior.\n",
      "  _warn_prf(average, modifier, msg_start, len(result))\n",
      "/Library/Python/3.9/site-packages/sklearn/metrics/_classification.py:1471: UndefinedMetricWarning: Precision is ill-defined and being set to 0.0 in labels with no predicted samples. Use `zero_division` parameter to control this behavior.\n",
      "  _warn_prf(average, modifier, msg_start, len(result))\n",
      "/Library/Python/3.9/site-packages/sklearn/metrics/_classification.py:1471: UndefinedMetricWarning: Precision is ill-defined and being set to 0.0 in labels with no predicted samples. Use `zero_division` parameter to control this behavior.\n",
      "  _warn_prf(average, modifier, msg_start, len(result))\n",
      "/Library/Python/3.9/site-packages/sklearn/metrics/_classification.py:1471: UndefinedMetricWarning: Precision is ill-defined and being set to 0.0 in labels with no predicted samples. Use `zero_division` parameter to control this behavior.\n",
      "  _warn_prf(average, modifier, msg_start, len(result))\n",
      "/Library/Python/3.9/site-packages/sklearn/metrics/_classification.py:1471: UndefinedMetricWarning: Precision is ill-defined and being set to 0.0 in labels with no predicted samples. Use `zero_division` parameter to control this behavior.\n",
      "  _warn_prf(average, modifier, msg_start, len(result))\n",
      "/Library/Python/3.9/site-packages/sklearn/metrics/_classification.py:1471: UndefinedMetricWarning: Precision is ill-defined and being set to 0.0 in labels with no predicted samples. Use `zero_division` parameter to control this behavior.\n",
      "  _warn_prf(average, modifier, msg_start, len(result))\n",
      "/Library/Python/3.9/site-packages/sklearn/metrics/_classification.py:1471: UndefinedMetricWarning: Precision is ill-defined and being set to 0.0 in labels with no predicted samples. Use `zero_division` parameter to control this behavior.\n",
      "  _warn_prf(average, modifier, msg_start, len(result))\n"
     ]
    }
   ],
   "source": [
    "all_model_scores_gyro = get_model_scores(models, features=gyro_features, target=gyro_target, id_groupings=gyro_id_groupings, groupk_folds=6)"
   ],
   "metadata": {
    "collapsed": false,
    "ExecuteTime": {
     "end_time": "2024-02-20T20:58:19.436566Z",
     "start_time": "2024-02-20T20:55:58.790527Z"
    }
   },
   "id": "286577398739ec52"
  },
  {
   "cell_type": "code",
   "execution_count": 24,
   "outputs": [
    {
     "name": "stderr",
     "output_type": "stream",
     "text": [
      "/Library/Python/3.9/site-packages/sklearn/metrics/_classification.py:1471: UndefinedMetricWarning: Precision is ill-defined and being set to 0.0 in labels with no predicted samples. Use `zero_division` parameter to control this behavior.\n",
      "  _warn_prf(average, modifier, msg_start, len(result))\n"
     ]
    }
   ],
   "source": [
    "all_model_scores_acc_gyro = get_model_scores(models, features=acc_gyro_features, target=acc_gyro_target, id_groupings=acc_gyro_id_groupings, groupk_folds=6)"
   ],
   "metadata": {
    "collapsed": false,
    "ExecuteTime": {
     "end_time": "2024-02-20T21:01:09.501791Z",
     "start_time": "2024-02-20T20:58:19.438192Z"
    }
   },
   "id": "114d8cc2777f4d93"
  },
  {
   "cell_type": "code",
   "execution_count": 25,
   "outputs": [
    {
     "data": {
      "text/plain": "                              Model  Accuracy Precision Sensitivity  \\\n0               Logistic Regression  0.630166  0.621803     0.62252   \n1            Support Vector Machine  0.642819  0.629674    0.615944   \n2              Gaussian Naive Bayes  0.573757  0.606191    0.580386   \n3             Bernoulli Naive Bayes  0.602113  0.600458    0.600051   \n4                     Decision Tree  0.562367  0.529375    0.545769   \n5                     Random Forest  0.564749  0.574689    0.543301   \n6                 Gradient Boosting  0.551559  0.556623    0.546444   \n7                          AdaBoost  0.548488  0.555938    0.556069   \n8                       Extra Trees  0.592291  0.609124    0.566692   \n9                            Voting  0.606043  0.598151    0.597097   \n10              k-Nearest Neighbors  0.574825  0.560405    0.560145   \n11           Multi-layer Perceptron   0.61973  0.593325    0.577896   \n12                 Gaussian Process  0.573201  0.561734    0.563374   \n13  Quadratic Discriminant Analysis  0.565785  0.580014    0.572775   \n14     Linear Discriminant Analysis  0.611613  0.609686    0.601187   \n15                       Perceptron   0.61401  0.622447    0.624617   \n16               Passive Aggressive  0.591407  0.602494    0.546788   \n\n   Specificity        F1  \n0      0.52811  0.614377  \n1     0.465882  0.602603  \n2     0.769069  0.538593  \n3     0.496895  0.583766  \n4     0.473112  0.523891  \n5     0.358616  0.526198  \n6     0.412452  0.527161  \n7     0.490396  0.537699  \n8     0.430112  0.566037  \n9     0.480659  0.576775  \n10    0.463699  0.554882  \n11    0.447904  0.505707  \n12    0.485839  0.557898  \n13     0.65993  0.547993  \n14    0.472752  0.590849  \n15    0.636856  0.607969  \n16    0.514209  0.531189  ",
      "text/html": "<div>\n<style scoped>\n    .dataframe tbody tr th:only-of-type {\n        vertical-align: middle;\n    }\n\n    .dataframe tbody tr th {\n        vertical-align: top;\n    }\n\n    .dataframe thead th {\n        text-align: right;\n    }\n</style>\n<table border=\"1\" class=\"dataframe\">\n  <thead>\n    <tr style=\"text-align: right;\">\n      <th></th>\n      <th>Model</th>\n      <th>Accuracy</th>\n      <th>Precision</th>\n      <th>Sensitivity</th>\n      <th>Specificity</th>\n      <th>F1</th>\n    </tr>\n  </thead>\n  <tbody>\n    <tr>\n      <th>0</th>\n      <td>Logistic Regression</td>\n      <td>0.630166</td>\n      <td>0.621803</td>\n      <td>0.62252</td>\n      <td>0.52811</td>\n      <td>0.614377</td>\n    </tr>\n    <tr>\n      <th>1</th>\n      <td>Support Vector Machine</td>\n      <td>0.642819</td>\n      <td>0.629674</td>\n      <td>0.615944</td>\n      <td>0.465882</td>\n      <td>0.602603</td>\n    </tr>\n    <tr>\n      <th>2</th>\n      <td>Gaussian Naive Bayes</td>\n      <td>0.573757</td>\n      <td>0.606191</td>\n      <td>0.580386</td>\n      <td>0.769069</td>\n      <td>0.538593</td>\n    </tr>\n    <tr>\n      <th>3</th>\n      <td>Bernoulli Naive Bayes</td>\n      <td>0.602113</td>\n      <td>0.600458</td>\n      <td>0.600051</td>\n      <td>0.496895</td>\n      <td>0.583766</td>\n    </tr>\n    <tr>\n      <th>4</th>\n      <td>Decision Tree</td>\n      <td>0.562367</td>\n      <td>0.529375</td>\n      <td>0.545769</td>\n      <td>0.473112</td>\n      <td>0.523891</td>\n    </tr>\n    <tr>\n      <th>5</th>\n      <td>Random Forest</td>\n      <td>0.564749</td>\n      <td>0.574689</td>\n      <td>0.543301</td>\n      <td>0.358616</td>\n      <td>0.526198</td>\n    </tr>\n    <tr>\n      <th>6</th>\n      <td>Gradient Boosting</td>\n      <td>0.551559</td>\n      <td>0.556623</td>\n      <td>0.546444</td>\n      <td>0.412452</td>\n      <td>0.527161</td>\n    </tr>\n    <tr>\n      <th>7</th>\n      <td>AdaBoost</td>\n      <td>0.548488</td>\n      <td>0.555938</td>\n      <td>0.556069</td>\n      <td>0.490396</td>\n      <td>0.537699</td>\n    </tr>\n    <tr>\n      <th>8</th>\n      <td>Extra Trees</td>\n      <td>0.592291</td>\n      <td>0.609124</td>\n      <td>0.566692</td>\n      <td>0.430112</td>\n      <td>0.566037</td>\n    </tr>\n    <tr>\n      <th>9</th>\n      <td>Voting</td>\n      <td>0.606043</td>\n      <td>0.598151</td>\n      <td>0.597097</td>\n      <td>0.480659</td>\n      <td>0.576775</td>\n    </tr>\n    <tr>\n      <th>10</th>\n      <td>k-Nearest Neighbors</td>\n      <td>0.574825</td>\n      <td>0.560405</td>\n      <td>0.560145</td>\n      <td>0.463699</td>\n      <td>0.554882</td>\n    </tr>\n    <tr>\n      <th>11</th>\n      <td>Multi-layer Perceptron</td>\n      <td>0.61973</td>\n      <td>0.593325</td>\n      <td>0.577896</td>\n      <td>0.447904</td>\n      <td>0.505707</td>\n    </tr>\n    <tr>\n      <th>12</th>\n      <td>Gaussian Process</td>\n      <td>0.573201</td>\n      <td>0.561734</td>\n      <td>0.563374</td>\n      <td>0.485839</td>\n      <td>0.557898</td>\n    </tr>\n    <tr>\n      <th>13</th>\n      <td>Quadratic Discriminant Analysis</td>\n      <td>0.565785</td>\n      <td>0.580014</td>\n      <td>0.572775</td>\n      <td>0.65993</td>\n      <td>0.547993</td>\n    </tr>\n    <tr>\n      <th>14</th>\n      <td>Linear Discriminant Analysis</td>\n      <td>0.611613</td>\n      <td>0.609686</td>\n      <td>0.601187</td>\n      <td>0.472752</td>\n      <td>0.590849</td>\n    </tr>\n    <tr>\n      <th>15</th>\n      <td>Perceptron</td>\n      <td>0.61401</td>\n      <td>0.622447</td>\n      <td>0.624617</td>\n      <td>0.636856</td>\n      <td>0.607969</td>\n    </tr>\n    <tr>\n      <th>16</th>\n      <td>Passive Aggressive</td>\n      <td>0.591407</td>\n      <td>0.602494</td>\n      <td>0.546788</td>\n      <td>0.514209</td>\n      <td>0.531189</td>\n    </tr>\n  </tbody>\n</table>\n</div>"
     },
     "execution_count": 25,
     "metadata": {},
     "output_type": "execute_result"
    }
   ],
   "source": [
    "all_model_scores_acc"
   ],
   "metadata": {
    "collapsed": false,
    "ExecuteTime": {
     "end_time": "2024-02-20T21:01:09.510915Z",
     "start_time": "2024-02-20T21:01:09.506772Z"
    }
   },
   "id": "93f9b33efe8a7f63"
  },
  {
   "cell_type": "code",
   "execution_count": 26,
   "outputs": [
    {
     "data": {
      "text/plain": "                              Model  Accuracy Precision Sensitivity  \\\n0               Logistic Regression  0.600973  0.596594    0.556517   \n1            Support Vector Machine  0.491224  0.480892    0.480854   \n2              Gaussian Naive Bayes   0.60224  0.598914    0.556426   \n3             Bernoulli Naive Bayes  0.557671  0.333354     0.52052   \n4                     Decision Tree  0.538741  0.523832    0.524615   \n5                     Random Forest  0.538741  0.523832    0.524893   \n6                 Gradient Boosting  0.585256   0.57093    0.538107   \n7                          AdaBoost   0.57861  0.579416    0.540821   \n8                       Extra Trees  0.536545  0.519953    0.517906   \n9                            Voting  0.570168  0.545178    0.539206   \n10              k-Nearest Neighbors  0.587068  0.568972    0.557064   \n11           Multi-layer Perceptron  0.590525  0.392946    0.522955   \n12                 Gaussian Process  0.604267  0.609473    0.557808   \n13  Quadratic Discriminant Analysis  0.602495  0.599123    0.556604   \n14     Linear Discriminant Analysis  0.600461  0.596197    0.556162   \n15                       Perceptron  0.456576  0.476418    0.493423   \n16               Passive Aggressive  0.560427  0.549904    0.526589   \n\n   Specificity        F1  \n0     0.243546  0.516311  \n1     0.383172   0.46968  \n2     0.240303  0.517205  \n3     0.130237  0.388592  \n4     0.431121  0.517526  \n5     0.431121  0.517526  \n6      0.21267  0.492399  \n7     0.229367  0.487922  \n8     0.423779  0.515589  \n9     0.320312  0.519353  \n10    0.339286  0.537505  \n11    0.066576  0.408321  \n12    0.232267  0.514051  \n13    0.240303  0.517403  \n14    0.243546  0.515908  \n15    0.474921  0.421058  \n16    0.425397  0.399041  ",
      "text/html": "<div>\n<style scoped>\n    .dataframe tbody tr th:only-of-type {\n        vertical-align: middle;\n    }\n\n    .dataframe tbody tr th {\n        vertical-align: top;\n    }\n\n    .dataframe thead th {\n        text-align: right;\n    }\n</style>\n<table border=\"1\" class=\"dataframe\">\n  <thead>\n    <tr style=\"text-align: right;\">\n      <th></th>\n      <th>Model</th>\n      <th>Accuracy</th>\n      <th>Precision</th>\n      <th>Sensitivity</th>\n      <th>Specificity</th>\n      <th>F1</th>\n    </tr>\n  </thead>\n  <tbody>\n    <tr>\n      <th>0</th>\n      <td>Logistic Regression</td>\n      <td>0.600973</td>\n      <td>0.596594</td>\n      <td>0.556517</td>\n      <td>0.243546</td>\n      <td>0.516311</td>\n    </tr>\n    <tr>\n      <th>1</th>\n      <td>Support Vector Machine</td>\n      <td>0.491224</td>\n      <td>0.480892</td>\n      <td>0.480854</td>\n      <td>0.383172</td>\n      <td>0.46968</td>\n    </tr>\n    <tr>\n      <th>2</th>\n      <td>Gaussian Naive Bayes</td>\n      <td>0.60224</td>\n      <td>0.598914</td>\n      <td>0.556426</td>\n      <td>0.240303</td>\n      <td>0.517205</td>\n    </tr>\n    <tr>\n      <th>3</th>\n      <td>Bernoulli Naive Bayes</td>\n      <td>0.557671</td>\n      <td>0.333354</td>\n      <td>0.52052</td>\n      <td>0.130237</td>\n      <td>0.388592</td>\n    </tr>\n    <tr>\n      <th>4</th>\n      <td>Decision Tree</td>\n      <td>0.538741</td>\n      <td>0.523832</td>\n      <td>0.524615</td>\n      <td>0.431121</td>\n      <td>0.517526</td>\n    </tr>\n    <tr>\n      <th>5</th>\n      <td>Random Forest</td>\n      <td>0.538741</td>\n      <td>0.523832</td>\n      <td>0.524893</td>\n      <td>0.431121</td>\n      <td>0.517526</td>\n    </tr>\n    <tr>\n      <th>6</th>\n      <td>Gradient Boosting</td>\n      <td>0.585256</td>\n      <td>0.57093</td>\n      <td>0.538107</td>\n      <td>0.21267</td>\n      <td>0.492399</td>\n    </tr>\n    <tr>\n      <th>7</th>\n      <td>AdaBoost</td>\n      <td>0.57861</td>\n      <td>0.579416</td>\n      <td>0.540821</td>\n      <td>0.229367</td>\n      <td>0.487922</td>\n    </tr>\n    <tr>\n      <th>8</th>\n      <td>Extra Trees</td>\n      <td>0.536545</td>\n      <td>0.519953</td>\n      <td>0.517906</td>\n      <td>0.423779</td>\n      <td>0.515589</td>\n    </tr>\n    <tr>\n      <th>9</th>\n      <td>Voting</td>\n      <td>0.570168</td>\n      <td>0.545178</td>\n      <td>0.539206</td>\n      <td>0.320312</td>\n      <td>0.519353</td>\n    </tr>\n    <tr>\n      <th>10</th>\n      <td>k-Nearest Neighbors</td>\n      <td>0.587068</td>\n      <td>0.568972</td>\n      <td>0.557064</td>\n      <td>0.339286</td>\n      <td>0.537505</td>\n    </tr>\n    <tr>\n      <th>11</th>\n      <td>Multi-layer Perceptron</td>\n      <td>0.590525</td>\n      <td>0.392946</td>\n      <td>0.522955</td>\n      <td>0.066576</td>\n      <td>0.408321</td>\n    </tr>\n    <tr>\n      <th>12</th>\n      <td>Gaussian Process</td>\n      <td>0.604267</td>\n      <td>0.609473</td>\n      <td>0.557808</td>\n      <td>0.232267</td>\n      <td>0.514051</td>\n    </tr>\n    <tr>\n      <th>13</th>\n      <td>Quadratic Discriminant Analysis</td>\n      <td>0.602495</td>\n      <td>0.599123</td>\n      <td>0.556604</td>\n      <td>0.240303</td>\n      <td>0.517403</td>\n    </tr>\n    <tr>\n      <th>14</th>\n      <td>Linear Discriminant Analysis</td>\n      <td>0.600461</td>\n      <td>0.596197</td>\n      <td>0.556162</td>\n      <td>0.243546</td>\n      <td>0.515908</td>\n    </tr>\n    <tr>\n      <th>15</th>\n      <td>Perceptron</td>\n      <td>0.456576</td>\n      <td>0.476418</td>\n      <td>0.493423</td>\n      <td>0.474921</td>\n      <td>0.421058</td>\n    </tr>\n    <tr>\n      <th>16</th>\n      <td>Passive Aggressive</td>\n      <td>0.560427</td>\n      <td>0.549904</td>\n      <td>0.526589</td>\n      <td>0.425397</td>\n      <td>0.399041</td>\n    </tr>\n  </tbody>\n</table>\n</div>"
     },
     "execution_count": 26,
     "metadata": {},
     "output_type": "execute_result"
    }
   ],
   "source": [
    "all_model_scores_gyro"
   ],
   "metadata": {
    "collapsed": false,
    "ExecuteTime": {
     "end_time": "2024-02-20T21:01:09.515327Z",
     "start_time": "2024-02-20T21:01:09.508282Z"
    }
   },
   "id": "f69c2a77ce9a2a2d"
  },
  {
   "cell_type": "code",
   "execution_count": 27,
   "outputs": [
    {
     "data": {
      "text/plain": "                              Model  Accuracy Precision Sensitivity  \\\n0               Logistic Regression   0.68087   0.66442    0.664469   \n1            Support Vector Machine  0.638351  0.636103    0.628499   \n2              Gaussian Naive Bayes  0.541568   0.59307    0.569729   \n3             Bernoulli Naive Bayes  0.649436  0.634087    0.635559   \n4                     Decision Tree  0.588582  0.600824    0.583373   \n5                     Random Forest  0.653977  0.629617    0.620114   \n6                 Gradient Boosting  0.626677  0.614832    0.620711   \n7                          AdaBoost  0.650552  0.639597    0.644885   \n8                       Extra Trees  0.633742  0.620139    0.625722   \n9                            Voting   0.64657   0.62392    0.629707   \n10              k-Nearest Neighbors  0.603127  0.590922    0.591566   \n11           Multi-layer Perceptron  0.681493  0.580576    0.654755   \n12                 Gaussian Process  0.638284  0.619987    0.617871   \n13  Quadratic Discriminant Analysis  0.580345   0.63057    0.606113   \n14     Linear Discriminant Analysis  0.682984  0.666894    0.665464   \n15                       Perceptron  0.623332  0.605382    0.599097   \n16               Passive Aggressive  0.543955  0.620992    0.621214   \n\n   Specificity        F1  \n0     0.591715   0.66226  \n1     0.578315  0.613428  \n2     0.836266   0.50946  \n3     0.530298  0.625079  \n4     0.564195  0.591304  \n5     0.544904  0.624179  \n6     0.562298  0.611727  \n7     0.636072  0.639263  \n8      0.54001  0.618861  \n9     0.594703  0.630923  \n10    0.571291  0.587279  \n11    0.496209    0.5617  \n12    0.568657  0.616802  \n13    0.843731  0.555957  \n14    0.606087  0.664569  \n15    0.499576  0.594144  \n16    0.662515  0.592415  ",
      "text/html": "<div>\n<style scoped>\n    .dataframe tbody tr th:only-of-type {\n        vertical-align: middle;\n    }\n\n    .dataframe tbody tr th {\n        vertical-align: top;\n    }\n\n    .dataframe thead th {\n        text-align: right;\n    }\n</style>\n<table border=\"1\" class=\"dataframe\">\n  <thead>\n    <tr style=\"text-align: right;\">\n      <th></th>\n      <th>Model</th>\n      <th>Accuracy</th>\n      <th>Precision</th>\n      <th>Sensitivity</th>\n      <th>Specificity</th>\n      <th>F1</th>\n    </tr>\n  </thead>\n  <tbody>\n    <tr>\n      <th>0</th>\n      <td>Logistic Regression</td>\n      <td>0.68087</td>\n      <td>0.66442</td>\n      <td>0.664469</td>\n      <td>0.591715</td>\n      <td>0.66226</td>\n    </tr>\n    <tr>\n      <th>1</th>\n      <td>Support Vector Machine</td>\n      <td>0.638351</td>\n      <td>0.636103</td>\n      <td>0.628499</td>\n      <td>0.578315</td>\n      <td>0.613428</td>\n    </tr>\n    <tr>\n      <th>2</th>\n      <td>Gaussian Naive Bayes</td>\n      <td>0.541568</td>\n      <td>0.59307</td>\n      <td>0.569729</td>\n      <td>0.836266</td>\n      <td>0.50946</td>\n    </tr>\n    <tr>\n      <th>3</th>\n      <td>Bernoulli Naive Bayes</td>\n      <td>0.649436</td>\n      <td>0.634087</td>\n      <td>0.635559</td>\n      <td>0.530298</td>\n      <td>0.625079</td>\n    </tr>\n    <tr>\n      <th>4</th>\n      <td>Decision Tree</td>\n      <td>0.588582</td>\n      <td>0.600824</td>\n      <td>0.583373</td>\n      <td>0.564195</td>\n      <td>0.591304</td>\n    </tr>\n    <tr>\n      <th>5</th>\n      <td>Random Forest</td>\n      <td>0.653977</td>\n      <td>0.629617</td>\n      <td>0.620114</td>\n      <td>0.544904</td>\n      <td>0.624179</td>\n    </tr>\n    <tr>\n      <th>6</th>\n      <td>Gradient Boosting</td>\n      <td>0.626677</td>\n      <td>0.614832</td>\n      <td>0.620711</td>\n      <td>0.562298</td>\n      <td>0.611727</td>\n    </tr>\n    <tr>\n      <th>7</th>\n      <td>AdaBoost</td>\n      <td>0.650552</td>\n      <td>0.639597</td>\n      <td>0.644885</td>\n      <td>0.636072</td>\n      <td>0.639263</td>\n    </tr>\n    <tr>\n      <th>8</th>\n      <td>Extra Trees</td>\n      <td>0.633742</td>\n      <td>0.620139</td>\n      <td>0.625722</td>\n      <td>0.54001</td>\n      <td>0.618861</td>\n    </tr>\n    <tr>\n      <th>9</th>\n      <td>Voting</td>\n      <td>0.64657</td>\n      <td>0.62392</td>\n      <td>0.629707</td>\n      <td>0.594703</td>\n      <td>0.630923</td>\n    </tr>\n    <tr>\n      <th>10</th>\n      <td>k-Nearest Neighbors</td>\n      <td>0.603127</td>\n      <td>0.590922</td>\n      <td>0.591566</td>\n      <td>0.571291</td>\n      <td>0.587279</td>\n    </tr>\n    <tr>\n      <th>11</th>\n      <td>Multi-layer Perceptron</td>\n      <td>0.681493</td>\n      <td>0.580576</td>\n      <td>0.654755</td>\n      <td>0.496209</td>\n      <td>0.5617</td>\n    </tr>\n    <tr>\n      <th>12</th>\n      <td>Gaussian Process</td>\n      <td>0.638284</td>\n      <td>0.619987</td>\n      <td>0.617871</td>\n      <td>0.568657</td>\n      <td>0.616802</td>\n    </tr>\n    <tr>\n      <th>13</th>\n      <td>Quadratic Discriminant Analysis</td>\n      <td>0.580345</td>\n      <td>0.63057</td>\n      <td>0.606113</td>\n      <td>0.843731</td>\n      <td>0.555957</td>\n    </tr>\n    <tr>\n      <th>14</th>\n      <td>Linear Discriminant Analysis</td>\n      <td>0.682984</td>\n      <td>0.666894</td>\n      <td>0.665464</td>\n      <td>0.606087</td>\n      <td>0.664569</td>\n    </tr>\n    <tr>\n      <th>15</th>\n      <td>Perceptron</td>\n      <td>0.623332</td>\n      <td>0.605382</td>\n      <td>0.599097</td>\n      <td>0.499576</td>\n      <td>0.594144</td>\n    </tr>\n    <tr>\n      <th>16</th>\n      <td>Passive Aggressive</td>\n      <td>0.543955</td>\n      <td>0.620992</td>\n      <td>0.621214</td>\n      <td>0.662515</td>\n      <td>0.592415</td>\n    </tr>\n  </tbody>\n</table>\n</div>"
     },
     "execution_count": 27,
     "metadata": {},
     "output_type": "execute_result"
    }
   ],
   "source": [
    "all_model_scores_acc_gyro"
   ],
   "metadata": {
    "collapsed": false,
    "ExecuteTime": {
     "end_time": "2024-02-20T21:01:09.523629Z",
     "start_time": "2024-02-20T21:01:09.516509Z"
    }
   },
   "id": "4973b57b5dda59f1"
  },
  {
   "cell_type": "code",
   "execution_count": 27,
   "outputs": [],
   "source": [],
   "metadata": {
    "collapsed": false,
    "ExecuteTime": {
     "end_time": "2024-02-20T21:01:09.526268Z",
     "start_time": "2024-02-20T21:01:09.522790Z"
    }
   },
   "id": "a7798b34f05fae01"
  }
 ],
 "metadata": {
  "kernelspec": {
   "display_name": "Python 3",
   "language": "python",
   "name": "python3"
  },
  "language_info": {
   "codemirror_mode": {
    "name": "ipython",
    "version": 2
   },
   "file_extension": ".py",
   "mimetype": "text/x-python",
   "name": "python",
   "nbconvert_exporter": "python",
   "pygments_lexer": "ipython2",
   "version": "2.7.6"
  }
 },
 "nbformat": 4,
 "nbformat_minor": 5
}
