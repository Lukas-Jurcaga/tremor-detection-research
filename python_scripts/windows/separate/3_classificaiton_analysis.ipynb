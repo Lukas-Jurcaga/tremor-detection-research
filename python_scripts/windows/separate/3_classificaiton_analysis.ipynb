{
 "cells": [
  {
   "cell_type": "code",
   "execution_count": 40,
   "outputs": [],
   "source": [
    "import pandas as pd\n",
    "import numpy as np\n",
    "from sklearn.model_selection import LeaveOneOut\n",
    "from sklearn.linear_model import LogisticRegression\n",
    "from sklearn.svm import SVC\n",
    "from sklearn.metrics import accuracy_score\n",
    "from sklearn.model_selection import GroupKFold\n",
    "from sklearn.metrics import confusion_matrix\n",
    "from sklearn.model_selection import train_test_split\n",
    "from sklearn.metrics import accuracy_score, precision_score, recall_score, f1_score, confusion_matrix\n",
    "from sklearn.ensemble import RandomForestClassifier\n",
    "from sklearn.model_selection import cross_val_score\n",
    "from sklearn.model_selection import GroupShuffleSplit\n",
    "from python_scripts.utils.classification_evals import *\n",
    "from sklearn.linear_model import LogisticRegression, Perceptron, PassiveAggressiveClassifier\n",
    "from sklearn.svm import SVC\n",
    "from sklearn.naive_bayes import GaussianNB, BernoulliNB\n",
    "from sklearn.tree import DecisionTreeClassifier\n",
    "from sklearn.ensemble import RandomForestClassifier, GradientBoostingClassifier, AdaBoostClassifier, ExtraTreesClassifier, VotingClassifier\n",
    "from sklearn.neighbors import KNeighborsClassifier\n",
    "from sklearn.neural_network import MLPClassifier\n",
    "from sklearn.gaussian_process import GaussianProcessClassifier\n",
    "from sklearn.discriminant_analysis import QuadraticDiscriminantAnalysis, LinearDiscriminantAnalysis\n",
    "import warnings\n",
    "# warnings.filterwarnings(\"ignore\")"
   ],
   "metadata": {
    "collapsed": false,
    "ExecuteTime": {
     "end_time": "2024-02-20T18:33:21.267830Z",
     "start_time": "2024-02-20T18:33:21.261413Z"
    }
   },
   "id": "467f7249f650e6f6"
  },
  {
   "cell_type": "markdown",
   "source": [
    "# Classification"
   ],
   "metadata": {
    "collapsed": false
   },
   "id": "cbb8871a0bd8cd9b"
  },
  {
   "cell_type": "code",
   "execution_count": 41,
   "id": "initial_id",
   "metadata": {
    "collapsed": true,
    "ExecuteTime": {
     "end_time": "2024-02-20T18:33:22.123195Z",
     "start_time": "2024-02-20T18:33:22.102030Z"
    }
   },
   "outputs": [],
   "source": [
    "final_dataset_path = '../../../dataset/final/windows/separate/'\n",
    "acc_dataset_path = final_dataset_path + 'PatchTable_Acceleration_Filtered.csv'\n",
    "gyro_dataset_path = final_dataset_path + 'PatchTable_Gyroscope_Filtered.csv'"
   ]
  },
  {
   "cell_type": "code",
   "execution_count": 42,
   "outputs": [],
   "source": [
    "acc_dataset_df = pd.read_csv(acc_dataset_path)\n",
    "gyro_dataset_df = pd.read_csv(gyro_dataset_path)\n",
    "acc_id_groupings = acc_dataset_df['Subject']\n",
    "gyro_id_groupings = gyro_dataset_df['Subject']"
   ],
   "metadata": {
    "collapsed": false,
    "ExecuteTime": {
     "end_time": "2024-02-20T18:33:22.436691Z",
     "start_time": "2024-02-20T18:33:22.425308Z"
    }
   },
   "id": "42563d981780aee8"
  },
  {
   "cell_type": "code",
   "execution_count": 43,
   "outputs": [
    {
     "data": {
      "text/plain": "      Subject  Class  CorssCorrelationSum_VTAP  CorssCorrelationPeak_VTAP  \\\n0           1      0                 -0.163081                  -0.662803   \n1           1      0                 -0.163483                  -0.668085   \n2           1      0                 -0.163548                  -0.668120   \n3           1      0                 -0.163525                  -0.668035   \n4           1      0                 -0.163469                  -0.667327   \n...       ...    ...                       ...                        ...   \n1875        6      1                 -0.152225                  -0.607692   \n1876        6      1                 -0.150379                  -0.623584   \n1877        6      1                 -0.148807                  -0.580757   \n1878        6      1                 -0.132307                  -0.612842   \n1879        6      1                 -0.097445                  -0.462252   \n\n      IndexHarmonicity_ML  FirstDerivativeMean_SigComplete_VT  \\\n0                0.528986                            0.475757   \n1               -0.364654                            0.090667   \n2               -0.362345                           -0.033453   \n3               -0.376434                            0.009309   \n4               13.995720                           -0.002560   \n...                   ...                                 ...   \n1875            -0.416798                           -0.867979   \n1876            -0.154285                           -0.524313   \n1877            -0.314912                            0.828930   \n1878            -0.367696                            1.526718   \n1879            -0.159370                           -0.589242   \n\n      FirstDerivative_Moment3rd_SigComplete_VT  \\\n0                                    -0.062359   \n1                                    -0.110018   \n2                                    -0.110054   \n3                                    -0.110064   \n4                                    -0.109835   \n...                                        ...   \n1875                                 -0.047874   \n1876                                 -0.062139   \n1877                                 -0.047780   \n1878                                 -0.039679   \n1879                                 -0.082862   \n\n      FirstDerivativeLogRatio_SigComplete_ML  \\\n0                                  -0.136782   \n1                                  -0.233595   \n2                                  -0.112613   \n3                                  -0.227149   \n4                                  -0.698540   \n...                                      ...   \n1875                                0.015603   \n1876                               -0.028567   \n1877                               -0.325827   \n1878                               -0.599088   \n1879                               -0.747619   \n\n      FirstDerivativeMean_SigComplete_AP  \\\n0                              -0.409614   \n1                              -0.054282   \n2                              -0.050146   \n3                              -0.042921   \n4                               0.162228   \n...                                  ...   \n1875                           -0.046169   \n1876                            0.040108   \n1877                           -0.340791   \n1878                           -2.453837   \n1879                            0.385179   \n\n      FirstDerivative_Skweness_SigComplete_AP  ...  \\\n0                                   -1.334350  ...   \n1                                   -1.066276  ...   \n2                                   -1.160794  ...   \n3                                   -1.174912  ...   \n4                                   -0.055198  ...   \n...                                       ...  ...   \n1875                                 0.002909  ...   \n1876                                 0.172652  ...   \n1877                                 0.078664  ...   \n1878                                -3.100024  ...   \n1879                                -1.746146  ...   \n\n      Mean_SigComplete_Magnitude  Skewness_SigComplete_Magnitude  \\\n0                      -0.035799                        1.275514   \n1                      -0.281341                       -0.695417   \n2                      -0.404884                       -0.490985   \n3                      -0.463610                       -0.346706   \n4                      -0.208414                        2.387815   \n...                          ...                             ...   \n1875                    0.185887                        0.225318   \n1876                    0.169964                        0.472963   \n1877                    0.280245                        0.255260   \n1878                    1.338794                        0.849419   \n1879                    0.541822                       -0.996311   \n\n      Percentile25_SigComplete_Magnitude  MaxFreqSpectrum_Below5Hz_Magnitude  \\\n0                               1.444325                           -0.116140   \n1                               1.432455                            0.408305   \n2                               1.412446                           -2.039106   \n3                               1.393891                           -2.039106   \n4                               1.407141                           -1.951699   \n...                                  ...                                 ...   \n1875                            0.462994                           -0.465771   \n1876                            0.627831                           -0.553178   \n1877                            0.389285                            1.194972   \n1878                            0.387508                            1.194972   \n1879                            0.311096                           -0.028733   \n\n      RelativePower_5To10Hz_Magnitude  RelativePower_BelowDomFr_Magnitude  \\\n0                            1.224695                           -0.156583   \n1                            1.251751                           -0.063859   \n2                            1.249730                            0.167928   \n3                            1.052092                            0.285549   \n4                           -1.596697                           -0.016023   \n...                               ...                                 ...   \n1875                         0.163099                           -0.191222   \n1876                         0.996511                           -0.178239   \n1877                         0.894499                           -0.184609   \n1878                         0.132428                           -0.083886   \n1879                         0.462755                           -0.246445   \n\n      MedianPSD_Plom_Magnitude  Moment3rdPSD_Plom_Magnitude  \\\n0                    -0.165272                    -0.146060   \n1                    -0.224007                    -0.146061   \n2                    -0.224137                    -0.146061   \n3                    -0.224224                    -0.146061   \n4                    -0.196872                    -0.146061   \n...                        ...                          ...   \n1875                 -0.209324                    -0.146017   \n1876                 -0.219464                    -0.146033   \n1877                 -0.166815                    -0.145960   \n1878                  0.621261                    -0.145660   \n1879                  0.025254                    -0.142805   \n\n      SkewnessPSD_Plom_Magnitude  ZeroCrossingRate_Magnitude  \n0                      -0.086591                   -1.771846  \n1                       0.952947                   -2.360037  \n2                       1.178809                   -2.654132  \n3                       1.203253                   -2.801180  \n4                       0.069855                   -3.095275  \n...                          ...                         ...  \n1875                   -0.295417                    0.580916  \n1876                    0.136042                   -0.007274  \n1877                   -0.002798                    0.139773  \n1878                   -0.065654                   -0.007274  \n1879                   -0.432434                   -0.154322  \n\n[1880 rows x 34 columns]",
      "text/html": "<div>\n<style scoped>\n    .dataframe tbody tr th:only-of-type {\n        vertical-align: middle;\n    }\n\n    .dataframe tbody tr th {\n        vertical-align: top;\n    }\n\n    .dataframe thead th {\n        text-align: right;\n    }\n</style>\n<table border=\"1\" class=\"dataframe\">\n  <thead>\n    <tr style=\"text-align: right;\">\n      <th></th>\n      <th>Subject</th>\n      <th>Class</th>\n      <th>CorssCorrelationSum_VTAP</th>\n      <th>CorssCorrelationPeak_VTAP</th>\n      <th>IndexHarmonicity_ML</th>\n      <th>FirstDerivativeMean_SigComplete_VT</th>\n      <th>FirstDerivative_Moment3rd_SigComplete_VT</th>\n      <th>FirstDerivativeLogRatio_SigComplete_ML</th>\n      <th>FirstDerivativeMean_SigComplete_AP</th>\n      <th>FirstDerivative_Skweness_SigComplete_AP</th>\n      <th>...</th>\n      <th>Mean_SigComplete_Magnitude</th>\n      <th>Skewness_SigComplete_Magnitude</th>\n      <th>Percentile25_SigComplete_Magnitude</th>\n      <th>MaxFreqSpectrum_Below5Hz_Magnitude</th>\n      <th>RelativePower_5To10Hz_Magnitude</th>\n      <th>RelativePower_BelowDomFr_Magnitude</th>\n      <th>MedianPSD_Plom_Magnitude</th>\n      <th>Moment3rdPSD_Plom_Magnitude</th>\n      <th>SkewnessPSD_Plom_Magnitude</th>\n      <th>ZeroCrossingRate_Magnitude</th>\n    </tr>\n  </thead>\n  <tbody>\n    <tr>\n      <th>0</th>\n      <td>1</td>\n      <td>0</td>\n      <td>-0.163081</td>\n      <td>-0.662803</td>\n      <td>0.528986</td>\n      <td>0.475757</td>\n      <td>-0.062359</td>\n      <td>-0.136782</td>\n      <td>-0.409614</td>\n      <td>-1.334350</td>\n      <td>...</td>\n      <td>-0.035799</td>\n      <td>1.275514</td>\n      <td>1.444325</td>\n      <td>-0.116140</td>\n      <td>1.224695</td>\n      <td>-0.156583</td>\n      <td>-0.165272</td>\n      <td>-0.146060</td>\n      <td>-0.086591</td>\n      <td>-1.771846</td>\n    </tr>\n    <tr>\n      <th>1</th>\n      <td>1</td>\n      <td>0</td>\n      <td>-0.163483</td>\n      <td>-0.668085</td>\n      <td>-0.364654</td>\n      <td>0.090667</td>\n      <td>-0.110018</td>\n      <td>-0.233595</td>\n      <td>-0.054282</td>\n      <td>-1.066276</td>\n      <td>...</td>\n      <td>-0.281341</td>\n      <td>-0.695417</td>\n      <td>1.432455</td>\n      <td>0.408305</td>\n      <td>1.251751</td>\n      <td>-0.063859</td>\n      <td>-0.224007</td>\n      <td>-0.146061</td>\n      <td>0.952947</td>\n      <td>-2.360037</td>\n    </tr>\n    <tr>\n      <th>2</th>\n      <td>1</td>\n      <td>0</td>\n      <td>-0.163548</td>\n      <td>-0.668120</td>\n      <td>-0.362345</td>\n      <td>-0.033453</td>\n      <td>-0.110054</td>\n      <td>-0.112613</td>\n      <td>-0.050146</td>\n      <td>-1.160794</td>\n      <td>...</td>\n      <td>-0.404884</td>\n      <td>-0.490985</td>\n      <td>1.412446</td>\n      <td>-2.039106</td>\n      <td>1.249730</td>\n      <td>0.167928</td>\n      <td>-0.224137</td>\n      <td>-0.146061</td>\n      <td>1.178809</td>\n      <td>-2.654132</td>\n    </tr>\n    <tr>\n      <th>3</th>\n      <td>1</td>\n      <td>0</td>\n      <td>-0.163525</td>\n      <td>-0.668035</td>\n      <td>-0.376434</td>\n      <td>0.009309</td>\n      <td>-0.110064</td>\n      <td>-0.227149</td>\n      <td>-0.042921</td>\n      <td>-1.174912</td>\n      <td>...</td>\n      <td>-0.463610</td>\n      <td>-0.346706</td>\n      <td>1.393891</td>\n      <td>-2.039106</td>\n      <td>1.052092</td>\n      <td>0.285549</td>\n      <td>-0.224224</td>\n      <td>-0.146061</td>\n      <td>1.203253</td>\n      <td>-2.801180</td>\n    </tr>\n    <tr>\n      <th>4</th>\n      <td>1</td>\n      <td>0</td>\n      <td>-0.163469</td>\n      <td>-0.667327</td>\n      <td>13.995720</td>\n      <td>-0.002560</td>\n      <td>-0.109835</td>\n      <td>-0.698540</td>\n      <td>0.162228</td>\n      <td>-0.055198</td>\n      <td>...</td>\n      <td>-0.208414</td>\n      <td>2.387815</td>\n      <td>1.407141</td>\n      <td>-1.951699</td>\n      <td>-1.596697</td>\n      <td>-0.016023</td>\n      <td>-0.196872</td>\n      <td>-0.146061</td>\n      <td>0.069855</td>\n      <td>-3.095275</td>\n    </tr>\n    <tr>\n      <th>...</th>\n      <td>...</td>\n      <td>...</td>\n      <td>...</td>\n      <td>...</td>\n      <td>...</td>\n      <td>...</td>\n      <td>...</td>\n      <td>...</td>\n      <td>...</td>\n      <td>...</td>\n      <td>...</td>\n      <td>...</td>\n      <td>...</td>\n      <td>...</td>\n      <td>...</td>\n      <td>...</td>\n      <td>...</td>\n      <td>...</td>\n      <td>...</td>\n      <td>...</td>\n      <td>...</td>\n    </tr>\n    <tr>\n      <th>1875</th>\n      <td>6</td>\n      <td>1</td>\n      <td>-0.152225</td>\n      <td>-0.607692</td>\n      <td>-0.416798</td>\n      <td>-0.867979</td>\n      <td>-0.047874</td>\n      <td>0.015603</td>\n      <td>-0.046169</td>\n      <td>0.002909</td>\n      <td>...</td>\n      <td>0.185887</td>\n      <td>0.225318</td>\n      <td>0.462994</td>\n      <td>-0.465771</td>\n      <td>0.163099</td>\n      <td>-0.191222</td>\n      <td>-0.209324</td>\n      <td>-0.146017</td>\n      <td>-0.295417</td>\n      <td>0.580916</td>\n    </tr>\n    <tr>\n      <th>1876</th>\n      <td>6</td>\n      <td>1</td>\n      <td>-0.150379</td>\n      <td>-0.623584</td>\n      <td>-0.154285</td>\n      <td>-0.524313</td>\n      <td>-0.062139</td>\n      <td>-0.028567</td>\n      <td>0.040108</td>\n      <td>0.172652</td>\n      <td>...</td>\n      <td>0.169964</td>\n      <td>0.472963</td>\n      <td>0.627831</td>\n      <td>-0.553178</td>\n      <td>0.996511</td>\n      <td>-0.178239</td>\n      <td>-0.219464</td>\n      <td>-0.146033</td>\n      <td>0.136042</td>\n      <td>-0.007274</td>\n    </tr>\n    <tr>\n      <th>1877</th>\n      <td>6</td>\n      <td>1</td>\n      <td>-0.148807</td>\n      <td>-0.580757</td>\n      <td>-0.314912</td>\n      <td>0.828930</td>\n      <td>-0.047780</td>\n      <td>-0.325827</td>\n      <td>-0.340791</td>\n      <td>0.078664</td>\n      <td>...</td>\n      <td>0.280245</td>\n      <td>0.255260</td>\n      <td>0.389285</td>\n      <td>1.194972</td>\n      <td>0.894499</td>\n      <td>-0.184609</td>\n      <td>-0.166815</td>\n      <td>-0.145960</td>\n      <td>-0.002798</td>\n      <td>0.139773</td>\n    </tr>\n    <tr>\n      <th>1878</th>\n      <td>6</td>\n      <td>1</td>\n      <td>-0.132307</td>\n      <td>-0.612842</td>\n      <td>-0.367696</td>\n      <td>1.526718</td>\n      <td>-0.039679</td>\n      <td>-0.599088</td>\n      <td>-2.453837</td>\n      <td>-3.100024</td>\n      <td>...</td>\n      <td>1.338794</td>\n      <td>0.849419</td>\n      <td>0.387508</td>\n      <td>1.194972</td>\n      <td>0.132428</td>\n      <td>-0.083886</td>\n      <td>0.621261</td>\n      <td>-0.145660</td>\n      <td>-0.065654</td>\n      <td>-0.007274</td>\n    </tr>\n    <tr>\n      <th>1879</th>\n      <td>6</td>\n      <td>1</td>\n      <td>-0.097445</td>\n      <td>-0.462252</td>\n      <td>-0.159370</td>\n      <td>-0.589242</td>\n      <td>-0.082862</td>\n      <td>-0.747619</td>\n      <td>0.385179</td>\n      <td>-1.746146</td>\n      <td>...</td>\n      <td>0.541822</td>\n      <td>-0.996311</td>\n      <td>0.311096</td>\n      <td>-0.028733</td>\n      <td>0.462755</td>\n      <td>-0.246445</td>\n      <td>0.025254</td>\n      <td>-0.142805</td>\n      <td>-0.432434</td>\n      <td>-0.154322</td>\n    </tr>\n  </tbody>\n</table>\n<p>1880 rows × 34 columns</p>\n</div>"
     },
     "execution_count": 43,
     "metadata": {},
     "output_type": "execute_result"
    }
   ],
   "source": [
    "acc_dataset_df"
   ],
   "metadata": {
    "collapsed": false,
    "ExecuteTime": {
     "end_time": "2024-02-20T18:33:22.899635Z",
     "start_time": "2024-02-20T18:33:22.884334Z"
    }
   },
   "id": "4eb8a8e4ec74a99c"
  },
  {
   "cell_type": "code",
   "execution_count": 44,
   "outputs": [
    {
     "data": {
      "text/plain": "      Subject  Class  RelativePower_Below5Hz_Magnitude\n0           1      0                         -2.247382\n1           1      0                         -2.401791\n2           1      0                         -0.511308\n3           1      0                         -0.713828\n4           1      0                          0.242117\n...       ...    ...                               ...\n2054        6      1                          0.432625\n2055        6      1                          0.203724\n2056        6      1                          1.628756\n2057        6      1                          1.868931\n2058        6      1                          1.129495\n\n[2059 rows x 3 columns]",
      "text/html": "<div>\n<style scoped>\n    .dataframe tbody tr th:only-of-type {\n        vertical-align: middle;\n    }\n\n    .dataframe tbody tr th {\n        vertical-align: top;\n    }\n\n    .dataframe thead th {\n        text-align: right;\n    }\n</style>\n<table border=\"1\" class=\"dataframe\">\n  <thead>\n    <tr style=\"text-align: right;\">\n      <th></th>\n      <th>Subject</th>\n      <th>Class</th>\n      <th>RelativePower_Below5Hz_Magnitude</th>\n    </tr>\n  </thead>\n  <tbody>\n    <tr>\n      <th>0</th>\n      <td>1</td>\n      <td>0</td>\n      <td>-2.247382</td>\n    </tr>\n    <tr>\n      <th>1</th>\n      <td>1</td>\n      <td>0</td>\n      <td>-2.401791</td>\n    </tr>\n    <tr>\n      <th>2</th>\n      <td>1</td>\n      <td>0</td>\n      <td>-0.511308</td>\n    </tr>\n    <tr>\n      <th>3</th>\n      <td>1</td>\n      <td>0</td>\n      <td>-0.713828</td>\n    </tr>\n    <tr>\n      <th>4</th>\n      <td>1</td>\n      <td>0</td>\n      <td>0.242117</td>\n    </tr>\n    <tr>\n      <th>...</th>\n      <td>...</td>\n      <td>...</td>\n      <td>...</td>\n    </tr>\n    <tr>\n      <th>2054</th>\n      <td>6</td>\n      <td>1</td>\n      <td>0.432625</td>\n    </tr>\n    <tr>\n      <th>2055</th>\n      <td>6</td>\n      <td>1</td>\n      <td>0.203724</td>\n    </tr>\n    <tr>\n      <th>2056</th>\n      <td>6</td>\n      <td>1</td>\n      <td>1.628756</td>\n    </tr>\n    <tr>\n      <th>2057</th>\n      <td>6</td>\n      <td>1</td>\n      <td>1.868931</td>\n    </tr>\n    <tr>\n      <th>2058</th>\n      <td>6</td>\n      <td>1</td>\n      <td>1.129495</td>\n    </tr>\n  </tbody>\n</table>\n<p>2059 rows × 3 columns</p>\n</div>"
     },
     "execution_count": 44,
     "metadata": {},
     "output_type": "execute_result"
    }
   ],
   "source": [
    "gyro_dataset_df"
   ],
   "metadata": {
    "collapsed": false,
    "ExecuteTime": {
     "end_time": "2024-02-20T18:33:23.316535Z",
     "start_time": "2024-02-20T18:33:23.309843Z"
    }
   },
   "id": "7daf79997384ed7f"
  },
  {
   "cell_type": "code",
   "execution_count": 45,
   "outputs": [],
   "source": [
    "acc_target = acc_dataset_df.iloc[:, 1].copy().values\n",
    "gyro_target = gyro_dataset_df.iloc[:, 1].copy().values\n",
    "acc_features = acc_dataset_df.iloc[:, 2:].copy().values\n",
    "gyro_features = gyro_dataset_df.iloc[:, 2:].copy().values"
   ],
   "metadata": {
    "collapsed": false,
    "ExecuteTime": {
     "end_time": "2024-02-20T18:33:23.827423Z",
     "start_time": "2024-02-20T18:33:23.823453Z"
    }
   },
   "id": "bb0f5e19f2095882"
  },
  {
   "cell_type": "code",
   "execution_count": 46,
   "outputs": [],
   "source": [
    "def get_model_scores(models_dict, features, target, id_groupings, groupk_folds):\n",
    "    model_score_columns = list(scoring_methods.keys())\n",
    "    model_score_columns.insert(0, 'Model')\n",
    "    all_model_scores_df = pd.DataFrame(columns=model_score_columns)\n",
    "    for model_key in models_dict:\n",
    "        model_scores = cross_val_model(model=models_dict[model_key], features=features, target=target, id_groupings=id_groupings, groupk_folds=groupk_folds)\n",
    "        model_scores['Model'] = model_key\n",
    "        all_model_scores_df = pd.concat([all_model_scores_df, pd.DataFrame.from_dict(model_scores, orient='index').T], ignore_index=True)\n",
    "    return all_model_scores_df"
   ],
   "metadata": {
    "collapsed": false,
    "ExecuteTime": {
     "end_time": "2024-02-20T18:33:24.605529Z",
     "start_time": "2024-02-20T18:33:24.600872Z"
    }
   },
   "id": "456d27dfd54a59ac"
  },
  {
   "cell_type": "markdown",
   "source": [
    "## Testing All Models"
   ],
   "metadata": {
    "collapsed": false
   },
   "id": "e3df36bc951a7835"
  },
  {
   "cell_type": "code",
   "execution_count": 47,
   "outputs": [],
   "source": [
    "models = {\n",
    "    'Logistic Regression': LogisticRegression(),\n",
    "    'Support Vector Machine': SVC(kernel='sigmoid'),\n",
    "    'Gaussian Naive Bayes': GaussianNB(),\n",
    "    'Bernoulli Naive Bayes': BernoulliNB(),\n",
    "    'Decision Tree': DecisionTreeClassifier(),\n",
    "    'Random Forest': RandomForestClassifier(),\n",
    "    'Gradient Boosting': GradientBoostingClassifier(),\n",
    "    'AdaBoost': AdaBoostClassifier(),\n",
    "    'Extra Trees': ExtraTreesClassifier(),\n",
    "    'Voting': VotingClassifier(estimators=[('lr', LogisticRegression()), ('dt', DecisionTreeClassifier()), ('knn', KNeighborsClassifier())]),\n",
    "    'k-Nearest Neighbors': KNeighborsClassifier(n_neighbors=11),\n",
    "    'Multi-layer Perceptron': MLPClassifier(max_iter=1000, hidden_layer_sizes=(2, 3, 2)),\n",
    "    'Gaussian Process': GaussianProcessClassifier(),\n",
    "    'Quadratic Discriminant Analysis': QuadraticDiscriminantAnalysis(),\n",
    "    'Linear Discriminant Analysis': LinearDiscriminantAnalysis(),\n",
    "    'Perceptron': Perceptron(),\n",
    "    'Passive Aggressive': PassiveAggressiveClassifier()\n",
    "}"
   ],
   "metadata": {
    "collapsed": false,
    "ExecuteTime": {
     "end_time": "2024-02-20T18:33:26.120619Z",
     "start_time": "2024-02-20T18:33:26.116852Z"
    }
   },
   "id": "eea4b78045e24cfb"
  },
  {
   "cell_type": "code",
   "execution_count": 48,
   "outputs": [],
   "source": [
    "all_model_scores_acc = get_model_scores(models, features=acc_features, target=acc_target, id_groupings=acc_id_groupings, groupk_folds=6)"
   ],
   "metadata": {
    "collapsed": false,
    "ExecuteTime": {
     "end_time": "2024-02-20T18:36:41.686243Z",
     "start_time": "2024-02-20T18:33:31.101896Z"
    }
   },
   "id": "ecccc52f118b9702"
  },
  {
   "cell_type": "code",
   "execution_count": 49,
   "outputs": [],
   "source": [
    "all_model_scores_gyro = get_model_scores(models, features=gyro_features, target=gyro_target, id_groupings=gyro_id_groupings, groupk_folds=6)"
   ],
   "metadata": {
    "collapsed": false,
    "ExecuteTime": {
     "end_time": "2024-02-20T18:39:05.545417Z",
     "start_time": "2024-02-20T18:36:41.736247Z"
    }
   },
   "id": "286577398739ec52"
  },
  {
   "cell_type": "code",
   "execution_count": 50,
   "outputs": [
    {
     "data": {
      "text/plain": "                              Model  Accuracy Precision Sensitivity  \\\n0               Logistic Regression  0.624847  0.618194    0.619095   \n1            Support Vector Machine  0.633188  0.616306    0.610036   \n2              Gaussian Naive Bayes  0.579185  0.605667     0.58201   \n3             Bernoulli Naive Bayes  0.586117  0.587931    0.586183   \n4                     Decision Tree  0.556673  0.562103    0.546859   \n5                     Random Forest  0.585936  0.562612     0.56184   \n6                 Gradient Boosting  0.571411  0.560291    0.562882   \n7                          AdaBoost  0.573327   0.56838    0.572235   \n8                       Extra Trees  0.587876  0.577585    0.577574   \n9                            Voting  0.591931   0.59896    0.587238   \n10              k-Nearest Neighbors  0.575823  0.562392    0.560232   \n11           Multi-layer Perceptron  0.555908  0.599644    0.573999   \n12                 Gaussian Process  0.559834  0.546824    0.546805   \n13  Quadratic Discriminant Analysis  0.580031  0.588187    0.582126   \n14     Linear Discriminant Analysis  0.611472  0.607769    0.601622   \n15                       Perceptron   0.61005  0.633987    0.629653   \n16               Passive Aggressive  0.594445  0.600271    0.632325   \n\n   Specificity        F1  \n0     0.540793   0.61009  \n1     0.484156  0.599424  \n2     0.750061  0.544592  \n3     0.496324  0.565818  \n4     0.454773   0.53134  \n5     0.393457  0.554058  \n6     0.438241  0.552581  \n7     0.519577  0.562507  \n8     0.399997  0.560825  \n9     0.473567  0.578895  \n10    0.453155  0.554476  \n11    0.393562   0.57061  \n12    0.452444  0.541419  \n13    0.658862  0.561389  \n14    0.491172  0.591499  \n15    0.600525  0.602282  \n16    0.467688  0.539192  ",
      "text/html": "<div>\n<style scoped>\n    .dataframe tbody tr th:only-of-type {\n        vertical-align: middle;\n    }\n\n    .dataframe tbody tr th {\n        vertical-align: top;\n    }\n\n    .dataframe thead th {\n        text-align: right;\n    }\n</style>\n<table border=\"1\" class=\"dataframe\">\n  <thead>\n    <tr style=\"text-align: right;\">\n      <th></th>\n      <th>Model</th>\n      <th>Accuracy</th>\n      <th>Precision</th>\n      <th>Sensitivity</th>\n      <th>Specificity</th>\n      <th>F1</th>\n    </tr>\n  </thead>\n  <tbody>\n    <tr>\n      <th>0</th>\n      <td>Logistic Regression</td>\n      <td>0.624847</td>\n      <td>0.618194</td>\n      <td>0.619095</td>\n      <td>0.540793</td>\n      <td>0.61009</td>\n    </tr>\n    <tr>\n      <th>1</th>\n      <td>Support Vector Machine</td>\n      <td>0.633188</td>\n      <td>0.616306</td>\n      <td>0.610036</td>\n      <td>0.484156</td>\n      <td>0.599424</td>\n    </tr>\n    <tr>\n      <th>2</th>\n      <td>Gaussian Naive Bayes</td>\n      <td>0.579185</td>\n      <td>0.605667</td>\n      <td>0.58201</td>\n      <td>0.750061</td>\n      <td>0.544592</td>\n    </tr>\n    <tr>\n      <th>3</th>\n      <td>Bernoulli Naive Bayes</td>\n      <td>0.586117</td>\n      <td>0.587931</td>\n      <td>0.586183</td>\n      <td>0.496324</td>\n      <td>0.565818</td>\n    </tr>\n    <tr>\n      <th>4</th>\n      <td>Decision Tree</td>\n      <td>0.556673</td>\n      <td>0.562103</td>\n      <td>0.546859</td>\n      <td>0.454773</td>\n      <td>0.53134</td>\n    </tr>\n    <tr>\n      <th>5</th>\n      <td>Random Forest</td>\n      <td>0.585936</td>\n      <td>0.562612</td>\n      <td>0.56184</td>\n      <td>0.393457</td>\n      <td>0.554058</td>\n    </tr>\n    <tr>\n      <th>6</th>\n      <td>Gradient Boosting</td>\n      <td>0.571411</td>\n      <td>0.560291</td>\n      <td>0.562882</td>\n      <td>0.438241</td>\n      <td>0.552581</td>\n    </tr>\n    <tr>\n      <th>7</th>\n      <td>AdaBoost</td>\n      <td>0.573327</td>\n      <td>0.56838</td>\n      <td>0.572235</td>\n      <td>0.519577</td>\n      <td>0.562507</td>\n    </tr>\n    <tr>\n      <th>8</th>\n      <td>Extra Trees</td>\n      <td>0.587876</td>\n      <td>0.577585</td>\n      <td>0.577574</td>\n      <td>0.399997</td>\n      <td>0.560825</td>\n    </tr>\n    <tr>\n      <th>9</th>\n      <td>Voting</td>\n      <td>0.591931</td>\n      <td>0.59896</td>\n      <td>0.587238</td>\n      <td>0.473567</td>\n      <td>0.578895</td>\n    </tr>\n    <tr>\n      <th>10</th>\n      <td>k-Nearest Neighbors</td>\n      <td>0.575823</td>\n      <td>0.562392</td>\n      <td>0.560232</td>\n      <td>0.453155</td>\n      <td>0.554476</td>\n    </tr>\n    <tr>\n      <th>11</th>\n      <td>Multi-layer Perceptron</td>\n      <td>0.555908</td>\n      <td>0.599644</td>\n      <td>0.573999</td>\n      <td>0.393562</td>\n      <td>0.57061</td>\n    </tr>\n    <tr>\n      <th>12</th>\n      <td>Gaussian Process</td>\n      <td>0.559834</td>\n      <td>0.546824</td>\n      <td>0.546805</td>\n      <td>0.452444</td>\n      <td>0.541419</td>\n    </tr>\n    <tr>\n      <th>13</th>\n      <td>Quadratic Discriminant Analysis</td>\n      <td>0.580031</td>\n      <td>0.588187</td>\n      <td>0.582126</td>\n      <td>0.658862</td>\n      <td>0.561389</td>\n    </tr>\n    <tr>\n      <th>14</th>\n      <td>Linear Discriminant Analysis</td>\n      <td>0.611472</td>\n      <td>0.607769</td>\n      <td>0.601622</td>\n      <td>0.491172</td>\n      <td>0.591499</td>\n    </tr>\n    <tr>\n      <th>15</th>\n      <td>Perceptron</td>\n      <td>0.61005</td>\n      <td>0.633987</td>\n      <td>0.629653</td>\n      <td>0.600525</td>\n      <td>0.602282</td>\n    </tr>\n    <tr>\n      <th>16</th>\n      <td>Passive Aggressive</td>\n      <td>0.594445</td>\n      <td>0.600271</td>\n      <td>0.632325</td>\n      <td>0.467688</td>\n      <td>0.539192</td>\n    </tr>\n  </tbody>\n</table>\n</div>"
     },
     "execution_count": 50,
     "metadata": {},
     "output_type": "execute_result"
    }
   ],
   "source": [
    "all_model_scores_acc"
   ],
   "metadata": {
    "collapsed": false,
    "ExecuteTime": {
     "end_time": "2024-02-20T18:39:05.552309Z",
     "start_time": "2024-02-20T18:39:05.539640Z"
    }
   },
   "id": "93f9b33efe8a7f63"
  },
  {
   "cell_type": "code",
   "execution_count": 51,
   "outputs": [
    {
     "data": {
      "text/plain": "                              Model  Accuracy Precision Sensitivity  \\\n0               Logistic Regression  0.600973  0.596594    0.556517   \n1            Support Vector Machine  0.491224  0.480892    0.480854   \n2              Gaussian Naive Bayes   0.60224  0.598914    0.556426   \n3             Bernoulli Naive Bayes  0.557671  0.333354     0.52052   \n4                     Decision Tree  0.538741  0.523832    0.524615   \n5                     Random Forest  0.538741  0.522769    0.524088   \n6                 Gradient Boosting  0.585256   0.57093    0.538107   \n7                          AdaBoost   0.57861  0.579416    0.540821   \n8                       Extra Trees  0.536254  0.519262    0.519194   \n9                            Voting  0.570168  0.545178    0.539206   \n10              k-Nearest Neighbors  0.587068  0.568972    0.557064   \n11           Multi-layer Perceptron  0.587282  0.467716    0.559519   \n12                 Gaussian Process  0.604267  0.609473    0.557808   \n13  Quadratic Discriminant Analysis  0.602495  0.599123    0.556604   \n14     Linear Discriminant Analysis  0.600461  0.596197    0.556162   \n15                       Perceptron  0.456576  0.476418    0.493423   \n16               Passive Aggressive  0.583876  0.417703    0.547384   \n\n   Specificity        F1  \n0     0.243546  0.516311  \n1     0.383172   0.46968  \n2     0.240303  0.517205  \n3     0.130237  0.388592  \n4     0.431121  0.517526  \n5     0.431121  0.517526  \n6      0.21267  0.492399  \n7     0.229367  0.487922  \n8     0.423214   0.51926  \n9     0.320312  0.519353  \n10    0.339286  0.537505  \n11    0.071998  0.393878  \n12    0.232267  0.514051  \n13    0.240303  0.517403  \n14    0.243546  0.515908  \n15    0.474921  0.421058  \n16    0.280698  0.470142  ",
      "text/html": "<div>\n<style scoped>\n    .dataframe tbody tr th:only-of-type {\n        vertical-align: middle;\n    }\n\n    .dataframe tbody tr th {\n        vertical-align: top;\n    }\n\n    .dataframe thead th {\n        text-align: right;\n    }\n</style>\n<table border=\"1\" class=\"dataframe\">\n  <thead>\n    <tr style=\"text-align: right;\">\n      <th></th>\n      <th>Model</th>\n      <th>Accuracy</th>\n      <th>Precision</th>\n      <th>Sensitivity</th>\n      <th>Specificity</th>\n      <th>F1</th>\n    </tr>\n  </thead>\n  <tbody>\n    <tr>\n      <th>0</th>\n      <td>Logistic Regression</td>\n      <td>0.600973</td>\n      <td>0.596594</td>\n      <td>0.556517</td>\n      <td>0.243546</td>\n      <td>0.516311</td>\n    </tr>\n    <tr>\n      <th>1</th>\n      <td>Support Vector Machine</td>\n      <td>0.491224</td>\n      <td>0.480892</td>\n      <td>0.480854</td>\n      <td>0.383172</td>\n      <td>0.46968</td>\n    </tr>\n    <tr>\n      <th>2</th>\n      <td>Gaussian Naive Bayes</td>\n      <td>0.60224</td>\n      <td>0.598914</td>\n      <td>0.556426</td>\n      <td>0.240303</td>\n      <td>0.517205</td>\n    </tr>\n    <tr>\n      <th>3</th>\n      <td>Bernoulli Naive Bayes</td>\n      <td>0.557671</td>\n      <td>0.333354</td>\n      <td>0.52052</td>\n      <td>0.130237</td>\n      <td>0.388592</td>\n    </tr>\n    <tr>\n      <th>4</th>\n      <td>Decision Tree</td>\n      <td>0.538741</td>\n      <td>0.523832</td>\n      <td>0.524615</td>\n      <td>0.431121</td>\n      <td>0.517526</td>\n    </tr>\n    <tr>\n      <th>5</th>\n      <td>Random Forest</td>\n      <td>0.538741</td>\n      <td>0.522769</td>\n      <td>0.524088</td>\n      <td>0.431121</td>\n      <td>0.517526</td>\n    </tr>\n    <tr>\n      <th>6</th>\n      <td>Gradient Boosting</td>\n      <td>0.585256</td>\n      <td>0.57093</td>\n      <td>0.538107</td>\n      <td>0.21267</td>\n      <td>0.492399</td>\n    </tr>\n    <tr>\n      <th>7</th>\n      <td>AdaBoost</td>\n      <td>0.57861</td>\n      <td>0.579416</td>\n      <td>0.540821</td>\n      <td>0.229367</td>\n      <td>0.487922</td>\n    </tr>\n    <tr>\n      <th>8</th>\n      <td>Extra Trees</td>\n      <td>0.536254</td>\n      <td>0.519262</td>\n      <td>0.519194</td>\n      <td>0.423214</td>\n      <td>0.51926</td>\n    </tr>\n    <tr>\n      <th>9</th>\n      <td>Voting</td>\n      <td>0.570168</td>\n      <td>0.545178</td>\n      <td>0.539206</td>\n      <td>0.320312</td>\n      <td>0.519353</td>\n    </tr>\n    <tr>\n      <th>10</th>\n      <td>k-Nearest Neighbors</td>\n      <td>0.587068</td>\n      <td>0.568972</td>\n      <td>0.557064</td>\n      <td>0.339286</td>\n      <td>0.537505</td>\n    </tr>\n    <tr>\n      <th>11</th>\n      <td>Multi-layer Perceptron</td>\n      <td>0.587282</td>\n      <td>0.467716</td>\n      <td>0.559519</td>\n      <td>0.071998</td>\n      <td>0.393878</td>\n    </tr>\n    <tr>\n      <th>12</th>\n      <td>Gaussian Process</td>\n      <td>0.604267</td>\n      <td>0.609473</td>\n      <td>0.557808</td>\n      <td>0.232267</td>\n      <td>0.514051</td>\n    </tr>\n    <tr>\n      <th>13</th>\n      <td>Quadratic Discriminant Analysis</td>\n      <td>0.602495</td>\n      <td>0.599123</td>\n      <td>0.556604</td>\n      <td>0.240303</td>\n      <td>0.517403</td>\n    </tr>\n    <tr>\n      <th>14</th>\n      <td>Linear Discriminant Analysis</td>\n      <td>0.600461</td>\n      <td>0.596197</td>\n      <td>0.556162</td>\n      <td>0.243546</td>\n      <td>0.515908</td>\n    </tr>\n    <tr>\n      <th>15</th>\n      <td>Perceptron</td>\n      <td>0.456576</td>\n      <td>0.476418</td>\n      <td>0.493423</td>\n      <td>0.474921</td>\n      <td>0.421058</td>\n    </tr>\n    <tr>\n      <th>16</th>\n      <td>Passive Aggressive</td>\n      <td>0.583876</td>\n      <td>0.417703</td>\n      <td>0.547384</td>\n      <td>0.280698</td>\n      <td>0.470142</td>\n    </tr>\n  </tbody>\n</table>\n</div>"
     },
     "execution_count": 51,
     "metadata": {},
     "output_type": "execute_result"
    }
   ],
   "source": [
    "all_model_scores_gyro"
   ],
   "metadata": {
    "collapsed": false,
    "ExecuteTime": {
     "end_time": "2024-02-20T18:39:05.554158Z",
     "start_time": "2024-02-20T18:39:05.547625Z"
    }
   },
   "id": "f69c2a77ce9a2a2d"
  }
 ],
 "metadata": {
  "kernelspec": {
   "display_name": "Python 3",
   "language": "python",
   "name": "python3"
  },
  "language_info": {
   "codemirror_mode": {
    "name": "ipython",
    "version": 2
   },
   "file_extension": ".py",
   "mimetype": "text/x-python",
   "name": "python",
   "nbconvert_exporter": "python",
   "pygments_lexer": "ipython2",
   "version": "2.7.6"
  }
 },
 "nbformat": 4,
 "nbformat_minor": 5
}
