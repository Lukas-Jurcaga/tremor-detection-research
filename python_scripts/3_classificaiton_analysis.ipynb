{
 "cells": [
  {
   "cell_type": "code",
   "execution_count": 37,
   "outputs": [],
   "source": [
    "import pandas as pd\n",
    "from utils.feature_selection import *\n",
    "from sklearn.model_selection import LeaveOneOut\n",
    "from sklearn.linear_model import LogisticRegression\n",
    "from sklearn.svm import SVC\n",
    "from sklearn.metrics import accuracy_score"
   ],
   "metadata": {
    "collapsed": false,
    "ExecuteTime": {
     "end_time": "2024-02-17T16:27:22.890756Z",
     "start_time": "2024-02-17T16:27:22.853122Z"
    }
   },
   "id": "467f7249f650e6f6"
  },
  {
   "cell_type": "markdown",
   "source": [
    "# Classification"
   ],
   "metadata": {
    "collapsed": false
   },
   "id": "cbb8871a0bd8cd9b"
  },
  {
   "cell_type": "code",
   "execution_count": 38,
   "id": "initial_id",
   "metadata": {
    "collapsed": true,
    "ExecuteTime": {
     "end_time": "2024-02-17T16:27:22.897966Z",
     "start_time": "2024-02-17T16:27:22.856403Z"
    }
   },
   "outputs": [],
   "source": [
    "final_dataset_path = '../dataset/final/whole/'\n",
    "acc_dataset_path = final_dataset_path + 'PatchTable_Acceleration_Filtered.csv'\n",
    "gyro_dataset_path = final_dataset_path + 'PatchTable_Gyroscope_Filtered.csv'"
   ]
  },
  {
   "cell_type": "code",
   "execution_count": 39,
   "outputs": [],
   "source": [
    "acc_dataset_df = pd.read_csv(acc_dataset_path)\n",
    "gyro_dataset_df = pd.read_csv(gyro_dataset_path)"
   ],
   "metadata": {
    "collapsed": false,
    "ExecuteTime": {
     "end_time": "2024-02-17T16:27:22.913296Z",
     "start_time": "2024-02-17T16:27:22.861039Z"
    }
   },
   "id": "42563d981780aee8"
  },
  {
   "cell_type": "code",
   "execution_count": 40,
   "outputs": [
    {
     "data": {
      "text/plain": "    Class  IndexHarmonicity_ML  \\\n0       0            -1.069330   \n1       1             1.681837   \n2       0             1.672111   \n3       1             1.007142   \n4       0             0.252562   \n5       1            -0.906996   \n6       0             0.808179   \n7       1            -0.871964   \n8       0            -0.267925   \n9       1            -0.984467   \n10      0            -0.705786   \n11      1            -0.615363   \n\n    FirstDerivative_Moment3rd_SigComplete_Magnitude  \\\n0                                          0.135301   \n1                                          1.559217   \n2                                         -0.523202   \n3                                         -0.508966   \n4                                         -0.022803   \n5                                          0.133564   \n6                                         -1.688993   \n7                                         -0.273250   \n8                                          0.590969   \n9                                          0.252868   \n10                                        -1.500556   \n11                                         1.845852   \n\n    InterQuartileRange_SigComplete_VT  Std_SigComplete_ML  \\\n0                           -0.453811           -0.429353   \n1                           -0.610753           -0.770064   \n2                           -0.222828           -0.511502   \n3                            1.372247           -0.479112   \n4                           -0.961819           -0.610377   \n5                           -0.727572            0.265277   \n6                           -0.694287            0.869764   \n7                            2.507555           -0.696239   \n8                           -0.915989           -0.634120   \n9                           -0.179156           -0.832741   \n10                           0.442409            2.472430   \n11                           0.444003            1.356035   \n\n    RelativePower_Below5Hz_AP  Moment2ndPSD_Plom_AP  ModeSignal_AP  \\\n0                   -0.505171             -0.381535       1.425815   \n1                   -0.370701              0.916358       0.790065   \n2                   -0.611616             -0.456534      -0.486181   \n3                   -0.001430             -0.451724      -0.956278   \n4                    0.919677             -0.451914       0.405790   \n5                   -1.297334              3.074220      -1.794684   \n6                    1.397099             -0.453804       0.156805   \n7                   -1.279988             -0.087912      -0.757398   \n8                    1.787401             -0.454205      -0.637895   \n9                   -0.573928             -0.451296       1.935459   \n10                   1.118387             -0.434212       0.120470   \n11                  -0.582395             -0.367443      -0.201967   \n\n    RelativePower_BelowDomFr_Magnitude  CentroidSpMax_Magnitude  \n0                            -0.676916                -0.092303  \n1                             0.522940                 2.227281  \n2                            -0.862825                -0.108542  \n3                             0.246958                 1.621542  \n4                            -0.747132                -0.473631  \n5                            -0.479493                -0.277505  \n6                            -0.893267                -1.897663  \n7                             0.611405                 0.088414  \n8                            -0.781816                -0.526397  \n9                             2.500430                 0.002039  \n10                           -0.581239                -0.429143  \n11                            1.140954                -0.134092  ",
      "text/html": "<div>\n<style scoped>\n    .dataframe tbody tr th:only-of-type {\n        vertical-align: middle;\n    }\n\n    .dataframe tbody tr th {\n        vertical-align: top;\n    }\n\n    .dataframe thead th {\n        text-align: right;\n    }\n</style>\n<table border=\"1\" class=\"dataframe\">\n  <thead>\n    <tr style=\"text-align: right;\">\n      <th></th>\n      <th>Class</th>\n      <th>IndexHarmonicity_ML</th>\n      <th>FirstDerivative_Moment3rd_SigComplete_Magnitude</th>\n      <th>InterQuartileRange_SigComplete_VT</th>\n      <th>Std_SigComplete_ML</th>\n      <th>RelativePower_Below5Hz_AP</th>\n      <th>Moment2ndPSD_Plom_AP</th>\n      <th>ModeSignal_AP</th>\n      <th>RelativePower_BelowDomFr_Magnitude</th>\n      <th>CentroidSpMax_Magnitude</th>\n    </tr>\n  </thead>\n  <tbody>\n    <tr>\n      <th>0</th>\n      <td>0</td>\n      <td>-1.069330</td>\n      <td>0.135301</td>\n      <td>-0.453811</td>\n      <td>-0.429353</td>\n      <td>-0.505171</td>\n      <td>-0.381535</td>\n      <td>1.425815</td>\n      <td>-0.676916</td>\n      <td>-0.092303</td>\n    </tr>\n    <tr>\n      <th>1</th>\n      <td>1</td>\n      <td>1.681837</td>\n      <td>1.559217</td>\n      <td>-0.610753</td>\n      <td>-0.770064</td>\n      <td>-0.370701</td>\n      <td>0.916358</td>\n      <td>0.790065</td>\n      <td>0.522940</td>\n      <td>2.227281</td>\n    </tr>\n    <tr>\n      <th>2</th>\n      <td>0</td>\n      <td>1.672111</td>\n      <td>-0.523202</td>\n      <td>-0.222828</td>\n      <td>-0.511502</td>\n      <td>-0.611616</td>\n      <td>-0.456534</td>\n      <td>-0.486181</td>\n      <td>-0.862825</td>\n      <td>-0.108542</td>\n    </tr>\n    <tr>\n      <th>3</th>\n      <td>1</td>\n      <td>1.007142</td>\n      <td>-0.508966</td>\n      <td>1.372247</td>\n      <td>-0.479112</td>\n      <td>-0.001430</td>\n      <td>-0.451724</td>\n      <td>-0.956278</td>\n      <td>0.246958</td>\n      <td>1.621542</td>\n    </tr>\n    <tr>\n      <th>4</th>\n      <td>0</td>\n      <td>0.252562</td>\n      <td>-0.022803</td>\n      <td>-0.961819</td>\n      <td>-0.610377</td>\n      <td>0.919677</td>\n      <td>-0.451914</td>\n      <td>0.405790</td>\n      <td>-0.747132</td>\n      <td>-0.473631</td>\n    </tr>\n    <tr>\n      <th>5</th>\n      <td>1</td>\n      <td>-0.906996</td>\n      <td>0.133564</td>\n      <td>-0.727572</td>\n      <td>0.265277</td>\n      <td>-1.297334</td>\n      <td>3.074220</td>\n      <td>-1.794684</td>\n      <td>-0.479493</td>\n      <td>-0.277505</td>\n    </tr>\n    <tr>\n      <th>6</th>\n      <td>0</td>\n      <td>0.808179</td>\n      <td>-1.688993</td>\n      <td>-0.694287</td>\n      <td>0.869764</td>\n      <td>1.397099</td>\n      <td>-0.453804</td>\n      <td>0.156805</td>\n      <td>-0.893267</td>\n      <td>-1.897663</td>\n    </tr>\n    <tr>\n      <th>7</th>\n      <td>1</td>\n      <td>-0.871964</td>\n      <td>-0.273250</td>\n      <td>2.507555</td>\n      <td>-0.696239</td>\n      <td>-1.279988</td>\n      <td>-0.087912</td>\n      <td>-0.757398</td>\n      <td>0.611405</td>\n      <td>0.088414</td>\n    </tr>\n    <tr>\n      <th>8</th>\n      <td>0</td>\n      <td>-0.267925</td>\n      <td>0.590969</td>\n      <td>-0.915989</td>\n      <td>-0.634120</td>\n      <td>1.787401</td>\n      <td>-0.454205</td>\n      <td>-0.637895</td>\n      <td>-0.781816</td>\n      <td>-0.526397</td>\n    </tr>\n    <tr>\n      <th>9</th>\n      <td>1</td>\n      <td>-0.984467</td>\n      <td>0.252868</td>\n      <td>-0.179156</td>\n      <td>-0.832741</td>\n      <td>-0.573928</td>\n      <td>-0.451296</td>\n      <td>1.935459</td>\n      <td>2.500430</td>\n      <td>0.002039</td>\n    </tr>\n    <tr>\n      <th>10</th>\n      <td>0</td>\n      <td>-0.705786</td>\n      <td>-1.500556</td>\n      <td>0.442409</td>\n      <td>2.472430</td>\n      <td>1.118387</td>\n      <td>-0.434212</td>\n      <td>0.120470</td>\n      <td>-0.581239</td>\n      <td>-0.429143</td>\n    </tr>\n    <tr>\n      <th>11</th>\n      <td>1</td>\n      <td>-0.615363</td>\n      <td>1.845852</td>\n      <td>0.444003</td>\n      <td>1.356035</td>\n      <td>-0.582395</td>\n      <td>-0.367443</td>\n      <td>-0.201967</td>\n      <td>1.140954</td>\n      <td>-0.134092</td>\n    </tr>\n  </tbody>\n</table>\n</div>"
     },
     "execution_count": 40,
     "metadata": {},
     "output_type": "execute_result"
    }
   ],
   "source": [
    "acc_dataset_df"
   ],
   "metadata": {
    "collapsed": false,
    "ExecuteTime": {
     "end_time": "2024-02-17T16:27:22.922013Z",
     "start_time": "2024-02-17T16:27:22.894274Z"
    }
   },
   "id": "4eb8a8e4ec74a99c"
  },
  {
   "cell_type": "code",
   "execution_count": 41,
   "outputs": [],
   "source": [
    "acc_target = acc_dataset_df.iloc[:, 0].copy().values\n",
    "gyro_target = gyro_dataset_df.iloc[:, 0].copy().values\n",
    "acc_features = acc_dataset_df.iloc[:, 1:].copy().values\n",
    "gyro_features = gyro_dataset_df.iloc[:, 1:].copy().values"
   ],
   "metadata": {
    "collapsed": false,
    "ExecuteTime": {
     "end_time": "2024-02-17T16:27:22.922269Z",
     "start_time": "2024-02-17T16:27:22.898202Z"
    }
   },
   "id": "bb0f5e19f2095882"
  },
  {
   "cell_type": "code",
   "execution_count": 42,
   "outputs": [
    {
     "data": {
      "text/plain": "array([0, 1, 0, 1, 0, 1, 0, 1, 0, 1, 0, 1])"
     },
     "execution_count": 42,
     "metadata": {},
     "output_type": "execute_result"
    }
   ],
   "source": [
    "acc_target"
   ],
   "metadata": {
    "collapsed": false,
    "ExecuteTime": {
     "end_time": "2024-02-17T16:27:22.922419Z",
     "start_time": "2024-02-17T16:27:22.901219Z"
    }
   },
   "id": "a96323232e2de5e1"
  },
  {
   "cell_type": "code",
   "execution_count": 43,
   "outputs": [
    {
     "data": {
      "text/plain": "array([[-0.99608864, -1.68061471, -0.04550722, -1.1724484 , -0.44241608,\n        -0.81979075, -0.89880798,  0.9649292 ,  1.14056895],\n       [ 0.93287132,  2.11163737, -0.07021977, -0.49128046,  0.12397412,\n         0.6109313 , -1.2967928 , -0.13256084, -0.17696923],\n       [ 1.45940502,  0.08603492,  0.23339549, -0.59279016,  1.57756657,\n        -0.46783144,  0.8473339 , -0.59284529, -0.38643853],\n       [-1.03851078, -0.39283755, -0.16647376,  0.38101458,  0.54410194,\n         0.1252065 , -0.58662649, -1.11103711,  0.06373277],\n       [ 0.19672231,  0.17194626,  0.08182637,  0.1924012 ,  0.31890194,\n         0.75543788,  2.40650193,  0.9419858 ,  0.7720133 ],\n       [-0.2075358 , -0.10966649,  0.80219126,  0.79601264, -0.06886387,\n         0.42973331, -0.01834874, -0.79365987, -0.06598875],\n       [-0.78647332, -0.16378657, -0.3613237 , -0.60262311, -0.97899651,\n        -0.96472756, -0.23544344,  1.99852933, -2.15605421],\n       [ 1.11004617,  0.67128232, -1.1964841 ,  0.81637719, -0.28079523,\n         2.64920146, -0.46989188, -0.50211797, -0.94399191],\n       [ 1.43944166, -1.78634531,  2.74870002, -1.02994748, -0.72819235,\n        -1.02847658,  0.71504675,  0.97837192,  0.5273108 ],\n       [-1.1757589 ,  0.45208313, -0.43137692,  0.76369399, -1.22827405,\n        -0.94861723, -1.19452995, -1.64886903,  1.82818462],\n       [ 0.27657576, -0.14643972, -1.38279526, -1.27687615,  2.18543195,\n        -0.16626824,  0.07017458,  0.05046542,  0.23388575],\n       [-1.21069479,  0.78670635, -0.21193243,  2.21646617, -1.02243844,\n        -0.17479865,  0.66138411, -0.15319157, -0.83625356]])"
     },
     "execution_count": 43,
     "metadata": {},
     "output_type": "execute_result"
    }
   ],
   "source": [
    "gyro_features"
   ],
   "metadata": {
    "collapsed": false,
    "ExecuteTime": {
     "end_time": "2024-02-17T16:27:22.922511Z",
     "start_time": "2024-02-17T16:27:22.904771Z"
    }
   },
   "id": "c3a4f8acce85861e"
  },
  {
   "cell_type": "markdown",
   "source": [
    "### Logistic Regression"
   ],
   "metadata": {
    "collapsed": false
   },
   "id": "188e0b3925235e0e"
  },
  {
   "cell_type": "code",
   "execution_count": 44,
   "outputs": [
    {
     "name": "stdout",
     "output_type": "stream",
     "text": [
      "Accuracy: 0.9166666666666666\n"
     ]
    }
   ],
   "source": [
    "# Assuming X and y are your feature matrix and target vector, respectively\n",
    "\n",
    "# Initialize the logistic regression model\n",
    "model = SVC(kernel='linear')\n",
    "\n",
    "# Initialize Leave-One-Out cross-validator\n",
    "loo = LeaveOneOut()\n",
    "\n",
    "# Initialize lists to store predictions and true labels\n",
    "predictions = []\n",
    "true_labels = []\n",
    "\n",
    "# Iterate over each train-test split\n",
    "for train_index, test_index in loo.split(gyro_features):\n",
    "    # Split data into train and test sets\n",
    "    X_train, X_test = acc_features[train_index], acc_features[test_index]\n",
    "    y_train, y_test = acc_target[train_index], acc_target[test_index]\n",
    "    \n",
    "    # Fit the model on the training data\n",
    "    model.fit(X_train, y_train)\n",
    "    \n",
    "    # Make predictions on the test data\n",
    "    y_pred = model.predict(X_test)\n",
    "    \n",
    "    # Store predictions and true labels\n",
    "    predictions.append(y_pred[0])\n",
    "    true_labels.append(y_test[0])\n",
    "\n",
    "# Calculate accuracy\n",
    "accuracy = accuracy_score(true_labels, predictions)\n",
    "print(\"Accuracy:\", accuracy)"
   ],
   "metadata": {
    "collapsed": false,
    "ExecuteTime": {
     "end_time": "2024-02-17T16:27:22.922860Z",
     "start_time": "2024-02-17T16:27:22.910808Z"
    }
   },
   "id": "5531b20d326bd204"
  },
  {
   "cell_type": "markdown",
   "source": [
    "### Random Forest"
   ],
   "metadata": {
    "collapsed": false
   },
   "id": "4eb7beab264162fe"
  },
  {
   "cell_type": "code",
   "execution_count": 44,
   "outputs": [],
   "source": [],
   "metadata": {
    "collapsed": false,
    "ExecuteTime": {
     "end_time": "2024-02-17T16:27:22.922895Z",
     "start_time": "2024-02-17T16:27:22.917432Z"
    }
   },
   "id": "252c851e44685fe5"
  },
  {
   "cell_type": "markdown",
   "source": [
    "### Support Vector Machine "
   ],
   "metadata": {
    "collapsed": false
   },
   "id": "50f71207600cadd7"
  },
  {
   "cell_type": "code",
   "execution_count": 44,
   "outputs": [],
   "source": [],
   "metadata": {
    "collapsed": false,
    "ExecuteTime": {
     "end_time": "2024-02-17T16:27:22.923213Z",
     "start_time": "2024-02-17T16:27:22.920430Z"
    }
   },
   "id": "6c970bf2784763d2"
  }
 ],
 "metadata": {
  "kernelspec": {
   "display_name": "Python 3",
   "language": "python",
   "name": "python3"
  },
  "language_info": {
   "codemirror_mode": {
    "name": "ipython",
    "version": 2
   },
   "file_extension": ".py",
   "mimetype": "text/x-python",
   "name": "python",
   "nbconvert_exporter": "python",
   "pygments_lexer": "ipython2",
   "version": "2.7.6"
  }
 },
 "nbformat": 4,
 "nbformat_minor": 5
}
