{
 "cells": [
  {
   "cell_type": "code",
   "execution_count": 1,
   "outputs": [],
   "source": [
    "import pandas as pd\n",
    "from sklearn.feature_selection import SelectKBest\n",
    "from sklearn.feature_selection import chi2\n",
    "import matplotlib.pyplot as plt\n",
    "from sklearn.datasets import make_classification\n",
    "import seaborn as sns\n",
    "from sklearn.ensemble import RandomForestClassifier\n",
    "from utils.feature_selection import *"
   ],
   "metadata": {
    "collapsed": false,
    "ExecuteTime": {
     "end_time": "2024-02-16T19:02:32.712805Z",
     "start_time": "2024-02-16T19:02:32.424981Z"
    }
   },
   "id": "a6fb1f2cc9cc2f1e"
  },
  {
   "cell_type": "markdown",
   "source": [
    "# Feature Extraction"
   ],
   "metadata": {
    "collapsed": false
   },
   "id": "5794ec7a715b7ab9"
  },
  {
   "cell_type": "code",
   "execution_count": 2,
   "id": "initial_id",
   "metadata": {
    "collapsed": true,
    "ExecuteTime": {
     "end_time": "2024-02-16T19:02:32.717039Z",
     "start_time": "2024-02-16T19:02:32.713420Z"
    }
   },
   "outputs": [],
   "source": [
    "final_dataset_path = '../dataset/final/whole/'\n",
    "acc_dataset_path = final_dataset_path + 'PatchTable_Acceleration_Normalised.csv'\n",
    "gyro_dataset_path = final_dataset_path + 'PatchTable_Gyroscope_Normalised.csv'"
   ]
  },
  {
   "cell_type": "code",
   "execution_count": 3,
   "outputs": [],
   "source": [
    "acc_dataset_df = pd.read_csv(acc_dataset_path).iloc[:, 1:]\n",
    "gyro_dataset_df = pd.read_csv(gyro_dataset_path).iloc[:, 1:]\n",
    "acc_dataset_df = acc_dataset_df.drop('ClassificationType', axis=1)\n",
    "gyro_dataset_df = gyro_dataset_df.drop('ClassificationType', axis=1)"
   ],
   "metadata": {
    "collapsed": false,
    "ExecuteTime": {
     "end_time": "2024-02-16T19:02:32.725359Z",
     "start_time": "2024-02-16T19:02:32.716758Z"
    }
   },
   "id": "89650f6d7960f457"
  },
  {
   "cell_type": "markdown",
   "source": [
    "### Feature Importance"
   ],
   "metadata": {
    "collapsed": false
   },
   "id": "35a24b18b3c8516"
  },
  {
   "cell_type": "code",
   "execution_count": 4,
   "outputs": [],
   "source": [
    "# Separate features and target variable\n",
    "acc_features = acc_dataset_df.drop(columns=['Class', ])\n",
    "acc_target = acc_dataset_df['Class']\n",
    "gyro_features = gyro_dataset_df.drop(columns=['Class'])\n",
    "gyro_target = gyro_dataset_df['Class']"
   ],
   "metadata": {
    "collapsed": false,
    "ExecuteTime": {
     "end_time": "2024-02-16T19:02:32.729223Z",
     "start_time": "2024-02-16T19:02:32.726582Z"
    }
   },
   "id": "13f6c4a2ddd43f14"
  },
  {
   "cell_type": "code",
   "execution_count": 5,
   "outputs": [
    {
     "data": {
      "text/plain": "RandomForestClassifier()",
      "text/html": "<style>#sk-container-id-1 {color: black;}#sk-container-id-1 pre{padding: 0;}#sk-container-id-1 div.sk-toggleable {background-color: white;}#sk-container-id-1 label.sk-toggleable__label {cursor: pointer;display: block;width: 100%;margin-bottom: 0;padding: 0.3em;box-sizing: border-box;text-align: center;}#sk-container-id-1 label.sk-toggleable__label-arrow:before {content: \"▸\";float: left;margin-right: 0.25em;color: #696969;}#sk-container-id-1 label.sk-toggleable__label-arrow:hover:before {color: black;}#sk-container-id-1 div.sk-estimator:hover label.sk-toggleable__label-arrow:before {color: black;}#sk-container-id-1 div.sk-toggleable__content {max-height: 0;max-width: 0;overflow: hidden;text-align: left;background-color: #f0f8ff;}#sk-container-id-1 div.sk-toggleable__content pre {margin: 0.2em;color: black;border-radius: 0.25em;background-color: #f0f8ff;}#sk-container-id-1 input.sk-toggleable__control:checked~div.sk-toggleable__content {max-height: 200px;max-width: 100%;overflow: auto;}#sk-container-id-1 input.sk-toggleable__control:checked~label.sk-toggleable__label-arrow:before {content: \"▾\";}#sk-container-id-1 div.sk-estimator input.sk-toggleable__control:checked~label.sk-toggleable__label {background-color: #d4ebff;}#sk-container-id-1 div.sk-label input.sk-toggleable__control:checked~label.sk-toggleable__label {background-color: #d4ebff;}#sk-container-id-1 input.sk-hidden--visually {border: 0;clip: rect(1px 1px 1px 1px);clip: rect(1px, 1px, 1px, 1px);height: 1px;margin: -1px;overflow: hidden;padding: 0;position: absolute;width: 1px;}#sk-container-id-1 div.sk-estimator {font-family: monospace;background-color: #f0f8ff;border: 1px dotted black;border-radius: 0.25em;box-sizing: border-box;margin-bottom: 0.5em;}#sk-container-id-1 div.sk-estimator:hover {background-color: #d4ebff;}#sk-container-id-1 div.sk-parallel-item::after {content: \"\";width: 100%;border-bottom: 1px solid gray;flex-grow: 1;}#sk-container-id-1 div.sk-label:hover label.sk-toggleable__label {background-color: #d4ebff;}#sk-container-id-1 div.sk-serial::before {content: \"\";position: absolute;border-left: 1px solid gray;box-sizing: border-box;top: 0;bottom: 0;left: 50%;z-index: 0;}#sk-container-id-1 div.sk-serial {display: flex;flex-direction: column;align-items: center;background-color: white;padding-right: 0.2em;padding-left: 0.2em;position: relative;}#sk-container-id-1 div.sk-item {position: relative;z-index: 1;}#sk-container-id-1 div.sk-parallel {display: flex;align-items: stretch;justify-content: center;background-color: white;position: relative;}#sk-container-id-1 div.sk-item::before, #sk-container-id-1 div.sk-parallel-item::before {content: \"\";position: absolute;border-left: 1px solid gray;box-sizing: border-box;top: 0;bottom: 0;left: 50%;z-index: -1;}#sk-container-id-1 div.sk-parallel-item {display: flex;flex-direction: column;z-index: 1;position: relative;background-color: white;}#sk-container-id-1 div.sk-parallel-item:first-child::after {align-self: flex-end;width: 50%;}#sk-container-id-1 div.sk-parallel-item:last-child::after {align-self: flex-start;width: 50%;}#sk-container-id-1 div.sk-parallel-item:only-child::after {width: 0;}#sk-container-id-1 div.sk-dashed-wrapped {border: 1px dashed gray;margin: 0 0.4em 0.5em 0.4em;box-sizing: border-box;padding-bottom: 0.4em;background-color: white;}#sk-container-id-1 div.sk-label label {font-family: monospace;font-weight: bold;display: inline-block;line-height: 1.2em;}#sk-container-id-1 div.sk-label-container {text-align: center;}#sk-container-id-1 div.sk-container {/* jupyter's `normalize.less` sets `[hidden] { display: none; }` but bootstrap.min.css set `[hidden] { display: none !important; }` so we also need the `!important` here to be able to override the default hidden behavior on the sphinx rendered scikit-learn.org. See: https://github.com/scikit-learn/scikit-learn/issues/21755 */display: inline-block !important;position: relative;}#sk-container-id-1 div.sk-text-repr-fallback {display: none;}</style><div id=\"sk-container-id-1\" class=\"sk-top-container\"><div class=\"sk-text-repr-fallback\"><pre>RandomForestClassifier()</pre><b>In a Jupyter environment, please rerun this cell to show the HTML representation or trust the notebook. <br />On GitHub, the HTML representation is unable to render, please try loading this page with nbviewer.org.</b></div><div class=\"sk-container\" hidden><div class=\"sk-item\"><div class=\"sk-estimator sk-toggleable\"><input class=\"sk-toggleable__control sk-hidden--visually\" id=\"sk-estimator-id-1\" type=\"checkbox\" checked><label for=\"sk-estimator-id-1\" class=\"sk-toggleable__label sk-toggleable__label-arrow\">RandomForestClassifier</label><div class=\"sk-toggleable__content\"><pre>RandomForestClassifier()</pre></div></div></div></div></div>"
     },
     "execution_count": 5,
     "metadata": {},
     "output_type": "execute_result"
    }
   ],
   "source": [
    "acc_random_forest_model = RandomForestClassifier()\n",
    "gyro_random_forest_model = RandomForestClassifier()\n",
    "acc_random_forest_model.fit(acc_features, acc_target)\n",
    "gyro_random_forest_model.fit(gyro_features, gyro_target)"
   ],
   "metadata": {
    "collapsed": false,
    "ExecuteTime": {
     "end_time": "2024-02-16T19:02:32.819970Z",
     "start_time": "2024-02-16T19:02:32.730698Z"
    }
   },
   "id": "1160412570062b51"
  },
  {
   "cell_type": "code",
   "execution_count": 6,
   "outputs": [],
   "source": [
    "# Get feature importance\n",
    "acc_feature_importance = acc_random_forest_model.feature_importances_\n",
    "gyro_feature_importance = gyro_random_forest_model.feature_importances_\n",
    "\n",
    "acc_best_features = []\n",
    "gyro_best_features = []\n",
    "\n",
    "for i in range(len(acc_feature_importance)):\n",
    "    if acc_feature_importance[i] > 0:\n",
    "        acc_best_features.append(acc_dataset_df.columns[i + 1])\n",
    "\n",
    "for i in range(len(gyro_feature_importance)):\n",
    "    if gyro_feature_importance[i] > 0:\n",
    "        gyro_best_features.append(gyro_dataset_df.columns[i + 1])\n"
   ],
   "metadata": {
    "collapsed": false,
    "ExecuteTime": {
     "end_time": "2024-02-16T19:02:32.824408Z",
     "start_time": "2024-02-16T19:02:32.818408Z"
    }
   },
   "id": "e22285efd28ffc4a"
  },
  {
   "cell_type": "code",
   "execution_count": 7,
   "outputs": [],
   "source": [
    "filtered_acc_dataset_df = pd.concat([acc_dataset_df.iloc[:, :1], acc_dataset_df[acc_best_features].copy()], axis=1)\n",
    "filtered_gyro_dataset_df = pd.concat([acc_dataset_df.iloc[:, :1], gyro_dataset_df[gyro_best_features].copy()], axis=1)"
   ],
   "metadata": {
    "collapsed": false,
    "ExecuteTime": {
     "end_time": "2024-02-16T19:02:32.834497Z",
     "start_time": "2024-02-16T19:02:32.826393Z"
    }
   },
   "id": "790be2df844bf0c9"
  },
  {
   "cell_type": "code",
   "execution_count": 8,
   "outputs": [
    {
     "data": {
      "text/plain": "    Class  DominantFreq_VT  DominantFreq_AP  CorssCorrelationSum_VTML  \\\n0       0        -0.565279        -0.349227                 -0.339676   \n1       1        -0.642362        -0.727585                  1.518135   \n2       0        -0.398265         2.833913                 -0.617424   \n3       1         2.742887        -0.081909                  1.032493   \n4       0        -0.481772        -0.258750                 -0.738400   \n5       1        -0.969967        -0.505505                 -0.580067   \n6       0         0.738717         1.369833                 -0.736495   \n7       1        -0.687328        -0.472604                 -0.693986   \n8       0         0.321181        -0.645333                 -0.655124   \n9       1         0.006424        -0.497280                 -0.378319   \n10      0        -0.835071        -0.291651                  2.370951   \n11      1         0.770835        -0.373902                 -0.182088   \n\n    CorssCorrelationSum_VTAP  CorssCorrelationSum_MLAP  \\\n0                  -0.226463                 -0.190883   \n1                   3.290363                  2.295714   \n2                  -0.405724                 -0.812518   \n3                   0.018871                 -0.037891   \n4                  -0.413833                 -0.826791   \n5                  -0.290057                  1.389306   \n6                  -0.428313                 -0.848734   \n7                  -0.325986                 -0.782489   \n8                  -0.408778                 -0.765699   \n9                  -0.353833                 -0.562437   \n10                 -0.139327                  1.086018   \n11                 -0.316920                  0.056403   \n\n    CorssCorrelationLag_VTML  CorssCorrelationPeak_VTAP  \\\n0                  -0.226534                  -0.699258   \n1                   3.136402                   2.605245   \n2                   0.023633                  -0.567433   \n3                  -0.629212                   1.641298   \n4                  -0.177941                  -0.537018   \n5                   0.075973                  -0.198954   \n6                  -0.807192                  -1.005746   \n7                  -0.444676                  -0.347422   \n8                  -0.193455                  -0.261149   \n9                   0.054253                  -0.118487   \n10                 -0.884707                  -0.387567   \n11                  0.073456                  -0.123509   \n\n    CorssCorrelationLag_VTAP  CorssCorrelationPeak_MLAP  ...  \\\n0                  -1.051128                   0.163948  ...   \n1                   1.841974                   0.318755  ...   \n2                  -0.171941                  -0.622740  ...   \n3                   1.365850                  -0.697080  ...   \n4                  -0.426171                  -0.517520  ...   \n5                   0.620638                   2.784512  ...   \n6                  -1.302736                  -0.842085  ...   \n7                  -0.897052                  -0.714855  ...   \n8                  -0.447758                  -0.563378  ...   \n9                  -0.067417                  -0.636300  ...   \n10                  1.314287                   0.940805  ...   \n11                 -0.778545                   0.385938  ...   \n\n    RelativePower_AboveDomFr_Magnitude  CentroidSpMean_Magnitude  \\\n0                            -0.301511                 -0.092303   \n1                            -0.301511                  2.227281   \n2                            -0.301511                 -0.108542   \n3                            -0.301511                  1.621542   \n4                            -0.301511                 -0.473631   \n5                             3.316625                 -0.277505   \n6                            -0.301511                 -1.897663   \n7                            -0.301511                  0.088414   \n8                            -0.301511                 -0.526397   \n9                            -0.301511                  0.002039   \n10                           -0.301511                 -0.429143   \n11                           -0.301511                 -0.134092   \n\n    CentroidSpMax_Magnitude  MeanPSD_Plomb_Magnitude  \\\n0                 -0.092303                -1.140718   \n1                  2.227281                -0.474955   \n2                 -0.108542                -0.690686   \n3                  1.621542                -0.649378   \n4                 -0.473631                 0.574786   \n5                 -0.277505                 1.005212   \n6                 -1.897663                 1.830482   \n7                  0.088414                -0.602498   \n8                 -0.526397                -0.312869   \n9                  0.002039                -1.345890   \n10                -0.429143                 0.203654   \n11                -0.134092                 1.602860   \n\n    MedianPSD_Plom_Magnitude  MeanFreq_Plom_Magnitude  SumPSD_Plom_Magnitude  \\\n0                  -0.381468                -0.492091              -1.027345   \n1                  -0.404628                -1.133617               1.839771   \n2                  -0.406813                -0.286002              -0.668854   \n3                  -0.430559                -0.912159               0.351717   \n4                  -0.426267                -0.072173               0.307707   \n5                  -0.395151                -0.354720               1.231292   \n6                   3.038069                 2.663853              -0.580730   \n7                   1.047793                 1.433947              -1.212053   \n8                  -0.427505                -0.049008              -0.496495   \n9                  -0.421828                -0.372630              -1.318803   \n10                 -0.384556                -0.360748               0.370066   \n11                 -0.407085                -0.064652               1.203726   \n\n    Moment2ndPSD_Plom_Magnitude  ZeroCrossingRate_Magnitude  \\\n0                     -0.905046                   -0.737538   \n1                     -0.590126                    0.634839   \n2                     -0.704978                   -0.630665   \n3                     -0.721528                   -0.473802   \n4                      0.301750                    0.190848   \n5                      0.953839                    0.005452   \n6                      2.223116                    0.409136   \n7                     -0.679406                    1.500628   \n8                     -0.416946                   -0.681959   \n9                     -0.955736                    1.265671   \n10                    -0.028828                   -2.291951   \n11                     1.523890                    0.809341   \n\n    EnergySignal_Magnitude  \n0                -1.027326  \n1                 1.839808  \n2                -0.668855  \n3                 0.351628  \n4                 0.307731  \n5                 1.231322  \n6                -0.580734  \n7                -1.212035  \n8                -0.496477  \n9                -1.318813  \n10                0.370063  \n11                1.203688  \n\n[12 rows x 102 columns]",
      "text/html": "<div>\n<style scoped>\n    .dataframe tbody tr th:only-of-type {\n        vertical-align: middle;\n    }\n\n    .dataframe tbody tr th {\n        vertical-align: top;\n    }\n\n    .dataframe thead th {\n        text-align: right;\n    }\n</style>\n<table border=\"1\" class=\"dataframe\">\n  <thead>\n    <tr style=\"text-align: right;\">\n      <th></th>\n      <th>Class</th>\n      <th>DominantFreq_VT</th>\n      <th>DominantFreq_AP</th>\n      <th>CorssCorrelationSum_VTML</th>\n      <th>CorssCorrelationSum_VTAP</th>\n      <th>CorssCorrelationSum_MLAP</th>\n      <th>CorssCorrelationLag_VTML</th>\n      <th>CorssCorrelationPeak_VTAP</th>\n      <th>CorssCorrelationLag_VTAP</th>\n      <th>CorssCorrelationPeak_MLAP</th>\n      <th>...</th>\n      <th>RelativePower_AboveDomFr_Magnitude</th>\n      <th>CentroidSpMean_Magnitude</th>\n      <th>CentroidSpMax_Magnitude</th>\n      <th>MeanPSD_Plomb_Magnitude</th>\n      <th>MedianPSD_Plom_Magnitude</th>\n      <th>MeanFreq_Plom_Magnitude</th>\n      <th>SumPSD_Plom_Magnitude</th>\n      <th>Moment2ndPSD_Plom_Magnitude</th>\n      <th>ZeroCrossingRate_Magnitude</th>\n      <th>EnergySignal_Magnitude</th>\n    </tr>\n  </thead>\n  <tbody>\n    <tr>\n      <th>0</th>\n      <td>0</td>\n      <td>-0.565279</td>\n      <td>-0.349227</td>\n      <td>-0.339676</td>\n      <td>-0.226463</td>\n      <td>-0.190883</td>\n      <td>-0.226534</td>\n      <td>-0.699258</td>\n      <td>-1.051128</td>\n      <td>0.163948</td>\n      <td>...</td>\n      <td>-0.301511</td>\n      <td>-0.092303</td>\n      <td>-0.092303</td>\n      <td>-1.140718</td>\n      <td>-0.381468</td>\n      <td>-0.492091</td>\n      <td>-1.027345</td>\n      <td>-0.905046</td>\n      <td>-0.737538</td>\n      <td>-1.027326</td>\n    </tr>\n    <tr>\n      <th>1</th>\n      <td>1</td>\n      <td>-0.642362</td>\n      <td>-0.727585</td>\n      <td>1.518135</td>\n      <td>3.290363</td>\n      <td>2.295714</td>\n      <td>3.136402</td>\n      <td>2.605245</td>\n      <td>1.841974</td>\n      <td>0.318755</td>\n      <td>...</td>\n      <td>-0.301511</td>\n      <td>2.227281</td>\n      <td>2.227281</td>\n      <td>-0.474955</td>\n      <td>-0.404628</td>\n      <td>-1.133617</td>\n      <td>1.839771</td>\n      <td>-0.590126</td>\n      <td>0.634839</td>\n      <td>1.839808</td>\n    </tr>\n    <tr>\n      <th>2</th>\n      <td>0</td>\n      <td>-0.398265</td>\n      <td>2.833913</td>\n      <td>-0.617424</td>\n      <td>-0.405724</td>\n      <td>-0.812518</td>\n      <td>0.023633</td>\n      <td>-0.567433</td>\n      <td>-0.171941</td>\n      <td>-0.622740</td>\n      <td>...</td>\n      <td>-0.301511</td>\n      <td>-0.108542</td>\n      <td>-0.108542</td>\n      <td>-0.690686</td>\n      <td>-0.406813</td>\n      <td>-0.286002</td>\n      <td>-0.668854</td>\n      <td>-0.704978</td>\n      <td>-0.630665</td>\n      <td>-0.668855</td>\n    </tr>\n    <tr>\n      <th>3</th>\n      <td>1</td>\n      <td>2.742887</td>\n      <td>-0.081909</td>\n      <td>1.032493</td>\n      <td>0.018871</td>\n      <td>-0.037891</td>\n      <td>-0.629212</td>\n      <td>1.641298</td>\n      <td>1.365850</td>\n      <td>-0.697080</td>\n      <td>...</td>\n      <td>-0.301511</td>\n      <td>1.621542</td>\n      <td>1.621542</td>\n      <td>-0.649378</td>\n      <td>-0.430559</td>\n      <td>-0.912159</td>\n      <td>0.351717</td>\n      <td>-0.721528</td>\n      <td>-0.473802</td>\n      <td>0.351628</td>\n    </tr>\n    <tr>\n      <th>4</th>\n      <td>0</td>\n      <td>-0.481772</td>\n      <td>-0.258750</td>\n      <td>-0.738400</td>\n      <td>-0.413833</td>\n      <td>-0.826791</td>\n      <td>-0.177941</td>\n      <td>-0.537018</td>\n      <td>-0.426171</td>\n      <td>-0.517520</td>\n      <td>...</td>\n      <td>-0.301511</td>\n      <td>-0.473631</td>\n      <td>-0.473631</td>\n      <td>0.574786</td>\n      <td>-0.426267</td>\n      <td>-0.072173</td>\n      <td>0.307707</td>\n      <td>0.301750</td>\n      <td>0.190848</td>\n      <td>0.307731</td>\n    </tr>\n    <tr>\n      <th>5</th>\n      <td>1</td>\n      <td>-0.969967</td>\n      <td>-0.505505</td>\n      <td>-0.580067</td>\n      <td>-0.290057</td>\n      <td>1.389306</td>\n      <td>0.075973</td>\n      <td>-0.198954</td>\n      <td>0.620638</td>\n      <td>2.784512</td>\n      <td>...</td>\n      <td>3.316625</td>\n      <td>-0.277505</td>\n      <td>-0.277505</td>\n      <td>1.005212</td>\n      <td>-0.395151</td>\n      <td>-0.354720</td>\n      <td>1.231292</td>\n      <td>0.953839</td>\n      <td>0.005452</td>\n      <td>1.231322</td>\n    </tr>\n    <tr>\n      <th>6</th>\n      <td>0</td>\n      <td>0.738717</td>\n      <td>1.369833</td>\n      <td>-0.736495</td>\n      <td>-0.428313</td>\n      <td>-0.848734</td>\n      <td>-0.807192</td>\n      <td>-1.005746</td>\n      <td>-1.302736</td>\n      <td>-0.842085</td>\n      <td>...</td>\n      <td>-0.301511</td>\n      <td>-1.897663</td>\n      <td>-1.897663</td>\n      <td>1.830482</td>\n      <td>3.038069</td>\n      <td>2.663853</td>\n      <td>-0.580730</td>\n      <td>2.223116</td>\n      <td>0.409136</td>\n      <td>-0.580734</td>\n    </tr>\n    <tr>\n      <th>7</th>\n      <td>1</td>\n      <td>-0.687328</td>\n      <td>-0.472604</td>\n      <td>-0.693986</td>\n      <td>-0.325986</td>\n      <td>-0.782489</td>\n      <td>-0.444676</td>\n      <td>-0.347422</td>\n      <td>-0.897052</td>\n      <td>-0.714855</td>\n      <td>...</td>\n      <td>-0.301511</td>\n      <td>0.088414</td>\n      <td>0.088414</td>\n      <td>-0.602498</td>\n      <td>1.047793</td>\n      <td>1.433947</td>\n      <td>-1.212053</td>\n      <td>-0.679406</td>\n      <td>1.500628</td>\n      <td>-1.212035</td>\n    </tr>\n    <tr>\n      <th>8</th>\n      <td>0</td>\n      <td>0.321181</td>\n      <td>-0.645333</td>\n      <td>-0.655124</td>\n      <td>-0.408778</td>\n      <td>-0.765699</td>\n      <td>-0.193455</td>\n      <td>-0.261149</td>\n      <td>-0.447758</td>\n      <td>-0.563378</td>\n      <td>...</td>\n      <td>-0.301511</td>\n      <td>-0.526397</td>\n      <td>-0.526397</td>\n      <td>-0.312869</td>\n      <td>-0.427505</td>\n      <td>-0.049008</td>\n      <td>-0.496495</td>\n      <td>-0.416946</td>\n      <td>-0.681959</td>\n      <td>-0.496477</td>\n    </tr>\n    <tr>\n      <th>9</th>\n      <td>1</td>\n      <td>0.006424</td>\n      <td>-0.497280</td>\n      <td>-0.378319</td>\n      <td>-0.353833</td>\n      <td>-0.562437</td>\n      <td>0.054253</td>\n      <td>-0.118487</td>\n      <td>-0.067417</td>\n      <td>-0.636300</td>\n      <td>...</td>\n      <td>-0.301511</td>\n      <td>0.002039</td>\n      <td>0.002039</td>\n      <td>-1.345890</td>\n      <td>-0.421828</td>\n      <td>-0.372630</td>\n      <td>-1.318803</td>\n      <td>-0.955736</td>\n      <td>1.265671</td>\n      <td>-1.318813</td>\n    </tr>\n    <tr>\n      <th>10</th>\n      <td>0</td>\n      <td>-0.835071</td>\n      <td>-0.291651</td>\n      <td>2.370951</td>\n      <td>-0.139327</td>\n      <td>1.086018</td>\n      <td>-0.884707</td>\n      <td>-0.387567</td>\n      <td>1.314287</td>\n      <td>0.940805</td>\n      <td>...</td>\n      <td>-0.301511</td>\n      <td>-0.429143</td>\n      <td>-0.429143</td>\n      <td>0.203654</td>\n      <td>-0.384556</td>\n      <td>-0.360748</td>\n      <td>0.370066</td>\n      <td>-0.028828</td>\n      <td>-2.291951</td>\n      <td>0.370063</td>\n    </tr>\n    <tr>\n      <th>11</th>\n      <td>1</td>\n      <td>0.770835</td>\n      <td>-0.373902</td>\n      <td>-0.182088</td>\n      <td>-0.316920</td>\n      <td>0.056403</td>\n      <td>0.073456</td>\n      <td>-0.123509</td>\n      <td>-0.778545</td>\n      <td>0.385938</td>\n      <td>...</td>\n      <td>-0.301511</td>\n      <td>-0.134092</td>\n      <td>-0.134092</td>\n      <td>1.602860</td>\n      <td>-0.407085</td>\n      <td>-0.064652</td>\n      <td>1.203726</td>\n      <td>1.523890</td>\n      <td>0.809341</td>\n      <td>1.203688</td>\n    </tr>\n  </tbody>\n</table>\n<p>12 rows × 102 columns</p>\n</div>"
     },
     "execution_count": 8,
     "metadata": {},
     "output_type": "execute_result"
    }
   ],
   "source": [
    "filtered_acc_dataset_df"
   ],
   "metadata": {
    "collapsed": false,
    "ExecuteTime": {
     "end_time": "2024-02-16T19:02:32.845626Z",
     "start_time": "2024-02-16T19:02:32.829562Z"
    }
   },
   "id": "d493257d8aa3a418"
  },
  {
   "cell_type": "code",
   "execution_count": 9,
   "outputs": [
    {
     "data": {
      "text/plain": "    Class  DominantFreq_VT  DominantFreq_ML  CorssCorrelationPeak_VTAP  \\\n0       0         0.727909        -0.996089                   0.448143   \n1       1         0.605287         0.932871                   1.800904   \n2       0        -1.172733         1.459405                  -0.707054   \n3       1         1.178162        -1.038511                   0.182726   \n4       0         1.524952         0.196722                  -0.355487   \n5       1         0.800716        -0.207536                  -0.408242   \n6       0        -1.007960        -0.786473                  -0.722907   \n7       1        -1.046279         1.110046                  -0.991809   \n8       0        -0.870010         1.439442                  -0.811131   \n9       1        -0.682245        -1.175759                  -0.976060   \n10      0         0.980817         0.276576                   2.102484   \n11      1        -1.038615        -1.210695                   0.438432   \n\n    CorssCorrelationPeak_MLAP  CorssCorrelationLag_MLAP  Amplitude_ML  \\\n0                   -0.701455                 -0.220192     -0.979382   \n1                   -0.225887                  2.695983     -0.969683   \n2                    1.314729                 -0.154150     -0.155148   \n3                    2.567063                  1.272200      0.344264   \n4                   -0.660971                 -0.378274      2.236713   \n5                   -0.058896                 -0.068770      1.455410   \n6                   -0.956839                 -1.236010     -0.649100   \n7                   -0.934588                 -1.026892     -0.720684   \n8                   -0.610368                 -0.392718     -0.436874   \n9                   -0.049916                 -0.043894     -0.026449   \n10                   0.650468                 -0.058258     -0.971394   \n11                  -0.333340                 -0.389027      0.872327   \n\n    AmplitudeNorm_VT  AmplitudeNorm_AP  Width_ML  ...  ZeroCrossingRate_AP  \\\n0          -1.191340         -1.360963 -0.736323  ...            -0.662867   \n1          -2.039258         -1.776933 -0.954785  ...            -0.433195   \n2           1.237660          0.059221  0.397288  ...            -0.696122   \n3          -0.777456          0.947033  0.667341  ...            -0.531354   \n4           0.723030         -0.014811 -0.499875  ...            -0.321490   \n5           0.437516          1.331756  1.101773  ...             1.007367   \n6           0.609789          0.067503  2.190991  ...             0.932060   \n7           0.721073          1.693719 -1.118354  ...             1.343756   \n8           0.567927         -0.731522  0.828515  ...            -1.771286   \n9          -1.201571          0.481633 -0.883030  ...            -1.035943   \n10          0.954891         -0.813684 -0.980690  ...             1.438369   \n11         -0.042262          0.117049 -0.012851  ...             0.730705   \n\n    EnergySignal_AP  Std_SigComplete_Magnitude  \\\n0         -0.307579                   0.073883   \n1          1.675297                  -0.961825   \n2          0.249795                  -0.878979   \n3          1.541128                  -1.665824   \n4          0.132507                   0.749743   \n5          0.485058                   1.358672   \n6         -1.662963                   0.468387   \n7         -1.468062                   0.027765   \n8         -0.315299                   1.048956   \n9         -1.056554                  -1.305696   \n10         0.426840                   1.408462   \n11         0.299831                  -0.323544   \n\n    InterQuartileRange_SigComplete_Magnitude  \\\n0                                   0.060873   \n1                                  -0.668794   \n2                                  -0.894610   \n3                                  -0.961254   \n4                                   0.423798   \n5                                   1.399631   \n6                                   0.926366   \n7                                  -0.411536   \n8                                   0.878272   \n9                                  -1.911917   \n10                                  1.462750   \n11                                 -0.303579   \n\n    Percentile75_SigComplete_Magnitude  SumSq75_SigComplete_Magnitude  \\\n0                            -0.042897                       0.221407   \n1                            -0.683160                       2.507606   \n2                            -0.503766                      -0.218254   \n3                            -0.565357                       1.031284   \n4                             0.527352                      -0.376234   \n5                             1.657079                       0.402317   \n6                             0.782152                      -1.242935   \n7                            -0.604682                      -1.245020   \n8                             0.850269                      -0.339278   \n9                            -2.272928                      -0.855361   \n10                            1.020066                       0.444556   \n11                           -0.164125                      -0.330087   \n\n    RelativePower_Below5Hz_Magnitude  MeanPSD_Plomb_Magnitude  \\\n0                           0.964929                 0.036056   \n1                          -0.132561                -0.970511   \n2                          -0.592845                -0.891415   \n3                          -1.111037                -1.598924   \n4                           0.941986                 0.731691   \n5                          -0.793660                 1.395239   \n6                           1.998529                 0.441121   \n7                          -0.502118                -0.014575   \n8                           0.978372                 1.056377   \n9                          -1.648869                -1.284298   \n10                          0.050465                 1.460456   \n11                         -0.153192                -0.361216   \n\n    ZeroCrossingRate_Magnitude  ModeSignal_Magnitude  \n0                    -0.201971              1.140569  \n1                     0.284359             -0.176969  \n2                     1.849907             -0.386439  \n3                     1.827208              0.063733  \n4                    -0.173902              0.772013  \n5                    -0.522966             -0.065989  \n6                    -0.080420             -2.156054  \n7                    -0.564841             -0.943992  \n8                    -1.648707              0.527311  \n9                    -1.225724              1.828185  \n10                   -0.057102              0.233886  \n11                    0.514158             -0.836254  \n\n[12 rows x 103 columns]",
      "text/html": "<div>\n<style scoped>\n    .dataframe tbody tr th:only-of-type {\n        vertical-align: middle;\n    }\n\n    .dataframe tbody tr th {\n        vertical-align: top;\n    }\n\n    .dataframe thead th {\n        text-align: right;\n    }\n</style>\n<table border=\"1\" class=\"dataframe\">\n  <thead>\n    <tr style=\"text-align: right;\">\n      <th></th>\n      <th>Class</th>\n      <th>DominantFreq_VT</th>\n      <th>DominantFreq_ML</th>\n      <th>CorssCorrelationPeak_VTAP</th>\n      <th>CorssCorrelationPeak_MLAP</th>\n      <th>CorssCorrelationLag_MLAP</th>\n      <th>Amplitude_ML</th>\n      <th>AmplitudeNorm_VT</th>\n      <th>AmplitudeNorm_AP</th>\n      <th>Width_ML</th>\n      <th>...</th>\n      <th>ZeroCrossingRate_AP</th>\n      <th>EnergySignal_AP</th>\n      <th>Std_SigComplete_Magnitude</th>\n      <th>InterQuartileRange_SigComplete_Magnitude</th>\n      <th>Percentile75_SigComplete_Magnitude</th>\n      <th>SumSq75_SigComplete_Magnitude</th>\n      <th>RelativePower_Below5Hz_Magnitude</th>\n      <th>MeanPSD_Plomb_Magnitude</th>\n      <th>ZeroCrossingRate_Magnitude</th>\n      <th>ModeSignal_Magnitude</th>\n    </tr>\n  </thead>\n  <tbody>\n    <tr>\n      <th>0</th>\n      <td>0</td>\n      <td>0.727909</td>\n      <td>-0.996089</td>\n      <td>0.448143</td>\n      <td>-0.701455</td>\n      <td>-0.220192</td>\n      <td>-0.979382</td>\n      <td>-1.191340</td>\n      <td>-1.360963</td>\n      <td>-0.736323</td>\n      <td>...</td>\n      <td>-0.662867</td>\n      <td>-0.307579</td>\n      <td>0.073883</td>\n      <td>0.060873</td>\n      <td>-0.042897</td>\n      <td>0.221407</td>\n      <td>0.964929</td>\n      <td>0.036056</td>\n      <td>-0.201971</td>\n      <td>1.140569</td>\n    </tr>\n    <tr>\n      <th>1</th>\n      <td>1</td>\n      <td>0.605287</td>\n      <td>0.932871</td>\n      <td>1.800904</td>\n      <td>-0.225887</td>\n      <td>2.695983</td>\n      <td>-0.969683</td>\n      <td>-2.039258</td>\n      <td>-1.776933</td>\n      <td>-0.954785</td>\n      <td>...</td>\n      <td>-0.433195</td>\n      <td>1.675297</td>\n      <td>-0.961825</td>\n      <td>-0.668794</td>\n      <td>-0.683160</td>\n      <td>2.507606</td>\n      <td>-0.132561</td>\n      <td>-0.970511</td>\n      <td>0.284359</td>\n      <td>-0.176969</td>\n    </tr>\n    <tr>\n      <th>2</th>\n      <td>0</td>\n      <td>-1.172733</td>\n      <td>1.459405</td>\n      <td>-0.707054</td>\n      <td>1.314729</td>\n      <td>-0.154150</td>\n      <td>-0.155148</td>\n      <td>1.237660</td>\n      <td>0.059221</td>\n      <td>0.397288</td>\n      <td>...</td>\n      <td>-0.696122</td>\n      <td>0.249795</td>\n      <td>-0.878979</td>\n      <td>-0.894610</td>\n      <td>-0.503766</td>\n      <td>-0.218254</td>\n      <td>-0.592845</td>\n      <td>-0.891415</td>\n      <td>1.849907</td>\n      <td>-0.386439</td>\n    </tr>\n    <tr>\n      <th>3</th>\n      <td>1</td>\n      <td>1.178162</td>\n      <td>-1.038511</td>\n      <td>0.182726</td>\n      <td>2.567063</td>\n      <td>1.272200</td>\n      <td>0.344264</td>\n      <td>-0.777456</td>\n      <td>0.947033</td>\n      <td>0.667341</td>\n      <td>...</td>\n      <td>-0.531354</td>\n      <td>1.541128</td>\n      <td>-1.665824</td>\n      <td>-0.961254</td>\n      <td>-0.565357</td>\n      <td>1.031284</td>\n      <td>-1.111037</td>\n      <td>-1.598924</td>\n      <td>1.827208</td>\n      <td>0.063733</td>\n    </tr>\n    <tr>\n      <th>4</th>\n      <td>0</td>\n      <td>1.524952</td>\n      <td>0.196722</td>\n      <td>-0.355487</td>\n      <td>-0.660971</td>\n      <td>-0.378274</td>\n      <td>2.236713</td>\n      <td>0.723030</td>\n      <td>-0.014811</td>\n      <td>-0.499875</td>\n      <td>...</td>\n      <td>-0.321490</td>\n      <td>0.132507</td>\n      <td>0.749743</td>\n      <td>0.423798</td>\n      <td>0.527352</td>\n      <td>-0.376234</td>\n      <td>0.941986</td>\n      <td>0.731691</td>\n      <td>-0.173902</td>\n      <td>0.772013</td>\n    </tr>\n    <tr>\n      <th>5</th>\n      <td>1</td>\n      <td>0.800716</td>\n      <td>-0.207536</td>\n      <td>-0.408242</td>\n      <td>-0.058896</td>\n      <td>-0.068770</td>\n      <td>1.455410</td>\n      <td>0.437516</td>\n      <td>1.331756</td>\n      <td>1.101773</td>\n      <td>...</td>\n      <td>1.007367</td>\n      <td>0.485058</td>\n      <td>1.358672</td>\n      <td>1.399631</td>\n      <td>1.657079</td>\n      <td>0.402317</td>\n      <td>-0.793660</td>\n      <td>1.395239</td>\n      <td>-0.522966</td>\n      <td>-0.065989</td>\n    </tr>\n    <tr>\n      <th>6</th>\n      <td>0</td>\n      <td>-1.007960</td>\n      <td>-0.786473</td>\n      <td>-0.722907</td>\n      <td>-0.956839</td>\n      <td>-1.236010</td>\n      <td>-0.649100</td>\n      <td>0.609789</td>\n      <td>0.067503</td>\n      <td>2.190991</td>\n      <td>...</td>\n      <td>0.932060</td>\n      <td>-1.662963</td>\n      <td>0.468387</td>\n      <td>0.926366</td>\n      <td>0.782152</td>\n      <td>-1.242935</td>\n      <td>1.998529</td>\n      <td>0.441121</td>\n      <td>-0.080420</td>\n      <td>-2.156054</td>\n    </tr>\n    <tr>\n      <th>7</th>\n      <td>1</td>\n      <td>-1.046279</td>\n      <td>1.110046</td>\n      <td>-0.991809</td>\n      <td>-0.934588</td>\n      <td>-1.026892</td>\n      <td>-0.720684</td>\n      <td>0.721073</td>\n      <td>1.693719</td>\n      <td>-1.118354</td>\n      <td>...</td>\n      <td>1.343756</td>\n      <td>-1.468062</td>\n      <td>0.027765</td>\n      <td>-0.411536</td>\n      <td>-0.604682</td>\n      <td>-1.245020</td>\n      <td>-0.502118</td>\n      <td>-0.014575</td>\n      <td>-0.564841</td>\n      <td>-0.943992</td>\n    </tr>\n    <tr>\n      <th>8</th>\n      <td>0</td>\n      <td>-0.870010</td>\n      <td>1.439442</td>\n      <td>-0.811131</td>\n      <td>-0.610368</td>\n      <td>-0.392718</td>\n      <td>-0.436874</td>\n      <td>0.567927</td>\n      <td>-0.731522</td>\n      <td>0.828515</td>\n      <td>...</td>\n      <td>-1.771286</td>\n      <td>-0.315299</td>\n      <td>1.048956</td>\n      <td>0.878272</td>\n      <td>0.850269</td>\n      <td>-0.339278</td>\n      <td>0.978372</td>\n      <td>1.056377</td>\n      <td>-1.648707</td>\n      <td>0.527311</td>\n    </tr>\n    <tr>\n      <th>9</th>\n      <td>1</td>\n      <td>-0.682245</td>\n      <td>-1.175759</td>\n      <td>-0.976060</td>\n      <td>-0.049916</td>\n      <td>-0.043894</td>\n      <td>-0.026449</td>\n      <td>-1.201571</td>\n      <td>0.481633</td>\n      <td>-0.883030</td>\n      <td>...</td>\n      <td>-1.035943</td>\n      <td>-1.056554</td>\n      <td>-1.305696</td>\n      <td>-1.911917</td>\n      <td>-2.272928</td>\n      <td>-0.855361</td>\n      <td>-1.648869</td>\n      <td>-1.284298</td>\n      <td>-1.225724</td>\n      <td>1.828185</td>\n    </tr>\n    <tr>\n      <th>10</th>\n      <td>0</td>\n      <td>0.980817</td>\n      <td>0.276576</td>\n      <td>2.102484</td>\n      <td>0.650468</td>\n      <td>-0.058258</td>\n      <td>-0.971394</td>\n      <td>0.954891</td>\n      <td>-0.813684</td>\n      <td>-0.980690</td>\n      <td>...</td>\n      <td>1.438369</td>\n      <td>0.426840</td>\n      <td>1.408462</td>\n      <td>1.462750</td>\n      <td>1.020066</td>\n      <td>0.444556</td>\n      <td>0.050465</td>\n      <td>1.460456</td>\n      <td>-0.057102</td>\n      <td>0.233886</td>\n    </tr>\n    <tr>\n      <th>11</th>\n      <td>1</td>\n      <td>-1.038615</td>\n      <td>-1.210695</td>\n      <td>0.438432</td>\n      <td>-0.333340</td>\n      <td>-0.389027</td>\n      <td>0.872327</td>\n      <td>-0.042262</td>\n      <td>0.117049</td>\n      <td>-0.012851</td>\n      <td>...</td>\n      <td>0.730705</td>\n      <td>0.299831</td>\n      <td>-0.323544</td>\n      <td>-0.303579</td>\n      <td>-0.164125</td>\n      <td>-0.330087</td>\n      <td>-0.153192</td>\n      <td>-0.361216</td>\n      <td>0.514158</td>\n      <td>-0.836254</td>\n    </tr>\n  </tbody>\n</table>\n<p>12 rows × 103 columns</p>\n</div>"
     },
     "execution_count": 9,
     "metadata": {},
     "output_type": "execute_result"
    }
   ],
   "source": [
    "filtered_gyro_dataset_df"
   ],
   "metadata": {
    "collapsed": false,
    "ExecuteTime": {
     "end_time": "2024-02-16T19:02:32.851900Z",
     "start_time": "2024-02-16T19:02:32.846456Z"
    }
   },
   "id": "59e6e793cab6d114"
  },
  {
   "cell_type": "markdown",
   "source": [
    "### Correlation Selection"
   ],
   "metadata": {
    "collapsed": false
   },
   "id": "e80adcf402d3dacc"
  },
  {
   "cell_type": "code",
   "execution_count": 10,
   "outputs": [],
   "source": [
    "acc_corr = filtered_acc_dataset_df.corr()\n",
    "gyro_corr = filtered_gyro_dataset_df.corr()"
   ],
   "metadata": {
    "collapsed": false,
    "ExecuteTime": {
     "end_time": "2024-02-16T19:02:32.852016Z",
     "start_time": "2024-02-16T19:02:32.848962Z"
    }
   },
   "id": "b9f942301c64ce75"
  },
  {
   "cell_type": "code",
   "execution_count": 11,
   "outputs": [
    {
     "data": {
      "text/plain": "                                Class  DominantFreq_VT  DominantFreq_AP  \\\nClass                        1.000000         0.203415        -0.443131   \nDominantFreq_VT              0.203415         1.000000         0.084006   \nDominantFreq_AP             -0.443131         0.084006         1.000000   \nCorssCorrelationSum_VTML     0.119361         0.067744        -0.252446   \nCorssCorrelationSum_VTAP     0.337073        -0.137115        -0.253861   \n...                               ...              ...              ...   \nMeanFreq_Plom_Magnitude     -0.233972         0.017723         0.314709   \nSumPSD_Plom_Magnitude        0.349275         0.011872        -0.284217   \nMoment2ndPSD_Plom_Magnitude -0.078178         0.107477         0.149649   \nZeroCrossingRate_Magnitude   0.623688         0.038432        -0.164761   \nEnergySignal_Magnitude       0.349266         0.011843        -0.284222   \n\n                             CorssCorrelationSum_VTML  \\\nClass                                        0.119361   \nDominantFreq_VT                              0.067744   \nDominantFreq_AP                             -0.252446   \nCorssCorrelationSum_VTML                     1.000000   \nCorssCorrelationSum_VTAP                     0.540556   \n...                                               ...   \nMeanFreq_Plom_Magnitude                     -0.473959   \nSumPSD_Plom_Magnitude                        0.477327   \nMoment2ndPSD_Plom_Magnitude                 -0.212600   \nZeroCrossingRate_Magnitude                  -0.498823   \nEnergySignal_Magnitude                       0.477319   \n\n                             CorssCorrelationSum_VTAP  \\\nClass                                        0.337073   \nDominantFreq_VT                             -0.137115   \nDominantFreq_AP                             -0.253861   \nCorssCorrelationSum_VTML                     0.540556   \nCorssCorrelationSum_VTAP                     1.000000   \n...                                               ...   \nMeanFreq_Plom_Magnitude                     -0.397730   \nSumPSD_Plom_Magnitude                        0.580007   \nMoment2ndPSD_Plom_Magnitude                 -0.213911   \nZeroCrossingRate_Magnitude                   0.137633   \nEnergySignal_Magnitude                       0.580016   \n\n                             CorssCorrelationSum_MLAP  \\\nClass                                        0.393101   \nDominantFreq_VT                             -0.274873   \nDominantFreq_AP                             -0.395697   \nCorssCorrelationSum_VTML                     0.688697   \nCorssCorrelationSum_VTAP                     0.735542   \n...                                               ...   \nMeanFreq_Plom_Magnitude                     -0.517166   \nSumPSD_Plom_Magnitude                        0.786588   \nMoment2ndPSD_Plom_Magnitude                  0.004172   \nZeroCrossingRate_Magnitude                  -0.181354   \nEnergySignal_Magnitude                       0.786595   \n\n                             CorssCorrelationLag_VTML  \\\nClass                                        0.377699   \nDominantFreq_VT                             -0.263909   \nDominantFreq_AP                             -0.220323   \nCorssCorrelationSum_VTML                     0.263320   \nCorssCorrelationSum_VTAP                     0.920991   \n...                                               ...   \nMeanFreq_Plom_Magnitude                     -0.447928   \nSumPSD_Plom_Magnitude                        0.549827   \nMoment2ndPSD_Plom_Magnitude                 -0.209655   \nZeroCrossingRate_Magnitude                   0.308172   \nEnergySignal_Magnitude                       0.549840   \n\n                             CorssCorrelationPeak_VTAP  \\\nClass                                         0.576362   \nDominantFreq_VT                               0.295082   \nDominantFreq_AP                              -0.331762   \nCorssCorrelationSum_VTML                      0.587574   \nCorssCorrelationSum_VTAP                      0.838128   \n...                                                ...   \nMeanFreq_Plom_Magnitude                      -0.567279   \nSumPSD_Plom_Magnitude                         0.588084   \nMoment2ndPSD_Plom_Magnitude                  -0.332946   \nZeroCrossingRate_Magnitude                    0.127491   \nEnergySignal_Magnitude                        0.588077   \n\n                             CorssCorrelationLag_VTAP  \\\nClass                                        0.347575   \nDominantFreq_VT                              0.053454   \nDominantFreq_AP                             -0.242169   \nCorssCorrelationSum_VTML                     0.815266   \nCorssCorrelationSum_VTAP                     0.625966   \n...                                               ...   \nMeanFreq_Plom_Magnitude                     -0.674190   \nSumPSD_Plom_Magnitude                        0.616781   \nMoment2ndPSD_Plom_Magnitude                 -0.316368   \nZeroCrossingRate_Magnitude                  -0.331129   \nEnergySignal_Magnitude                       0.616777   \n\n                             CorssCorrelationPeak_MLAP  ...  \\\nClass                                         0.240162  ...   \nDominantFreq_VT                              -0.434741  ...   \nDominantFreq_AP                              -0.318744  ...   \nCorssCorrelationSum_VTML                      0.228862  ...   \nCorssCorrelationSum_VTAP                      0.121121  ...   \n...                                                ...  ...   \nMeanFreq_Plom_Magnitude                      -0.328861  ...   \nSumPSD_Plom_Magnitude                         0.595476  ...   \nMoment2ndPSD_Plom_Magnitude                   0.260248  ...   \nZeroCrossingRate_Magnitude                   -0.246788  ...   \nEnergySignal_Magnitude                        0.595486  ...   \n\n                             RelativePower_AboveDomFr_Magnitude  \\\nClass                                                  0.301511   \nDominantFreq_VT                                       -0.292456   \nDominantFreq_AP                                       -0.152416   \nCorssCorrelationSum_VTML                              -0.174897   \nCorssCorrelationSum_VTAP                              -0.087455   \n...                                                         ...   \nMeanFreq_Plom_Magnitude                               -0.106952   \nSumPSD_Plom_Magnitude                                  0.371248   \nMoment2ndPSD_Plom_Magnitude                            0.287593   \nZeroCrossingRate_Magnitude                             0.001644   \nEnergySignal_Magnitude                                 0.371257   \n\n                             CentroidSpMean_Magnitude  \\\nClass                                        0.587947   \nDominantFreq_VT                              0.186090   \nDominantFreq_AP                             -0.324431   \nCorssCorrelationSum_VTML                     0.529325   \nCorssCorrelationSum_VTAP                     0.733443   \n...                                               ...   \nMeanFreq_Plom_Magnitude                     -0.711225   \nSumPSD_Plom_Magnitude                        0.440110   \nMoment2ndPSD_Plom_Magnitude                 -0.582096   \nZeroCrossingRate_Magnitude                   0.106932   \nEnergySignal_Magnitude                       0.440103   \n\n                             CentroidSpMax_Magnitude  MeanPSD_Plomb_Magnitude  \\\nClass                                       0.587947                -0.077441   \nDominantFreq_VT                             0.186090                 0.076212   \nDominantFreq_AP                            -0.324431                 0.098966   \nCorssCorrelationSum_VTML                    0.529325                -0.134166   \nCorssCorrelationSum_VTAP                    0.733443                -0.173813   \n...                                              ...                      ...   \nMeanFreq_Plom_Magnitude                    -0.711225                 0.486960   \nSumPSD_Plom_Magnitude                       0.440110                 0.462380   \nMoment2ndPSD_Plom_Magnitude                -0.582096                 0.977716   \nZeroCrossingRate_Magnitude                  0.106932                 0.048620   \nEnergySignal_Magnitude                      0.440103                 0.462380   \n\n                             MedianPSD_Plom_Magnitude  \\\nClass                                       -0.168576   \nDominantFreq_VT                              0.119722   \nDominantFreq_AP                              0.336378   \nCorssCorrelationSum_VTML                    -0.291397   \nCorssCorrelationSum_VTAP                    -0.161104   \n...                                               ...   \nMeanFreq_Plom_Magnitude                      0.938755   \nSumPSD_Plom_Magnitude                       -0.312301   \nMoment2ndPSD_Plom_Magnitude                  0.557515   \nZeroCrossingRate_Magnitude                   0.293868   \nEnergySignal_Magnitude                      -0.312300   \n\n                             MeanFreq_Plom_Magnitude  SumPSD_Plom_Magnitude  \\\nClass                                      -0.233972               0.349275   \nDominantFreq_VT                             0.017723               0.011872   \nDominantFreq_AP                             0.314709              -0.284217   \nCorssCorrelationSum_VTML                   -0.473959               0.477327   \nCorssCorrelationSum_VTAP                   -0.397730               0.580007   \n...                                              ...                    ...   \nMeanFreq_Plom_Magnitude                     1.000000              -0.429093   \nSumPSD_Plom_Magnitude                      -0.429093               1.000000   \nMoment2ndPSD_Plom_Magnitude                 0.570855               0.346060   \nZeroCrossingRate_Magnitude                  0.318175              -0.084557   \nEnergySignal_Magnitude                     -0.429090               1.000000   \n\n                             Moment2ndPSD_Plom_Magnitude  \\\nClass                                          -0.078178   \nDominantFreq_VT                                 0.107477   \nDominantFreq_AP                                 0.149649   \nCorssCorrelationSum_VTML                       -0.212600   \nCorssCorrelationSum_VTAP                       -0.213911   \n...                                                  ...   \nMeanFreq_Plom_Magnitude                         0.570855   \nSumPSD_Plom_Magnitude                           0.346060   \nMoment2ndPSD_Plom_Magnitude                     1.000000   \nZeroCrossingRate_Magnitude                      0.117188   \nEnergySignal_Magnitude                          0.346059   \n\n                             ZeroCrossingRate_Magnitude  \\\nClass                                          0.623688   \nDominantFreq_VT                                0.038432   \nDominantFreq_AP                               -0.164761   \nCorssCorrelationSum_VTML                      -0.498823   \nCorssCorrelationSum_VTAP                       0.137633   \n...                                                 ...   \nMeanFreq_Plom_Magnitude                        0.318175   \nSumPSD_Plom_Magnitude                         -0.084557   \nMoment2ndPSD_Plom_Magnitude                    0.117188   \nZeroCrossingRate_Magnitude                     1.000000   \nEnergySignal_Magnitude                        -0.084554   \n\n                             EnergySignal_Magnitude  \nClass                                      0.349266  \nDominantFreq_VT                            0.011843  \nDominantFreq_AP                           -0.284222  \nCorssCorrelationSum_VTML                   0.477319  \nCorssCorrelationSum_VTAP                   0.580016  \n...                                             ...  \nMeanFreq_Plom_Magnitude                   -0.429090  \nSumPSD_Plom_Magnitude                      1.000000  \nMoment2ndPSD_Plom_Magnitude                0.346059  \nZeroCrossingRate_Magnitude                -0.084554  \nEnergySignal_Magnitude                     1.000000  \n\n[102 rows x 102 columns]",
      "text/html": "<div>\n<style scoped>\n    .dataframe tbody tr th:only-of-type {\n        vertical-align: middle;\n    }\n\n    .dataframe tbody tr th {\n        vertical-align: top;\n    }\n\n    .dataframe thead th {\n        text-align: right;\n    }\n</style>\n<table border=\"1\" class=\"dataframe\">\n  <thead>\n    <tr style=\"text-align: right;\">\n      <th></th>\n      <th>Class</th>\n      <th>DominantFreq_VT</th>\n      <th>DominantFreq_AP</th>\n      <th>CorssCorrelationSum_VTML</th>\n      <th>CorssCorrelationSum_VTAP</th>\n      <th>CorssCorrelationSum_MLAP</th>\n      <th>CorssCorrelationLag_VTML</th>\n      <th>CorssCorrelationPeak_VTAP</th>\n      <th>CorssCorrelationLag_VTAP</th>\n      <th>CorssCorrelationPeak_MLAP</th>\n      <th>...</th>\n      <th>RelativePower_AboveDomFr_Magnitude</th>\n      <th>CentroidSpMean_Magnitude</th>\n      <th>CentroidSpMax_Magnitude</th>\n      <th>MeanPSD_Plomb_Magnitude</th>\n      <th>MedianPSD_Plom_Magnitude</th>\n      <th>MeanFreq_Plom_Magnitude</th>\n      <th>SumPSD_Plom_Magnitude</th>\n      <th>Moment2ndPSD_Plom_Magnitude</th>\n      <th>ZeroCrossingRate_Magnitude</th>\n      <th>EnergySignal_Magnitude</th>\n    </tr>\n  </thead>\n  <tbody>\n    <tr>\n      <th>Class</th>\n      <td>1.000000</td>\n      <td>0.203415</td>\n      <td>-0.443131</td>\n      <td>0.119361</td>\n      <td>0.337073</td>\n      <td>0.393101</td>\n      <td>0.377699</td>\n      <td>0.576362</td>\n      <td>0.347575</td>\n      <td>0.240162</td>\n      <td>...</td>\n      <td>0.301511</td>\n      <td>0.587947</td>\n      <td>0.587947</td>\n      <td>-0.077441</td>\n      <td>-0.168576</td>\n      <td>-0.233972</td>\n      <td>0.349275</td>\n      <td>-0.078178</td>\n      <td>0.623688</td>\n      <td>0.349266</td>\n    </tr>\n    <tr>\n      <th>DominantFreq_VT</th>\n      <td>0.203415</td>\n      <td>1.000000</td>\n      <td>0.084006</td>\n      <td>0.067744</td>\n      <td>-0.137115</td>\n      <td>-0.274873</td>\n      <td>-0.263909</td>\n      <td>0.295082</td>\n      <td>0.053454</td>\n      <td>-0.434741</td>\n      <td>...</td>\n      <td>-0.292456</td>\n      <td>0.186090</td>\n      <td>0.186090</td>\n      <td>0.076212</td>\n      <td>0.119722</td>\n      <td>0.017723</td>\n      <td>0.011872</td>\n      <td>0.107477</td>\n      <td>0.038432</td>\n      <td>0.011843</td>\n    </tr>\n    <tr>\n      <th>DominantFreq_AP</th>\n      <td>-0.443131</td>\n      <td>0.084006</td>\n      <td>1.000000</td>\n      <td>-0.252446</td>\n      <td>-0.253861</td>\n      <td>-0.395697</td>\n      <td>-0.220323</td>\n      <td>-0.331762</td>\n      <td>-0.242169</td>\n      <td>-0.318744</td>\n      <td>...</td>\n      <td>-0.152416</td>\n      <td>-0.324431</td>\n      <td>-0.324431</td>\n      <td>0.098966</td>\n      <td>0.336378</td>\n      <td>0.314709</td>\n      <td>-0.284217</td>\n      <td>0.149649</td>\n      <td>-0.164761</td>\n      <td>-0.284222</td>\n    </tr>\n    <tr>\n      <th>CorssCorrelationSum_VTML</th>\n      <td>0.119361</td>\n      <td>0.067744</td>\n      <td>-0.252446</td>\n      <td>1.000000</td>\n      <td>0.540556</td>\n      <td>0.688697</td>\n      <td>0.263320</td>\n      <td>0.587574</td>\n      <td>0.815266</td>\n      <td>0.228862</td>\n      <td>...</td>\n      <td>-0.174897</td>\n      <td>0.529325</td>\n      <td>0.529325</td>\n      <td>-0.134166</td>\n      <td>-0.291397</td>\n      <td>-0.473959</td>\n      <td>0.477327</td>\n      <td>-0.212600</td>\n      <td>-0.498823</td>\n      <td>0.477319</td>\n    </tr>\n    <tr>\n      <th>CorssCorrelationSum_VTAP</th>\n      <td>0.337073</td>\n      <td>-0.137115</td>\n      <td>-0.253861</td>\n      <td>0.540556</td>\n      <td>1.000000</td>\n      <td>0.735542</td>\n      <td>0.920991</td>\n      <td>0.838128</td>\n      <td>0.625966</td>\n      <td>0.121121</td>\n      <td>...</td>\n      <td>-0.087455</td>\n      <td>0.733443</td>\n      <td>0.733443</td>\n      <td>-0.173813</td>\n      <td>-0.161104</td>\n      <td>-0.397730</td>\n      <td>0.580007</td>\n      <td>-0.213911</td>\n      <td>0.137633</td>\n      <td>0.580016</td>\n    </tr>\n    <tr>\n      <th>...</th>\n      <td>...</td>\n      <td>...</td>\n      <td>...</td>\n      <td>...</td>\n      <td>...</td>\n      <td>...</td>\n      <td>...</td>\n      <td>...</td>\n      <td>...</td>\n      <td>...</td>\n      <td>...</td>\n      <td>...</td>\n      <td>...</td>\n      <td>...</td>\n      <td>...</td>\n      <td>...</td>\n      <td>...</td>\n      <td>...</td>\n      <td>...</td>\n      <td>...</td>\n      <td>...</td>\n    </tr>\n    <tr>\n      <th>MeanFreq_Plom_Magnitude</th>\n      <td>-0.233972</td>\n      <td>0.017723</td>\n      <td>0.314709</td>\n      <td>-0.473959</td>\n      <td>-0.397730</td>\n      <td>-0.517166</td>\n      <td>-0.447928</td>\n      <td>-0.567279</td>\n      <td>-0.674190</td>\n      <td>-0.328861</td>\n      <td>...</td>\n      <td>-0.106952</td>\n      <td>-0.711225</td>\n      <td>-0.711225</td>\n      <td>0.486960</td>\n      <td>0.938755</td>\n      <td>1.000000</td>\n      <td>-0.429093</td>\n      <td>0.570855</td>\n      <td>0.318175</td>\n      <td>-0.429090</td>\n    </tr>\n    <tr>\n      <th>SumPSD_Plom_Magnitude</th>\n      <td>0.349275</td>\n      <td>0.011872</td>\n      <td>-0.284217</td>\n      <td>0.477327</td>\n      <td>0.580007</td>\n      <td>0.786588</td>\n      <td>0.549827</td>\n      <td>0.588084</td>\n      <td>0.616781</td>\n      <td>0.595476</td>\n      <td>...</td>\n      <td>0.371248</td>\n      <td>0.440110</td>\n      <td>0.440110</td>\n      <td>0.462380</td>\n      <td>-0.312301</td>\n      <td>-0.429093</td>\n      <td>1.000000</td>\n      <td>0.346060</td>\n      <td>-0.084557</td>\n      <td>1.000000</td>\n    </tr>\n    <tr>\n      <th>Moment2ndPSD_Plom_Magnitude</th>\n      <td>-0.078178</td>\n      <td>0.107477</td>\n      <td>0.149649</td>\n      <td>-0.212600</td>\n      <td>-0.213911</td>\n      <td>0.004172</td>\n      <td>-0.209655</td>\n      <td>-0.332946</td>\n      <td>-0.316368</td>\n      <td>0.260248</td>\n      <td>...</td>\n      <td>0.287593</td>\n      <td>-0.582096</td>\n      <td>-0.582096</td>\n      <td>0.977716</td>\n      <td>0.557515</td>\n      <td>0.570855</td>\n      <td>0.346060</td>\n      <td>1.000000</td>\n      <td>0.117188</td>\n      <td>0.346059</td>\n    </tr>\n    <tr>\n      <th>ZeroCrossingRate_Magnitude</th>\n      <td>0.623688</td>\n      <td>0.038432</td>\n      <td>-0.164761</td>\n      <td>-0.498823</td>\n      <td>0.137633</td>\n      <td>-0.181354</td>\n      <td>0.308172</td>\n      <td>0.127491</td>\n      <td>-0.331129</td>\n      <td>-0.246788</td>\n      <td>...</td>\n      <td>0.001644</td>\n      <td>0.106932</td>\n      <td>0.106932</td>\n      <td>0.048620</td>\n      <td>0.293868</td>\n      <td>0.318175</td>\n      <td>-0.084557</td>\n      <td>0.117188</td>\n      <td>1.000000</td>\n      <td>-0.084554</td>\n    </tr>\n    <tr>\n      <th>EnergySignal_Magnitude</th>\n      <td>0.349266</td>\n      <td>0.011843</td>\n      <td>-0.284222</td>\n      <td>0.477319</td>\n      <td>0.580016</td>\n      <td>0.786595</td>\n      <td>0.549840</td>\n      <td>0.588077</td>\n      <td>0.616777</td>\n      <td>0.595486</td>\n      <td>...</td>\n      <td>0.371257</td>\n      <td>0.440103</td>\n      <td>0.440103</td>\n      <td>0.462380</td>\n      <td>-0.312300</td>\n      <td>-0.429090</td>\n      <td>1.000000</td>\n      <td>0.346059</td>\n      <td>-0.084554</td>\n      <td>1.000000</td>\n    </tr>\n  </tbody>\n</table>\n<p>102 rows × 102 columns</p>\n</div>"
     },
     "execution_count": 11,
     "metadata": {},
     "output_type": "execute_result"
    }
   ],
   "source": [
    "acc_corr"
   ],
   "metadata": {
    "collapsed": false,
    "ExecuteTime": {
     "end_time": "2024-02-16T19:02:32.862142Z",
     "start_time": "2024-02-16T19:02:32.859215Z"
    }
   },
   "id": "d2f9f9fe15834c73"
  },
  {
   "cell_type": "code",
   "execution_count": 12,
   "outputs": [
    {
     "data": {
      "text/plain": "                                     Class  DominantFreq_VT  DominantFreq_ML  \\\nClass                             1.000000        -0.030496        -0.264930   \nDominantFreq_VT                  -0.030496         1.000000        -0.187647   \nDominantFreq_ML                  -0.264930        -0.187647         1.000000   \nCorssCorrelationPeak_VTAP         0.007659         0.528043        -0.039576   \nCorssCorrelationPeak_MLAP         0.160739         0.272645        -0.074862   \n...                                    ...              ...              ...   \nSumSq75_SigComplete_Magnitude     0.251790         0.592619         0.100594   \nRelativePower_Below5Hz_Magnitude -0.723573        -0.016445         0.080923   \nMeanPSD_Plomb_Magnitude          -0.472381         0.180730         0.231785   \nZeroCrossingRate_Magnitude        0.052033         0.139760        -0.065928   \nModeSignal_Magnitude             -0.021881         0.410720        -0.119277   \n\n                                  CorssCorrelationPeak_VTAP  \\\nClass                                              0.007659   \nDominantFreq_VT                                    0.528043   \nDominantFreq_ML                                   -0.039576   \nCorssCorrelationPeak_VTAP                          1.000000   \nCorssCorrelationPeak_MLAP                          0.205104   \n...                                                     ...   \nSumSq75_SigComplete_Magnitude                      0.746735   \nRelativePower_Below5Hz_Magnitude                   0.025583   \nMeanPSD_Plomb_Magnitude                            0.065104   \nZeroCrossingRate_Magnitude                         0.248352   \nModeSignal_Magnitude                               0.053139   \n\n                                  CorssCorrelationPeak_MLAP  \\\nClass                                              0.160739   \nDominantFreq_VT                                    0.272645   \nDominantFreq_ML                                   -0.074862   \nCorssCorrelationPeak_VTAP                          0.205104   \nCorssCorrelationPeak_MLAP                          1.000000   \n...                                                     ...   \nSumSq75_SigComplete_Magnitude                      0.405460   \nRelativePower_Below5Hz_Magnitude                  -0.560691   \nMeanPSD_Plomb_Magnitude                           -0.463927   \nZeroCrossingRate_Magnitude                         0.734140   \nModeSignal_Magnitude                               0.112674   \n\n                                  CorssCorrelationLag_MLAP  Amplitude_ML  \\\nClass                                             0.406600      0.159197   \nDominantFreq_VT                                   0.463173      0.317635   \nDominantFreq_ML                                   0.075118     -0.215588   \nCorssCorrelationPeak_VTAP                         0.603406     -0.291465   \nCorssCorrelationPeak_MLAP                         0.444897      0.055136   \n...                                                    ...           ...   \nSumSq75_SigComplete_Magnitude                     0.938340     -0.113367   \nRelativePower_Below5Hz_Magnitude                 -0.366954     -0.138083   \nMeanPSD_Plomb_Magnitude                          -0.477266      0.143643   \nZeroCrossingRate_Magnitude                        0.344689      0.069163   \nModeSignal_Magnitude                              0.231963      0.134299   \n\n                                  AmplitudeNorm_VT  AmplitudeNorm_AP  \\\nClass                                    -0.483660          0.465709   \nDominantFreq_VT                          -0.256582         -0.202340   \nDominantFreq_ML                           0.401313         -0.136449   \nCorssCorrelationPeak_VTAP                -0.342827         -0.623505   \nCorssCorrelationPeak_MLAP                -0.040398          0.166916   \n...                                            ...               ...   \nSumSq75_SigComplete_Magnitude            -0.577289         -0.500737   \nRelativePower_Below5Hz_Magnitude          0.252734         -0.460023   \nMeanPSD_Plomb_Magnitude                   0.585576         -0.055095   \nZeroCrossingRate_Magnitude                0.014920          0.056328   \nModeSignal_Magnitude                     -0.385866         -0.236456   \n\n                                  Width_ML  ...  ZeroCrossingRate_AP  \\\nClass                            -0.199984  ...             0.180223   \nDominantFreq_VT                  -0.231573  ...             0.026352   \nDominantFreq_ML                  -0.132242  ...            -0.128346   \nCorssCorrelationPeak_VTAP        -0.402738  ...             0.233900   \nCorssCorrelationPeak_MLAP         0.090554  ...            -0.157170   \n...                                    ...  ...                  ...   \nSumSq75_SigComplete_Magnitude    -0.217734  ...            -0.170754   \nRelativePower_Below5Hz_Magnitude  0.354431  ...             0.036861   \nMeanPSD_Plomb_Magnitude           0.184572  ...             0.393712   \nZeroCrossingRate_Magnitude        0.130294  ...             0.077570   \nModeSignal_Magnitude             -0.525394  ...            -0.594961   \n\n                                  EnergySignal_AP  Std_SigComplete_Magnitude  \\\nClass                                    0.246117                  -0.478409   \nDominantFreq_VT                          0.601496                   0.163796   \nDominantFreq_ML                          0.065033                   0.235888   \nCorssCorrelationPeak_VTAP                0.642764                   0.056145   \nCorssCorrelationPeak_MLAP                0.615989                  -0.488935   \n...                                           ...                        ...   \nSumSq75_SigComplete_Magnitude            0.900768                  -0.231661   \nRelativePower_Below5Hz_Magnitude        -0.318038                   0.535049   \nMeanPSD_Plomb_Magnitude                 -0.226943                   0.999376   \nZeroCrossingRate_Magnitude               0.537290                  -0.519026   \nModeSignal_Magnitude                     0.178935                  -0.107740   \n\n                                  InterQuartileRange_SigComplete_Magnitude  \\\nClass                                                            -0.476241   \nDominantFreq_VT                                                   0.259186   \nDominantFreq_ML                                                   0.158327   \nCorssCorrelationPeak_VTAP                                         0.199354   \nCorssCorrelationPeak_MLAP                                        -0.315640   \n...                                                                    ...   \nSumSq75_SigComplete_Magnitude                                    -0.050598   \nRelativePower_Below5Hz_Magnitude                                  0.602020   \nMeanPSD_Plomb_Magnitude                                           0.941038   \nZeroCrossingRate_Magnitude                                       -0.300473   \nModeSignal_Magnitude                                             -0.278165   \n\n                                  Percentile75_SigComplete_Magnitude  \\\nClass                                                      -0.438862   \nDominantFreq_VT                                             0.286434   \nDominantFreq_ML                                             0.175666   \nCorssCorrelationPeak_VTAP                                   0.147938   \nCorssCorrelationPeak_MLAP                                  -0.187161   \n...                                                              ...   \nSumSq75_SigComplete_Magnitude                               0.018050   \nRelativePower_Below5Hz_Magnitude                            0.556716   \nMeanPSD_Plomb_Magnitude                                     0.869382   \nZeroCrossingRate_Magnitude                                 -0.132391   \nModeSignal_Magnitude                                       -0.326525   \n\n                                  SumSq75_SigComplete_Magnitude  \\\nClass                                                  0.251790   \nDominantFreq_VT                                        0.592619   \nDominantFreq_ML                                        0.100594   \nCorssCorrelationPeak_VTAP                              0.746735   \nCorssCorrelationPeak_MLAP                              0.405460   \n...                                                         ...   \nSumSq75_SigComplete_Magnitude                          1.000000   \nRelativePower_Below5Hz_Magnitude                      -0.209695   \nMeanPSD_Plomb_Magnitude                               -0.217962   \nZeroCrossingRate_Magnitude                             0.351658   \nModeSignal_Magnitude                                   0.177858   \n\n                                  RelativePower_Below5Hz_Magnitude  \\\nClass                                                    -0.723573   \nDominantFreq_VT                                          -0.016445   \nDominantFreq_ML                                           0.080923   \nCorssCorrelationPeak_VTAP                                 0.025583   \nCorssCorrelationPeak_MLAP                                -0.560691   \n...                                                            ...   \nSumSq75_SigComplete_Magnitude                            -0.209695   \nRelativePower_Below5Hz_Magnitude                          1.000000   \nMeanPSD_Plomb_Magnitude                                   0.518283   \nZeroCrossingRate_Magnitude                               -0.221574   \nModeSignal_Magnitude                                     -0.344304   \n\n                                  MeanPSD_Plomb_Magnitude  \\\nClass                                           -0.472381   \nDominantFreq_VT                                  0.180730   \nDominantFreq_ML                                  0.231785   \nCorssCorrelationPeak_VTAP                        0.065104   \nCorssCorrelationPeak_MLAP                       -0.463927   \n...                                                   ...   \nSumSq75_SigComplete_Magnitude                   -0.217962   \nRelativePower_Below5Hz_Magnitude                 0.518283   \nMeanPSD_Plomb_Magnitude                          1.000000   \nZeroCrossingRate_Magnitude                      -0.514549   \nModeSignal_Magnitude                            -0.096360   \n\n                                  ZeroCrossingRate_Magnitude  \\\nClass                                               0.052033   \nDominantFreq_VT                                     0.139760   \nDominantFreq_ML                                    -0.065928   \nCorssCorrelationPeak_VTAP                           0.248352   \nCorssCorrelationPeak_MLAP                           0.734140   \n...                                                      ...   \nSumSq75_SigComplete_Magnitude                       0.351658   \nRelativePower_Below5Hz_Magnitude                   -0.221574   \nMeanPSD_Plomb_Magnitude                            -0.514549   \nZeroCrossingRate_Magnitude                          1.000000   \nModeSignal_Magnitude                               -0.318817   \n\n                                  ModeSignal_Magnitude  \nClass                                        -0.021881  \nDominantFreq_VT                               0.410720  \nDominantFreq_ML                              -0.119277  \nCorssCorrelationPeak_VTAP                     0.053139  \nCorssCorrelationPeak_MLAP                     0.112674  \n...                                                ...  \nSumSq75_SigComplete_Magnitude                 0.177858  \nRelativePower_Below5Hz_Magnitude             -0.344304  \nMeanPSD_Plomb_Magnitude                      -0.096360  \nZeroCrossingRate_Magnitude                   -0.318817  \nModeSignal_Magnitude                          1.000000  \n\n[103 rows x 103 columns]",
      "text/html": "<div>\n<style scoped>\n    .dataframe tbody tr th:only-of-type {\n        vertical-align: middle;\n    }\n\n    .dataframe tbody tr th {\n        vertical-align: top;\n    }\n\n    .dataframe thead th {\n        text-align: right;\n    }\n</style>\n<table border=\"1\" class=\"dataframe\">\n  <thead>\n    <tr style=\"text-align: right;\">\n      <th></th>\n      <th>Class</th>\n      <th>DominantFreq_VT</th>\n      <th>DominantFreq_ML</th>\n      <th>CorssCorrelationPeak_VTAP</th>\n      <th>CorssCorrelationPeak_MLAP</th>\n      <th>CorssCorrelationLag_MLAP</th>\n      <th>Amplitude_ML</th>\n      <th>AmplitudeNorm_VT</th>\n      <th>AmplitudeNorm_AP</th>\n      <th>Width_ML</th>\n      <th>...</th>\n      <th>ZeroCrossingRate_AP</th>\n      <th>EnergySignal_AP</th>\n      <th>Std_SigComplete_Magnitude</th>\n      <th>InterQuartileRange_SigComplete_Magnitude</th>\n      <th>Percentile75_SigComplete_Magnitude</th>\n      <th>SumSq75_SigComplete_Magnitude</th>\n      <th>RelativePower_Below5Hz_Magnitude</th>\n      <th>MeanPSD_Plomb_Magnitude</th>\n      <th>ZeroCrossingRate_Magnitude</th>\n      <th>ModeSignal_Magnitude</th>\n    </tr>\n  </thead>\n  <tbody>\n    <tr>\n      <th>Class</th>\n      <td>1.000000</td>\n      <td>-0.030496</td>\n      <td>-0.264930</td>\n      <td>0.007659</td>\n      <td>0.160739</td>\n      <td>0.406600</td>\n      <td>0.159197</td>\n      <td>-0.483660</td>\n      <td>0.465709</td>\n      <td>-0.199984</td>\n      <td>...</td>\n      <td>0.180223</td>\n      <td>0.246117</td>\n      <td>-0.478409</td>\n      <td>-0.476241</td>\n      <td>-0.438862</td>\n      <td>0.251790</td>\n      <td>-0.723573</td>\n      <td>-0.472381</td>\n      <td>0.052033</td>\n      <td>-0.021881</td>\n    </tr>\n    <tr>\n      <th>DominantFreq_VT</th>\n      <td>-0.030496</td>\n      <td>1.000000</td>\n      <td>-0.187647</td>\n      <td>0.528043</td>\n      <td>0.272645</td>\n      <td>0.463173</td>\n      <td>0.317635</td>\n      <td>-0.256582</td>\n      <td>-0.202340</td>\n      <td>-0.231573</td>\n      <td>...</td>\n      <td>0.026352</td>\n      <td>0.601496</td>\n      <td>0.163796</td>\n      <td>0.259186</td>\n      <td>0.286434</td>\n      <td>0.592619</td>\n      <td>-0.016445</td>\n      <td>0.180730</td>\n      <td>0.139760</td>\n      <td>0.410720</td>\n    </tr>\n    <tr>\n      <th>DominantFreq_ML</th>\n      <td>-0.264930</td>\n      <td>-0.187647</td>\n      <td>1.000000</td>\n      <td>-0.039576</td>\n      <td>-0.074862</td>\n      <td>0.075118</td>\n      <td>-0.215588</td>\n      <td>0.401313</td>\n      <td>-0.136449</td>\n      <td>-0.132242</td>\n      <td>...</td>\n      <td>-0.128346</td>\n      <td>0.065033</td>\n      <td>0.235888</td>\n      <td>0.158327</td>\n      <td>0.175666</td>\n      <td>0.100594</td>\n      <td>0.080923</td>\n      <td>0.231785</td>\n      <td>-0.065928</td>\n      <td>-0.119277</td>\n    </tr>\n    <tr>\n      <th>CorssCorrelationPeak_VTAP</th>\n      <td>0.007659</td>\n      <td>0.528043</td>\n      <td>-0.039576</td>\n      <td>1.000000</td>\n      <td>0.205104</td>\n      <td>0.603406</td>\n      <td>-0.291465</td>\n      <td>-0.342827</td>\n      <td>-0.623505</td>\n      <td>-0.402738</td>\n      <td>...</td>\n      <td>0.233900</td>\n      <td>0.642764</td>\n      <td>0.056145</td>\n      <td>0.199354</td>\n      <td>0.147938</td>\n      <td>0.746735</td>\n      <td>0.025583</td>\n      <td>0.065104</td>\n      <td>0.248352</td>\n      <td>0.053139</td>\n    </tr>\n    <tr>\n      <th>CorssCorrelationPeak_MLAP</th>\n      <td>0.160739</td>\n      <td>0.272645</td>\n      <td>-0.074862</td>\n      <td>0.205104</td>\n      <td>1.000000</td>\n      <td>0.444897</td>\n      <td>0.055136</td>\n      <td>-0.040398</td>\n      <td>0.166916</td>\n      <td>0.090554</td>\n      <td>...</td>\n      <td>-0.157170</td>\n      <td>0.615989</td>\n      <td>-0.488935</td>\n      <td>-0.315640</td>\n      <td>-0.187161</td>\n      <td>0.405460</td>\n      <td>-0.560691</td>\n      <td>-0.463927</td>\n      <td>0.734140</td>\n      <td>0.112674</td>\n    </tr>\n    <tr>\n      <th>...</th>\n      <td>...</td>\n      <td>...</td>\n      <td>...</td>\n      <td>...</td>\n      <td>...</td>\n      <td>...</td>\n      <td>...</td>\n      <td>...</td>\n      <td>...</td>\n      <td>...</td>\n      <td>...</td>\n      <td>...</td>\n      <td>...</td>\n      <td>...</td>\n      <td>...</td>\n      <td>...</td>\n      <td>...</td>\n      <td>...</td>\n      <td>...</td>\n      <td>...</td>\n      <td>...</td>\n    </tr>\n    <tr>\n      <th>SumSq75_SigComplete_Magnitude</th>\n      <td>0.251790</td>\n      <td>0.592619</td>\n      <td>0.100594</td>\n      <td>0.746735</td>\n      <td>0.405460</td>\n      <td>0.938340</td>\n      <td>-0.113367</td>\n      <td>-0.577289</td>\n      <td>-0.500737</td>\n      <td>-0.217734</td>\n      <td>...</td>\n      <td>-0.170754</td>\n      <td>0.900768</td>\n      <td>-0.231661</td>\n      <td>-0.050598</td>\n      <td>0.018050</td>\n      <td>1.000000</td>\n      <td>-0.209695</td>\n      <td>-0.217962</td>\n      <td>0.351658</td>\n      <td>0.177858</td>\n    </tr>\n    <tr>\n      <th>RelativePower_Below5Hz_Magnitude</th>\n      <td>-0.723573</td>\n      <td>-0.016445</td>\n      <td>0.080923</td>\n      <td>0.025583</td>\n      <td>-0.560691</td>\n      <td>-0.366954</td>\n      <td>-0.138083</td>\n      <td>0.252734</td>\n      <td>-0.460023</td>\n      <td>0.354431</td>\n      <td>...</td>\n      <td>0.036861</td>\n      <td>-0.318038</td>\n      <td>0.535049</td>\n      <td>0.602020</td>\n      <td>0.556716</td>\n      <td>-0.209695</td>\n      <td>1.000000</td>\n      <td>0.518283</td>\n      <td>-0.221574</td>\n      <td>-0.344304</td>\n    </tr>\n    <tr>\n      <th>MeanPSD_Plomb_Magnitude</th>\n      <td>-0.472381</td>\n      <td>0.180730</td>\n      <td>0.231785</td>\n      <td>0.065104</td>\n      <td>-0.463927</td>\n      <td>-0.477266</td>\n      <td>0.143643</td>\n      <td>0.585576</td>\n      <td>-0.055095</td>\n      <td>0.184572</td>\n      <td>...</td>\n      <td>0.393712</td>\n      <td>-0.226943</td>\n      <td>0.999376</td>\n      <td>0.941038</td>\n      <td>0.869382</td>\n      <td>-0.217962</td>\n      <td>0.518283</td>\n      <td>1.000000</td>\n      <td>-0.514549</td>\n      <td>-0.096360</td>\n    </tr>\n    <tr>\n      <th>ZeroCrossingRate_Magnitude</th>\n      <td>0.052033</td>\n      <td>0.139760</td>\n      <td>-0.065928</td>\n      <td>0.248352</td>\n      <td>0.734140</td>\n      <td>0.344689</td>\n      <td>0.069163</td>\n      <td>0.014920</td>\n      <td>0.056328</td>\n      <td>0.130294</td>\n      <td>...</td>\n      <td>0.077570</td>\n      <td>0.537290</td>\n      <td>-0.519026</td>\n      <td>-0.300473</td>\n      <td>-0.132391</td>\n      <td>0.351658</td>\n      <td>-0.221574</td>\n      <td>-0.514549</td>\n      <td>1.000000</td>\n      <td>-0.318817</td>\n    </tr>\n    <tr>\n      <th>ModeSignal_Magnitude</th>\n      <td>-0.021881</td>\n      <td>0.410720</td>\n      <td>-0.119277</td>\n      <td>0.053139</td>\n      <td>0.112674</td>\n      <td>0.231963</td>\n      <td>0.134299</td>\n      <td>-0.385866</td>\n      <td>-0.236456</td>\n      <td>-0.525394</td>\n      <td>...</td>\n      <td>-0.594961</td>\n      <td>0.178935</td>\n      <td>-0.107740</td>\n      <td>-0.278165</td>\n      <td>-0.326525</td>\n      <td>0.177858</td>\n      <td>-0.344304</td>\n      <td>-0.096360</td>\n      <td>-0.318817</td>\n      <td>1.000000</td>\n    </tr>\n  </tbody>\n</table>\n<p>103 rows × 103 columns</p>\n</div>"
     },
     "execution_count": 12,
     "metadata": {},
     "output_type": "execute_result"
    }
   ],
   "source": [
    "gyro_corr"
   ],
   "metadata": {
    "collapsed": false,
    "ExecuteTime": {
     "end_time": "2024-02-16T19:02:33.092003Z",
     "start_time": "2024-02-16T19:02:33.086835Z"
    }
   },
   "id": "9c0c85f27e5ab3e9"
  },
  {
   "cell_type": "code",
   "execution_count": 21,
   "outputs": [],
   "source": [
    "acc_feature_corr_matrix = acc_corr.drop(columns=['Class'])\n",
    "acc_target_corr = acc_feature_corr_matrix.iloc[[0]].copy()\n",
    "acc_feature_corr_matrix = acc_feature_corr_matrix.drop(acc_feature_corr_matrix.index[0])\n",
    "gyro_feature_corr_matrix = gyro_corr.drop(columns=['Class'])\n",
    "gyro_target_corr = gyro_feature_corr_matrix.iloc[[0]].copy()\n",
    "gyro_feature_corr_matrix = gyro_feature_corr_matrix.drop(gyro_feature_corr_matrix.index[0])"
   ],
   "metadata": {
    "collapsed": false,
    "ExecuteTime": {
     "end_time": "2024-02-16T19:04:19.871643Z",
     "start_time": "2024-02-16T19:04:19.866683Z"
    }
   },
   "id": "ece51c407de01633"
  },
  {
   "cell_type": "code",
   "execution_count": 22,
   "outputs": [],
   "source": [
    "acc_corr_redundant_features = get_corr_redundant_features(acc_feature_corr_matrix, acc_target_corr)\n",
    "gyro_corr_redundant_features = get_corr_redundant_features(gyro_feature_corr_matrix, gyro_target_corr)"
   ],
   "metadata": {
    "collapsed": false,
    "ExecuteTime": {
     "end_time": "2024-02-16T19:06:02.053892Z",
     "start_time": "2024-02-16T19:06:02.030735Z"
    }
   },
   "id": "b37900db4c3047cb"
  },
  {
   "cell_type": "code",
   "execution_count": 25,
   "outputs": [
    {
     "name": "stdout",
     "output_type": "stream",
     "text": [
      "92\n"
     ]
    },
    {
     "data": {
      "text/plain": "['CorssCorrelationSum_VTML',\n 'CorssCorrelationSum_VTAP',\n 'CorssCorrelationLag_VTML',\n 'CorssCorrelationSum_MLAP',\n 'CorssCorrelationLag_VTAP',\n 'DominantFreq_CorrVTAP',\n 'AmplitudeNorm_ML',\n 'SkewnessPSD_VT',\n 'DominantFreq_AP',\n 'AmplitudeNorm_AP',\n 'MeanPower_VT',\n 'MeanPower_AP',\n 'MedianPower_ML',\n 'IntegratedPower_VT',\n 'HarmonicRatio_VT',\n 'DominantFreq_VT',\n 'RMS_SigComplete_VT',\n 'RMSratio_SigComplete_VT',\n 'SkewnessPSD_ML',\n 'Range_VT',\n 'FirstDerivativeMax_SigComplete_VT',\n 'Median_SigComplete_ML',\n 'FirstDerivative_Moment2nd_SigComplete_VT',\n 'RMS_SigComplete_ML',\n 'FirstDerivative_Moment3rd_SigComplete_ML',\n 'CorssCorrelationPeak_MLAP',\n 'Range_SigComplete_AP',\n 'Range_SigComplete_ML',\n 'RMS_SigComplete_AP',\n 'FirstDerivativeRange_SigComplete_AP',\n 'FirstDerivativeMax_SigComplete_Magnitude',\n 'FirstDerivative_Moment2nd_SigComplete_Magnitude',\n 'FirstDerivative_Skweness_SigComplete_Magnitude',\n 'FirstDerivativeRMS_SigComplete_ML',\n 'FirstDerivativeMin_SigComplete_Magnitude',\n 'FirstDerivativeRMS_SigComplete_Magnitude',\n 'Max_SigComplete_VT',\n 'Kurtosis_SigComplete_VT',\n 'FirstDerivative_Kurtosis_SigComplete_VT',\n 'Median_SigComplete_VT',\n 'Percentile25_SigComplete_VT',\n 'Percentile75_SigComplete_VT',\n 'RelativePower_Below5Hz_VT',\n 'RelativePower_BelowDomFr_VT',\n 'CentroidSpMean_VT',\n 'MeanPSD_Plomb_VT',\n 'SkewnessPSD_Plom_VT',\n 'KurtosisPSD_Plom_VT',\n 'ZeroCrossingRate_VT',\n 'EnergySignal_VT',\n 'Skewness_SigComplete_ML',\n 'SumSq25_SigComplete_ML',\n 'SumSpectrum_Below5Hz_ML',\n 'CentroidSpMax_ML',\n 'SkewnessPSD_AP',\n 'ZeroCrossingRate_ML',\n 'Kurtosis_SigComplete_AP',\n 'RMSratio_SigComplete_AP',\n 'FirstDerivativeMean_SigComplete_AP',\n 'Skewness_SigComplete_AP',\n 'Percentile25_SigComplete_AP',\n 'SumSq25_SigComplete_AP',\n 'SumSq75_SigComplete_AP',\n 'FirstDerivativeRange_SigComplete_Magnitude',\n 'CentroidSpMax_VT',\n 'MeanPower_ML',\n 'MaxFreqSpectrum_Below5Hz_AP',\n 'InterQuartileRange_SigComplete_AP',\n 'RelativePower_BelowDomFr_AP',\n 'CentroidSpMax_AP',\n 'SumSpectrum_Below5Hz_AP',\n 'MeanPSD_Plomb_AP',\n 'SumPSD_Plom_AP',\n 'SkewnessPSD_Plom_AP',\n 'ZeroCrossingRate_AP',\n 'Skewness_SigComplete_Magnitude',\n 'Percentile25_SigComplete_Magnitude',\n 'MaxFreqSpectrum_Below5Hz_Magnitude',\n 'RelativePower_5To10Hz_Magnitude',\n 'MedianPSD_Plom_ML',\n 'KurtosisPSD_Plom_ML',\n 'RelativePower_AboveDomFr_Magnitude',\n 'CorssCorrelationPeak_VTAP',\n 'CentroidSpMean_Magnitude',\n 'MeanPSD_Plomb_Magnitude',\n 'FirstDerivative_Moment3rd_SigComplete_AP',\n 'MedianPSD_Plom_Magnitude',\n 'MeanFreq_Plom_Magnitude',\n 'SumPSD_Plom_Magnitude',\n 'Moment2ndPSD_Plom_Magnitude',\n 'ZeroCrossingRate_Magnitude',\n 'EnergySignal_Magnitude']"
     },
     "execution_count": 25,
     "metadata": {},
     "output_type": "execute_result"
    }
   ],
   "source": [
    "print(len(acc_corr_redundant_features))\n",
    "acc_corr_redundant_features"
   ],
   "metadata": {
    "collapsed": false,
    "ExecuteTime": {
     "end_time": "2024-02-16T19:06:15.943090Z",
     "start_time": "2024-02-16T19:06:15.932351Z"
    }
   },
   "id": "cb6da0510dc45f46"
  },
  {
   "cell_type": "code",
   "execution_count": 24,
   "outputs": [
    {
     "name": "stdout",
     "output_type": "stream",
     "text": [
      "93\n"
     ]
    },
    {
     "data": {
      "text/plain": "['CorssCorrelationPeak_VTAP',\n 'CorssCorrelationLag_MLAP',\n 'Slope_ML',\n 'CorssCorrelationPeak_MLAP',\n 'Amplitude_ML',\n 'DominantFreq_VT',\n 'MomentPSD_3rd_ML',\n 'SkewnessPSD_VT',\n 'SkewnessPSD_ML',\n 'KurtosisPSD_VT',\n 'MeanPower_ML',\n 'MeanPower_AP',\n 'WidthNorm_ML',\n 'SlopeNorm_ML',\n 'IntegratedPower_VT',\n 'SumPSD_ML',\n 'Range_AP',\n 'IndexHarmonicity_ML',\n 'HarmonicRatio_VT',\n 'HarmonicRatio_ML',\n 'IndexHarmonicity_AP',\n 'Range_VT',\n 'FirstDerivative_Moment3rd_SigComplete_VT',\n 'FirstDerivativeRange_SigComplete_VT',\n 'Range_SigComplete_VT',\n 'Range_ML',\n 'RMS_SigComplete_ML',\n 'FirstDerivativeMax_SigComplete_ML',\n 'FirstDerivative_Moment3rd_SigComplete_ML',\n 'FirstDerivative_Skweness_SigComplete_ML',\n 'FirstDerivative_Kurtosis_SigComplete_AP',\n 'FirstDerivativeRatio_SigComplete_AP',\n 'FirstDerivativeRMS_SigComplete_AP',\n 'RMS_SigComplete_Magnitude',\n 'FirstDerivative_Skweness_SigComplete_Magnitude',\n 'FirstDerivativeMin_SigComplete_Magnitude',\n 'RMS_SigComplete_VT',\n 'Median_SigComplete_Magnitude',\n 'FirstDerivativeLogRatio_SigComplete_Magnitude',\n 'Max_SigComplete_VT',\n 'Skewness_SigComplete_VT',\n 'FirstDerivativeRMS_SigComplete_Magnitude',\n 'SumSq75_SigComplete_VT',\n 'SumSpectrum_Below5Hz_VT',\n 'MaxFreqSpectrum_Below5Hz_VT',\n 'AmplitudeNorm_AP',\n 'Median_SigComplete_ML',\n 'AmplitudeNorm_VT',\n 'FirstDerivative_Skweness_SigComplete_VT',\n 'FirstDerivativeMin_SigComplete_AP',\n 'Percentile75_SigComplete_VT',\n 'Moment3rdPSD_Plom_VT',\n 'MomentPSD_2nd_AP',\n 'ModeSignal_VT',\n 'EnergySignal_VT',\n 'Std_SigComplete_ML',\n 'Max_SigComplete_ML',\n 'CentroidSpMean_ML',\n 'MedianPSD_Plom_ML',\n 'MeanFreq_Plom_ML',\n 'MedianFreq_Plom_ML',\n 'SkewnessPSD_Plom_ML',\n 'RelativePower_BelowDomFr_ML',\n 'MedianPSD_Plom_VT',\n 'EnergySignal_ML',\n 'Width_ML',\n 'Mean_SigComplete_AP',\n 'Max_SigComplete_AP',\n 'InterQuartileRange_SigComplete_AP',\n 'SumSq25_SigComplete_AP',\n 'SumSq75_SigComplete_AP',\n 'RelativePower_5To10Hz_AP',\n 'RelativePower_BelowDomFr_AP',\n 'CentroidSpMax_AP',\n 'MeanFreq_Plom_AP',\n 'Percentile25_SigComplete_AP',\n 'KurtosisPSD_Plom_VT',\n 'Moment3rdPSD_Plom_AP',\n 'SkewnessPSD_Plom_AP',\n 'KurtosisPSD_Plom_AP',\n 'ZeroCrossingRate_AP',\n 'EnergySignal_AP',\n 'Std_SigComplete_Magnitude',\n 'MaxFreqSpectrum_Below5Hz_ML',\n 'InterQuartileRange_SigComplete_Magnitude',\n 'Percentile75_SigComplete_Magnitude',\n 'SumSq75_SigComplete_Magnitude',\n 'Range_SigComplete_ML',\n 'CentroidSpMax_VT',\n 'KurtosisPSD_Plom_ML',\n 'MeanPSD_Plomb_Magnitude',\n 'ZeroCrossingRate_Magnitude',\n 'Skewness_SigComplete_AP']"
     },
     "execution_count": 24,
     "metadata": {},
     "output_type": "execute_result"
    }
   ],
   "source": [
    "print(len(gyro_corr_redundant_features))\n",
    "gyro_corr_redundant_features"
   ],
   "metadata": {
    "collapsed": false,
    "ExecuteTime": {
     "end_time": "2024-02-16T19:06:03.334097Z",
     "start_time": "2024-02-16T19:06:03.331758Z"
    }
   },
   "id": "8add454f59f8f2d7"
  },
  {
   "cell_type": "code",
   "execution_count": 26,
   "outputs": [],
   "source": [
    "filtered_acc_dataset_df = filtered_acc_dataset_df.drop(columns=acc_corr_redundant_features)\n",
    "filtered_gyro_dataset_df = filtered_gyro_dataset_df.drop(columns=gyro_corr_redundant_features)"
   ],
   "metadata": {
    "collapsed": false,
    "ExecuteTime": {
     "end_time": "2024-02-16T19:08:27.736141Z",
     "start_time": "2024-02-16T19:08:27.732075Z"
    }
   },
   "id": "245238ab05ebd4b9"
  },
  {
   "cell_type": "code",
   "execution_count": 27,
   "outputs": [
    {
     "data": {
      "text/plain": "    Class  IndexHarmonicity_ML  \\\n0       0            -1.069330   \n1       1             1.681837   \n2       0             1.672111   \n3       1             1.007142   \n4       0             0.252562   \n5       1            -0.906996   \n6       0             0.808179   \n7       1            -0.871964   \n8       0            -0.267925   \n9       1            -0.984467   \n10      0            -0.705786   \n11      1            -0.615363   \n\n    FirstDerivative_Moment3rd_SigComplete_Magnitude  \\\n0                                          0.135301   \n1                                          1.559217   \n2                                         -0.523202   \n3                                         -0.508966   \n4                                         -0.022803   \n5                                          0.133564   \n6                                         -1.688993   \n7                                         -0.273250   \n8                                          0.590969   \n9                                          0.252868   \n10                                        -1.500556   \n11                                         1.845852   \n\n    InterQuartileRange_SigComplete_VT  Std_SigComplete_ML  \\\n0                           -0.453811           -0.429353   \n1                           -0.610753           -0.770064   \n2                           -0.222828           -0.511502   \n3                            1.372247           -0.479112   \n4                           -0.961819           -0.610377   \n5                           -0.727572            0.265277   \n6                           -0.694287            0.869764   \n7                            2.507555           -0.696239   \n8                           -0.915989           -0.634120   \n9                           -0.179156           -0.832741   \n10                           0.442409            2.472430   \n11                           0.444003            1.356035   \n\n    RelativePower_Below5Hz_AP  Moment2ndPSD_Plom_AP  ModeSignal_AP  \\\n0                   -0.505171             -0.381535       1.425815   \n1                   -0.370701              0.916358       0.790065   \n2                   -0.611616             -0.456534      -0.486181   \n3                   -0.001430             -0.451724      -0.956278   \n4                    0.919677             -0.451914       0.405790   \n5                   -1.297334              3.074220      -1.794684   \n6                    1.397099             -0.453804       0.156805   \n7                   -1.279988             -0.087912      -0.757398   \n8                    1.787401             -0.454205      -0.637895   \n9                   -0.573928             -0.451296       1.935459   \n10                   1.118387             -0.434212       0.120470   \n11                  -0.582395             -0.367443      -0.201967   \n\n    RelativePower_BelowDomFr_Magnitude  CentroidSpMax_Magnitude  \n0                            -0.676916                -0.092303  \n1                             0.522940                 2.227281  \n2                            -0.862825                -0.108542  \n3                             0.246958                 1.621542  \n4                            -0.747132                -0.473631  \n5                            -0.479493                -0.277505  \n6                            -0.893267                -1.897663  \n7                             0.611405                 0.088414  \n8                            -0.781816                -0.526397  \n9                             2.500430                 0.002039  \n10                           -0.581239                -0.429143  \n11                            1.140954                -0.134092  ",
      "text/html": "<div>\n<style scoped>\n    .dataframe tbody tr th:only-of-type {\n        vertical-align: middle;\n    }\n\n    .dataframe tbody tr th {\n        vertical-align: top;\n    }\n\n    .dataframe thead th {\n        text-align: right;\n    }\n</style>\n<table border=\"1\" class=\"dataframe\">\n  <thead>\n    <tr style=\"text-align: right;\">\n      <th></th>\n      <th>Class</th>\n      <th>IndexHarmonicity_ML</th>\n      <th>FirstDerivative_Moment3rd_SigComplete_Magnitude</th>\n      <th>InterQuartileRange_SigComplete_VT</th>\n      <th>Std_SigComplete_ML</th>\n      <th>RelativePower_Below5Hz_AP</th>\n      <th>Moment2ndPSD_Plom_AP</th>\n      <th>ModeSignal_AP</th>\n      <th>RelativePower_BelowDomFr_Magnitude</th>\n      <th>CentroidSpMax_Magnitude</th>\n    </tr>\n  </thead>\n  <tbody>\n    <tr>\n      <th>0</th>\n      <td>0</td>\n      <td>-1.069330</td>\n      <td>0.135301</td>\n      <td>-0.453811</td>\n      <td>-0.429353</td>\n      <td>-0.505171</td>\n      <td>-0.381535</td>\n      <td>1.425815</td>\n      <td>-0.676916</td>\n      <td>-0.092303</td>\n    </tr>\n    <tr>\n      <th>1</th>\n      <td>1</td>\n      <td>1.681837</td>\n      <td>1.559217</td>\n      <td>-0.610753</td>\n      <td>-0.770064</td>\n      <td>-0.370701</td>\n      <td>0.916358</td>\n      <td>0.790065</td>\n      <td>0.522940</td>\n      <td>2.227281</td>\n    </tr>\n    <tr>\n      <th>2</th>\n      <td>0</td>\n      <td>1.672111</td>\n      <td>-0.523202</td>\n      <td>-0.222828</td>\n      <td>-0.511502</td>\n      <td>-0.611616</td>\n      <td>-0.456534</td>\n      <td>-0.486181</td>\n      <td>-0.862825</td>\n      <td>-0.108542</td>\n    </tr>\n    <tr>\n      <th>3</th>\n      <td>1</td>\n      <td>1.007142</td>\n      <td>-0.508966</td>\n      <td>1.372247</td>\n      <td>-0.479112</td>\n      <td>-0.001430</td>\n      <td>-0.451724</td>\n      <td>-0.956278</td>\n      <td>0.246958</td>\n      <td>1.621542</td>\n    </tr>\n    <tr>\n      <th>4</th>\n      <td>0</td>\n      <td>0.252562</td>\n      <td>-0.022803</td>\n      <td>-0.961819</td>\n      <td>-0.610377</td>\n      <td>0.919677</td>\n      <td>-0.451914</td>\n      <td>0.405790</td>\n      <td>-0.747132</td>\n      <td>-0.473631</td>\n    </tr>\n    <tr>\n      <th>5</th>\n      <td>1</td>\n      <td>-0.906996</td>\n      <td>0.133564</td>\n      <td>-0.727572</td>\n      <td>0.265277</td>\n      <td>-1.297334</td>\n      <td>3.074220</td>\n      <td>-1.794684</td>\n      <td>-0.479493</td>\n      <td>-0.277505</td>\n    </tr>\n    <tr>\n      <th>6</th>\n      <td>0</td>\n      <td>0.808179</td>\n      <td>-1.688993</td>\n      <td>-0.694287</td>\n      <td>0.869764</td>\n      <td>1.397099</td>\n      <td>-0.453804</td>\n      <td>0.156805</td>\n      <td>-0.893267</td>\n      <td>-1.897663</td>\n    </tr>\n    <tr>\n      <th>7</th>\n      <td>1</td>\n      <td>-0.871964</td>\n      <td>-0.273250</td>\n      <td>2.507555</td>\n      <td>-0.696239</td>\n      <td>-1.279988</td>\n      <td>-0.087912</td>\n      <td>-0.757398</td>\n      <td>0.611405</td>\n      <td>0.088414</td>\n    </tr>\n    <tr>\n      <th>8</th>\n      <td>0</td>\n      <td>-0.267925</td>\n      <td>0.590969</td>\n      <td>-0.915989</td>\n      <td>-0.634120</td>\n      <td>1.787401</td>\n      <td>-0.454205</td>\n      <td>-0.637895</td>\n      <td>-0.781816</td>\n      <td>-0.526397</td>\n    </tr>\n    <tr>\n      <th>9</th>\n      <td>1</td>\n      <td>-0.984467</td>\n      <td>0.252868</td>\n      <td>-0.179156</td>\n      <td>-0.832741</td>\n      <td>-0.573928</td>\n      <td>-0.451296</td>\n      <td>1.935459</td>\n      <td>2.500430</td>\n      <td>0.002039</td>\n    </tr>\n    <tr>\n      <th>10</th>\n      <td>0</td>\n      <td>-0.705786</td>\n      <td>-1.500556</td>\n      <td>0.442409</td>\n      <td>2.472430</td>\n      <td>1.118387</td>\n      <td>-0.434212</td>\n      <td>0.120470</td>\n      <td>-0.581239</td>\n      <td>-0.429143</td>\n    </tr>\n    <tr>\n      <th>11</th>\n      <td>1</td>\n      <td>-0.615363</td>\n      <td>1.845852</td>\n      <td>0.444003</td>\n      <td>1.356035</td>\n      <td>-0.582395</td>\n      <td>-0.367443</td>\n      <td>-0.201967</td>\n      <td>1.140954</td>\n      <td>-0.134092</td>\n    </tr>\n  </tbody>\n</table>\n</div>"
     },
     "execution_count": 27,
     "metadata": {},
     "output_type": "execute_result"
    }
   ],
   "source": [
    "filtered_acc_dataset_df"
   ],
   "metadata": {
    "collapsed": false,
    "ExecuteTime": {
     "end_time": "2024-02-16T19:08:36.726515Z",
     "start_time": "2024-02-16T19:08:36.720714Z"
    }
   },
   "id": "38227caba0ed80a6"
  },
  {
   "cell_type": "code",
   "execution_count": 28,
   "outputs": [
    {
     "data": {
      "text/plain": "    Class  DominantFreq_ML  HarmonicRatio_AP  Range_SigComplete_AP  \\\n0       0        -0.996089         -1.680615             -0.045507   \n1       1         0.932871          2.111637             -0.070220   \n2       0         1.459405          0.086035              0.233395   \n3       1        -1.038511         -0.392838             -0.166474   \n4       0         0.196722          0.171946              0.081826   \n5       1        -0.207536         -0.109666              0.802191   \n6       0        -0.786473         -0.163787             -0.361324   \n7       1         1.110046          0.671282             -1.196484   \n8       0         1.439442         -1.786345              2.748700   \n9       1        -1.175759          0.452083             -0.431377   \n10      0         0.276576         -0.146440             -1.382795   \n11      1        -1.210695          0.786706             -0.211932   \n\n    RelativePower_BelowDomFr_VT  RelativePower_5To10Hz_ML  \\\n0                     -1.172448                 -0.442416   \n1                     -0.491280                  0.123974   \n2                     -0.592790                  1.577567   \n3                      0.381015                  0.544102   \n4                      0.192401                  0.318902   \n5                      0.796013                 -0.068864   \n6                     -0.602623                 -0.978997   \n7                      0.816377                 -0.280795   \n8                     -1.029947                 -0.728192   \n9                      0.763694                 -1.228274   \n10                    -1.276876                  2.185432   \n11                     2.216466                 -1.022438   \n\n    ZeroCrossingRate_ML  Moment2ndPSD_Plom_AP  \\\n0             -0.819791             -0.898808   \n1              0.610931             -1.296793   \n2             -0.467831              0.847334   \n3              0.125207             -0.586626   \n4              0.755438              2.406502   \n5              0.429733             -0.018349   \n6             -0.964728             -0.235443   \n7              2.649201             -0.469892   \n8             -1.028477              0.715047   \n9             -0.948617             -1.194530   \n10            -0.166268              0.070175   \n11            -0.174799              0.661384   \n\n    RelativePower_Below5Hz_Magnitude  ModeSignal_Magnitude  \n0                           0.964929              1.140569  \n1                          -0.132561             -0.176969  \n2                          -0.592845             -0.386439  \n3                          -1.111037              0.063733  \n4                           0.941986              0.772013  \n5                          -0.793660             -0.065989  \n6                           1.998529             -2.156054  \n7                          -0.502118             -0.943992  \n8                           0.978372              0.527311  \n9                          -1.648869              1.828185  \n10                          0.050465              0.233886  \n11                         -0.153192             -0.836254  ",
      "text/html": "<div>\n<style scoped>\n    .dataframe tbody tr th:only-of-type {\n        vertical-align: middle;\n    }\n\n    .dataframe tbody tr th {\n        vertical-align: top;\n    }\n\n    .dataframe thead th {\n        text-align: right;\n    }\n</style>\n<table border=\"1\" class=\"dataframe\">\n  <thead>\n    <tr style=\"text-align: right;\">\n      <th></th>\n      <th>Class</th>\n      <th>DominantFreq_ML</th>\n      <th>HarmonicRatio_AP</th>\n      <th>Range_SigComplete_AP</th>\n      <th>RelativePower_BelowDomFr_VT</th>\n      <th>RelativePower_5To10Hz_ML</th>\n      <th>ZeroCrossingRate_ML</th>\n      <th>Moment2ndPSD_Plom_AP</th>\n      <th>RelativePower_Below5Hz_Magnitude</th>\n      <th>ModeSignal_Magnitude</th>\n    </tr>\n  </thead>\n  <tbody>\n    <tr>\n      <th>0</th>\n      <td>0</td>\n      <td>-0.996089</td>\n      <td>-1.680615</td>\n      <td>-0.045507</td>\n      <td>-1.172448</td>\n      <td>-0.442416</td>\n      <td>-0.819791</td>\n      <td>-0.898808</td>\n      <td>0.964929</td>\n      <td>1.140569</td>\n    </tr>\n    <tr>\n      <th>1</th>\n      <td>1</td>\n      <td>0.932871</td>\n      <td>2.111637</td>\n      <td>-0.070220</td>\n      <td>-0.491280</td>\n      <td>0.123974</td>\n      <td>0.610931</td>\n      <td>-1.296793</td>\n      <td>-0.132561</td>\n      <td>-0.176969</td>\n    </tr>\n    <tr>\n      <th>2</th>\n      <td>0</td>\n      <td>1.459405</td>\n      <td>0.086035</td>\n      <td>0.233395</td>\n      <td>-0.592790</td>\n      <td>1.577567</td>\n      <td>-0.467831</td>\n      <td>0.847334</td>\n      <td>-0.592845</td>\n      <td>-0.386439</td>\n    </tr>\n    <tr>\n      <th>3</th>\n      <td>1</td>\n      <td>-1.038511</td>\n      <td>-0.392838</td>\n      <td>-0.166474</td>\n      <td>0.381015</td>\n      <td>0.544102</td>\n      <td>0.125207</td>\n      <td>-0.586626</td>\n      <td>-1.111037</td>\n      <td>0.063733</td>\n    </tr>\n    <tr>\n      <th>4</th>\n      <td>0</td>\n      <td>0.196722</td>\n      <td>0.171946</td>\n      <td>0.081826</td>\n      <td>0.192401</td>\n      <td>0.318902</td>\n      <td>0.755438</td>\n      <td>2.406502</td>\n      <td>0.941986</td>\n      <td>0.772013</td>\n    </tr>\n    <tr>\n      <th>5</th>\n      <td>1</td>\n      <td>-0.207536</td>\n      <td>-0.109666</td>\n      <td>0.802191</td>\n      <td>0.796013</td>\n      <td>-0.068864</td>\n      <td>0.429733</td>\n      <td>-0.018349</td>\n      <td>-0.793660</td>\n      <td>-0.065989</td>\n    </tr>\n    <tr>\n      <th>6</th>\n      <td>0</td>\n      <td>-0.786473</td>\n      <td>-0.163787</td>\n      <td>-0.361324</td>\n      <td>-0.602623</td>\n      <td>-0.978997</td>\n      <td>-0.964728</td>\n      <td>-0.235443</td>\n      <td>1.998529</td>\n      <td>-2.156054</td>\n    </tr>\n    <tr>\n      <th>7</th>\n      <td>1</td>\n      <td>1.110046</td>\n      <td>0.671282</td>\n      <td>-1.196484</td>\n      <td>0.816377</td>\n      <td>-0.280795</td>\n      <td>2.649201</td>\n      <td>-0.469892</td>\n      <td>-0.502118</td>\n      <td>-0.943992</td>\n    </tr>\n    <tr>\n      <th>8</th>\n      <td>0</td>\n      <td>1.439442</td>\n      <td>-1.786345</td>\n      <td>2.748700</td>\n      <td>-1.029947</td>\n      <td>-0.728192</td>\n      <td>-1.028477</td>\n      <td>0.715047</td>\n      <td>0.978372</td>\n      <td>0.527311</td>\n    </tr>\n    <tr>\n      <th>9</th>\n      <td>1</td>\n      <td>-1.175759</td>\n      <td>0.452083</td>\n      <td>-0.431377</td>\n      <td>0.763694</td>\n      <td>-1.228274</td>\n      <td>-0.948617</td>\n      <td>-1.194530</td>\n      <td>-1.648869</td>\n      <td>1.828185</td>\n    </tr>\n    <tr>\n      <th>10</th>\n      <td>0</td>\n      <td>0.276576</td>\n      <td>-0.146440</td>\n      <td>-1.382795</td>\n      <td>-1.276876</td>\n      <td>2.185432</td>\n      <td>-0.166268</td>\n      <td>0.070175</td>\n      <td>0.050465</td>\n      <td>0.233886</td>\n    </tr>\n    <tr>\n      <th>11</th>\n      <td>1</td>\n      <td>-1.210695</td>\n      <td>0.786706</td>\n      <td>-0.211932</td>\n      <td>2.216466</td>\n      <td>-1.022438</td>\n      <td>-0.174799</td>\n      <td>0.661384</td>\n      <td>-0.153192</td>\n      <td>-0.836254</td>\n    </tr>\n  </tbody>\n</table>\n</div>"
     },
     "execution_count": 28,
     "metadata": {},
     "output_type": "execute_result"
    }
   ],
   "source": [
    "filtered_gyro_dataset_df"
   ],
   "metadata": {
    "collapsed": false,
    "ExecuteTime": {
     "end_time": "2024-02-16T19:08:37.293340Z",
     "start_time": "2024-02-16T19:08:37.284975Z"
    }
   },
   "id": "1b105377f21acfa7"
  },
  {
   "cell_type": "markdown",
   "source": [
    "### Saving to CSV"
   ],
   "metadata": {
    "collapsed": false
   },
   "id": "bf0fd5b3dbee0f83"
  },
  {
   "cell_type": "code",
   "execution_count": 29,
   "outputs": [],
   "source": [
    "filtered_acc_dataset_df.to_csv(final_dataset_path + 'PatchTable_Acceleration_Filtered.csv', index=False)\n",
    "filtered_gyro_dataset_df.to_csv(final_dataset_path + 'PatchTable_Gyroscope_Filtered.csv', index=False)"
   ],
   "metadata": {
    "collapsed": false,
    "ExecuteTime": {
     "end_time": "2024-02-16T19:11:34.766931Z",
     "start_time": "2024-02-16T19:11:34.749423Z"
    }
   },
   "id": "3463ffc8dfd10499"
  },
  {
   "cell_type": "code",
   "execution_count": null,
   "outputs": [],
   "source": [],
   "metadata": {
    "collapsed": false
   },
   "id": "e027b61bd08e5954"
  }
 ],
 "metadata": {
  "kernelspec": {
   "display_name": "Python 3",
   "language": "python",
   "name": "python3"
  },
  "language_info": {
   "codemirror_mode": {
    "name": "ipython",
    "version": 2
   },
   "file_extension": ".py",
   "mimetype": "text/x-python",
   "name": "python",
   "nbconvert_exporter": "python",
   "pygments_lexer": "ipython2",
   "version": "2.7.6"
  }
 },
 "nbformat": 4,
 "nbformat_minor": 5
}
