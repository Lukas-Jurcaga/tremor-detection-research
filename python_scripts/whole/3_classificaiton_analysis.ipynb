{
 "cells": [
  {
   "cell_type": "code",
   "execution_count": 262,
   "outputs": [],
   "source": [
    "import pandas as pd\n",
    "import numpy as np\n",
    "from python_scripts.utils.feature_selection import *\n",
    "from sklearn.model_selection import LeaveOneOut\n",
    "from sklearn.linear_model import LogisticRegression\n",
    "from sklearn.svm import SVC\n",
    "from sklearn.metrics import accuracy_score\n",
    "from sklearn.model_selection import GroupKFold"
   ],
   "metadata": {
    "collapsed": false,
    "ExecuteTime": {
     "end_time": "2024-02-19T00:38:23.047121Z",
     "start_time": "2024-02-19T00:38:22.994657Z"
    }
   },
   "id": "467f7249f650e6f6"
  },
  {
   "cell_type": "markdown",
   "source": [
    "# Classification"
   ],
   "metadata": {
    "collapsed": false
   },
   "id": "cbb8871a0bd8cd9b"
  },
  {
   "cell_type": "code",
   "execution_count": 263,
   "id": "initial_id",
   "metadata": {
    "collapsed": true,
    "ExecuteTime": {
     "end_time": "2024-02-19T00:38:23.063158Z",
     "start_time": "2024-02-19T00:38:23.000486Z"
    }
   },
   "outputs": [],
   "source": [
    "final_dataset_path = '../../dataset/final/whole/'\n",
    "acc_dataset_path = final_dataset_path + 'PatchTable_Acceleration_Filtered.csv'\n",
    "gyro_dataset_path = final_dataset_path + 'PatchTable_Gyroscope_Filtered.csv'"
   ]
  },
  {
   "cell_type": "code",
   "execution_count": 264,
   "outputs": [],
   "source": [
    "acc_dataset_df = pd.read_csv(acc_dataset_path)\n",
    "gyro_dataset_df = pd.read_csv(gyro_dataset_path)\n",
    "acc_id_pairs = (pd.read_csv(final_dataset_path + 'PatchTable_Acceleration_Normalised.csv'))[['Subject']].values\n",
    "gyro_id_pairs = (pd.read_csv(final_dataset_path + 'PatchTable_Gyroscope_Normalised.csv'))[['Subject']].values"
   ],
   "metadata": {
    "collapsed": false,
    "ExecuteTime": {
     "end_time": "2024-02-19T00:38:23.067565Z",
     "start_time": "2024-02-19T00:38:23.005348Z"
    }
   },
   "id": "42563d981780aee8"
  },
  {
   "cell_type": "code",
   "execution_count": 265,
   "outputs": [
    {
     "data": {
      "text/plain": "array([[1],\n       [1],\n       [2],\n       [2],\n       [3],\n       [3],\n       [4],\n       [4],\n       [5],\n       [5],\n       [6],\n       [6]])"
     },
     "execution_count": 265,
     "metadata": {},
     "output_type": "execute_result"
    }
   ],
   "source": [
    "gyro_id_pairs"
   ],
   "metadata": {
    "collapsed": false,
    "ExecuteTime": {
     "end_time": "2024-02-19T00:38:23.067707Z",
     "start_time": "2024-02-19T00:38:23.020589Z"
    }
   },
   "id": "5bd039acf7f93d4d"
  },
  {
   "cell_type": "code",
   "execution_count": 266,
   "outputs": [
    {
     "data": {
      "text/plain": "array([[1],\n       [1],\n       [2],\n       [2],\n       [3],\n       [3],\n       [4],\n       [4],\n       [5],\n       [5],\n       [6],\n       [6]])"
     },
     "execution_count": 266,
     "metadata": {},
     "output_type": "execute_result"
    }
   ],
   "source": [
    "acc_id_pairs"
   ],
   "metadata": {
    "collapsed": false,
    "ExecuteTime": {
     "end_time": "2024-02-19T00:38:23.067759Z",
     "start_time": "2024-02-19T00:38:23.025916Z"
    }
   },
   "id": "fa16f167486d6195"
  },
  {
   "cell_type": "code",
   "execution_count": 267,
   "outputs": [
    {
     "data": {
      "text/plain": "    Class  InterQuartileRange_SigComplete_AP  \\\n0       0                          -0.452761   \n1       1                          -0.054259   \n2       0                          -0.805942   \n3       1                          -0.289066   \n4       0                          -0.550220   \n5       1                           1.854334   \n6       0                          -0.005317   \n7       1                           2.448761   \n8       0                          -0.893207   \n9       1                          -0.397876   \n10      0                          -0.422660   \n11      1                          -0.431788   \n\n    RelativePower_BelowDomFr_Magnitude  CentroidSpMean_Magnitude  \n0                            -0.676916                 -0.092303  \n1                             0.522940                  2.227281  \n2                            -0.862825                 -0.108542  \n3                             0.246958                  1.621542  \n4                            -0.747132                 -0.473631  \n5                            -0.479493                 -0.277505  \n6                            -0.893267                 -1.897663  \n7                             0.611405                  0.088414  \n8                            -0.781816                 -0.526397  \n9                             2.500430                  0.002039  \n10                           -0.581239                 -0.429143  \n11                            1.140954                 -0.134092  ",
      "text/html": "<div>\n<style scoped>\n    .dataframe tbody tr th:only-of-type {\n        vertical-align: middle;\n    }\n\n    .dataframe tbody tr th {\n        vertical-align: top;\n    }\n\n    .dataframe thead th {\n        text-align: right;\n    }\n</style>\n<table border=\"1\" class=\"dataframe\">\n  <thead>\n    <tr style=\"text-align: right;\">\n      <th></th>\n      <th>Class</th>\n      <th>InterQuartileRange_SigComplete_AP</th>\n      <th>RelativePower_BelowDomFr_Magnitude</th>\n      <th>CentroidSpMean_Magnitude</th>\n    </tr>\n  </thead>\n  <tbody>\n    <tr>\n      <th>0</th>\n      <td>0</td>\n      <td>-0.452761</td>\n      <td>-0.676916</td>\n      <td>-0.092303</td>\n    </tr>\n    <tr>\n      <th>1</th>\n      <td>1</td>\n      <td>-0.054259</td>\n      <td>0.522940</td>\n      <td>2.227281</td>\n    </tr>\n    <tr>\n      <th>2</th>\n      <td>0</td>\n      <td>-0.805942</td>\n      <td>-0.862825</td>\n      <td>-0.108542</td>\n    </tr>\n    <tr>\n      <th>3</th>\n      <td>1</td>\n      <td>-0.289066</td>\n      <td>0.246958</td>\n      <td>1.621542</td>\n    </tr>\n    <tr>\n      <th>4</th>\n      <td>0</td>\n      <td>-0.550220</td>\n      <td>-0.747132</td>\n      <td>-0.473631</td>\n    </tr>\n    <tr>\n      <th>5</th>\n      <td>1</td>\n      <td>1.854334</td>\n      <td>-0.479493</td>\n      <td>-0.277505</td>\n    </tr>\n    <tr>\n      <th>6</th>\n      <td>0</td>\n      <td>-0.005317</td>\n      <td>-0.893267</td>\n      <td>-1.897663</td>\n    </tr>\n    <tr>\n      <th>7</th>\n      <td>1</td>\n      <td>2.448761</td>\n      <td>0.611405</td>\n      <td>0.088414</td>\n    </tr>\n    <tr>\n      <th>8</th>\n      <td>0</td>\n      <td>-0.893207</td>\n      <td>-0.781816</td>\n      <td>-0.526397</td>\n    </tr>\n    <tr>\n      <th>9</th>\n      <td>1</td>\n      <td>-0.397876</td>\n      <td>2.500430</td>\n      <td>0.002039</td>\n    </tr>\n    <tr>\n      <th>10</th>\n      <td>0</td>\n      <td>-0.422660</td>\n      <td>-0.581239</td>\n      <td>-0.429143</td>\n    </tr>\n    <tr>\n      <th>11</th>\n      <td>1</td>\n      <td>-0.431788</td>\n      <td>1.140954</td>\n      <td>-0.134092</td>\n    </tr>\n  </tbody>\n</table>\n</div>"
     },
     "execution_count": 267,
     "metadata": {},
     "output_type": "execute_result"
    }
   ],
   "source": [
    "acc_dataset_df"
   ],
   "metadata": {
    "collapsed": false,
    "ExecuteTime": {
     "end_time": "2024-02-19T00:38:23.067945Z",
     "start_time": "2024-02-19T00:38:23.031748Z"
    }
   },
   "id": "4eb8a8e4ec74a99c"
  },
  {
   "cell_type": "code",
   "execution_count": 268,
   "outputs": [],
   "source": [
    "acc_target = acc_dataset_df.iloc[:, 0].copy().values\n",
    "gyro_target = gyro_dataset_df.iloc[:, 0].copy().values\n",
    "acc_features = acc_dataset_df.iloc[:, 1:].copy().values\n",
    "gyro_features = gyro_dataset_df.iloc[:, 1:].copy().values"
   ],
   "metadata": {
    "collapsed": false,
    "ExecuteTime": {
     "end_time": "2024-02-19T00:38:23.067986Z",
     "start_time": "2024-02-19T00:38:23.035821Z"
    }
   },
   "id": "bb0f5e19f2095882"
  },
  {
   "cell_type": "code",
   "execution_count": 269,
   "outputs": [
    {
     "data": {
      "text/plain": "array([0, 1, 0, 1, 0, 1, 0, 1, 0, 1, 0, 1])"
     },
     "execution_count": 269,
     "metadata": {},
     "output_type": "execute_result"
    }
   ],
   "source": [
    "acc_target"
   ],
   "metadata": {
    "collapsed": false,
    "ExecuteTime": {
     "end_time": "2024-02-19T00:38:23.068033Z",
     "start_time": "2024-02-19T00:38:23.038323Z"
    }
   },
   "id": "a96323232e2de5e1"
  },
  {
   "cell_type": "code",
   "execution_count": 270,
   "outputs": [
    {
     "data": {
      "text/plain": "array([[ 2.0081014 , -1.68061471,  2.06283573, -1.1724484 ,  1.01757218,\n         0.9649292 ],\n       [-0.25835587,  2.11163737,  0.08286107, -0.49128046, -0.60046568,\n        -0.13256084],\n       [-0.53582523,  0.08603492,  0.76873543, -0.59279016, -0.40217005,\n        -0.59284529],\n       [ 0.3427882 , -0.39283755, -0.11629117,  0.38101458, -0.87992794,\n        -1.11103711],\n       [-0.65131254,  0.17194626,  0.13085001,  0.1924012 ,  1.87433752,\n         0.9419858 ],\n       [ 1.93884686, -0.10966649, -0.19985124,  0.79601264,  0.4867619 ,\n        -0.79365987],\n       [-1.19793235, -0.16378657, -2.5409332 , -0.60262311, -0.65387359,\n         1.99852933],\n       [-0.683908  ,  0.67128232,  0.0376755 ,  0.81637719, -0.57451264,\n        -0.50211797],\n       [-0.70879417, -1.78634531,  0.20359641, -1.02994748, -0.31564788,\n         0.97837192],\n       [ 0.45005357,  0.45208313, -0.26547619,  0.76369399,  0.9067626 ,\n        -1.64886903],\n       [-0.83013728, -0.14643972,  0.41456923, -1.27687615,  0.96155773,\n         0.05046542],\n       [ 0.12647541,  0.78670635, -0.57857157,  2.21646617, -1.82039415,\n        -0.15319157]])"
     },
     "execution_count": 270,
     "metadata": {},
     "output_type": "execute_result"
    }
   ],
   "source": [
    "gyro_features"
   ],
   "metadata": {
    "collapsed": false,
    "ExecuteTime": {
     "end_time": "2024-02-19T00:38:23.068102Z",
     "start_time": "2024-02-19T00:38:23.041530Z"
    }
   },
   "id": "c3a4f8acce85861e"
  },
  {
   "cell_type": "markdown",
   "source": [
    "### Logistic Regression"
   ],
   "metadata": {
    "collapsed": false
   },
   "id": "188e0b3925235e0e"
  },
  {
   "cell_type": "code",
   "execution_count": 271,
   "outputs": [
    {
     "name": "stdout",
     "output_type": "stream",
     "text": [
      "Accuracy: 0.8333333333333334\n"
     ]
    }
   ],
   "source": [
    "# Assuming X and y are your feature matrix and target vector, respectively\n",
    "\n",
    "# Initialize the logistic regression model\n",
    "model = LogisticRegression()\n",
    "\n",
    "# Initialize lists to store predictions and true labels\n",
    "predictions = []\n",
    "true_labels = []\n",
    "\n",
    "# Initialize GroupKFold cross-validator\n",
    "group_kfold = GroupKFold(n_splits=len(np.unique(gyro_id_pairs)))\n",
    "\n",
    "# Iterate over each train-test split\n",
    "for train_index, test_index in group_kfold.split(gyro_features, gyro_target, groups=gyro_id_pairs):\n",
    "    # Split data into train and test sets\n",
    "    X_train, X_test = gyro_features[train_index], gyro_features[test_index]\n",
    "    y_train, y_test = gyro_target[train_index], gyro_target[test_index]\n",
    "    \n",
    "    # Fit the model on the training data\n",
    "    model.fit(X_train, y_train)\n",
    "    \n",
    "    # Make predictions on the test data\n",
    "    y_pred = model.predict(X_test)\n",
    "    \n",
    "    # Store predictions and true labels\n",
    "    predictions.append(y_pred[0])\n",
    "    true_labels.append(y_test[0])\n",
    "\n",
    "# Calculate accuracy\n",
    "accuracy = accuracy_score(true_labels, predictions)\n",
    "print(\"Accuracy:\", accuracy)"
   ],
   "metadata": {
    "collapsed": false,
    "ExecuteTime": {
     "end_time": "2024-02-19T00:38:23.068571Z",
     "start_time": "2024-02-19T00:38:23.047034Z"
    }
   },
   "id": "115b7ce5f364189"
  },
  {
   "cell_type": "markdown",
   "source": [
    "### Random Forest"
   ],
   "metadata": {
    "collapsed": false
   },
   "id": "4eb7beab264162fe"
  },
  {
   "cell_type": "code",
   "execution_count": 271,
   "outputs": [],
   "source": [],
   "metadata": {
    "collapsed": false,
    "ExecuteTime": {
     "end_time": "2024-02-19T00:38:23.068604Z",
     "start_time": "2024-02-19T00:38:23.054739Z"
    }
   },
   "id": "252c851e44685fe5"
  },
  {
   "cell_type": "markdown",
   "source": [
    "### Support Vector Machine "
   ],
   "metadata": {
    "collapsed": false
   },
   "id": "50f71207600cadd7"
  },
  {
   "cell_type": "code",
   "execution_count": 271,
   "outputs": [],
   "source": [],
   "metadata": {
    "collapsed": false,
    "ExecuteTime": {
     "end_time": "2024-02-19T00:38:23.068642Z",
     "start_time": "2024-02-19T00:38:23.056931Z"
    }
   },
   "id": "6c970bf2784763d2"
  }
 ],
 "metadata": {
  "kernelspec": {
   "display_name": "Python 3",
   "language": "python",
   "name": "python3"
  },
  "language_info": {
   "codemirror_mode": {
    "name": "ipython",
    "version": 2
   },
   "file_extension": ".py",
   "mimetype": "text/x-python",
   "name": "python",
   "nbconvert_exporter": "python",
   "pygments_lexer": "ipython2",
   "version": "2.7.6"
  }
 },
 "nbformat": 4,
 "nbformat_minor": 5
}
